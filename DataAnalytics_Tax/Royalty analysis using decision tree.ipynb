{
 "cells": [
  {
   "cell_type": "code",
   "execution_count": 21,
   "metadata": {
    "collapsed": false
   },
   "outputs": [],
   "source": [
    "import pandas as pd\n",
    "import numpy as np\n",
    "from pathlib import Path\n",
    "import seaborn as sns\n",
    "\n",
    "DATA_DIR = Path('.')\n",
    "%matplotlib inline "
   ]
  },
  {
   "cell_type": "code",
   "execution_count": 22,
   "metadata": {
    "collapsed": true
   },
   "outputs": [],
   "source": [
    "import matplotlib.pyplot as plt\n",
    "plt.style.use('ggplot')\n",
    "\n",
    "import matplotlib as mpl\n",
    "mpl.rcParams[\"axes.formatter.useoffset\"] = False"
   ]
  },
  {
   "cell_type": "code",
   "execution_count": 32,
   "metadata": {
    "collapsed": false
   },
   "outputs": [
    {
     "data": {
      "text/html": [
       "<div>\n",
       "<table border=\"1\" class=\"dataframe\">\n",
       "  <thead>\n",
       "    <tr style=\"text-align: right;\">\n",
       "      <th></th>\n",
       "      <th>code</th>\n",
       "      <th>country</th>\n",
       "      <th>unrelatedrev</th>\n",
       "      <th>totintercopl</th>\n",
       "      <th>absintercopl</th>\n",
       "      <th>totrevenue</th>\n",
       "      <th>abstotrev</th>\n",
       "    </tr>\n",
       "  </thead>\n",
       "  <tbody>\n",
       "    <tr>\n",
       "      <th>0</th>\n",
       "      <td>2</td>\n",
       "      <td>Argentina</td>\n",
       "      <td>6484473</td>\n",
       "      <td>38048</td>\n",
       "      <td>38048</td>\n",
       "      <td>6522521</td>\n",
       "      <td>6522521</td>\n",
       "    </tr>\n",
       "    <tr>\n",
       "      <th>1</th>\n",
       "      <td>2</td>\n",
       "      <td>Argentina</td>\n",
       "      <td>0</td>\n",
       "      <td>0</td>\n",
       "      <td>0</td>\n",
       "      <td>0</td>\n",
       "      <td>0</td>\n",
       "    </tr>\n",
       "    <tr>\n",
       "      <th>2</th>\n",
       "      <td>2</td>\n",
       "      <td>Argentina</td>\n",
       "      <td>722415</td>\n",
       "      <td>0</td>\n",
       "      <td>0</td>\n",
       "      <td>722415</td>\n",
       "      <td>722415</td>\n",
       "    </tr>\n",
       "    <tr>\n",
       "      <th>3</th>\n",
       "      <td>2</td>\n",
       "      <td>Argentina</td>\n",
       "      <td>0</td>\n",
       "      <td>0</td>\n",
       "      <td>0</td>\n",
       "      <td>0</td>\n",
       "      <td>0</td>\n",
       "    </tr>\n",
       "    <tr>\n",
       "      <th>4</th>\n",
       "      <td>4</td>\n",
       "      <td>Argentina</td>\n",
       "      <td>0</td>\n",
       "      <td>-22084</td>\n",
       "      <td>22084</td>\n",
       "      <td>-22084</td>\n",
       "      <td>22084</td>\n",
       "    </tr>\n",
       "  </tbody>\n",
       "</table>\n",
       "</div>"
      ],
      "text/plain": [
       "   code    country  unrelatedrev  totintercopl  absintercopl  totrevenue  \\\n",
       "0     2  Argentina       6484473         38048         38048     6522521   \n",
       "1     2  Argentina             0             0             0           0   \n",
       "2     2  Argentina        722415             0             0      722415   \n",
       "3     2  Argentina             0             0             0           0   \n",
       "4     4  Argentina             0        -22084         22084      -22084   \n",
       "\n",
       "   abstotrev  \n",
       "0    6522521  \n",
       "1          0  \n",
       "2     722415  \n",
       "3          0  \n",
       "4      22084  "
      ]
     },
     "execution_count": 32,
     "metadata": {},
     "output_type": "execute_result"
    }
   ],
   "source": [
    "df = pd.read_csv(\"CBC IP sig country analysis for python v2.csv\", header=0)\n",
    "df.head()"
   ]
  },
  {
   "cell_type": "code",
   "execution_count": 33,
   "metadata": {
    "collapsed": false
   },
   "outputs": [
    {
     "data": {
      "text/plain": [
       "Index(['code', 'country', 'unrelatedrev', 'totintercopl', 'absintercopl',\n",
       "       'totrevenue', 'abstotrev'],\n",
       "      dtype='object')"
      ]
     },
     "execution_count": 33,
     "metadata": {},
     "output_type": "execute_result"
    }
   ],
   "source": [
    "df.columns"
   ]
  },
  {
   "cell_type": "code",
   "execution_count": 34,
   "metadata": {
    "collapsed": false
   },
   "outputs": [],
   "source": [
    "df_gg=df.groupby([df['code'],df['country']]).agg({'totintercopl':np.sum,'abstotrev':np.sum,'absintercopl':np.sum})"
   ]
  },
  {
   "cell_type": "code",
   "execution_count": 35,
   "metadata": {
    "collapsed": false
   },
   "outputs": [
    {
     "data": {
      "text/html": [
       "<div>\n",
       "<table border=\"1\" class=\"dataframe\">\n",
       "  <thead>\n",
       "    <tr style=\"text-align: right;\">\n",
       "      <th></th>\n",
       "      <th></th>\n",
       "      <th>totintercopl</th>\n",
       "      <th>abstotrev</th>\n",
       "      <th>absintercopl</th>\n",
       "    </tr>\n",
       "    <tr>\n",
       "      <th>code</th>\n",
       "      <th>country</th>\n",
       "      <th></th>\n",
       "      <th></th>\n",
       "      <th></th>\n",
       "    </tr>\n",
       "  </thead>\n",
       "  <tbody>\n",
       "    <tr>\n",
       "      <th rowspan=\"2\" valign=\"top\">1</th>\n",
       "      <th>Australia</th>\n",
       "      <td>6559397</td>\n",
       "      <td>202572029</td>\n",
       "      <td>9886985</td>\n",
       "    </tr>\n",
       "    <tr>\n",
       "      <th>Austria</th>\n",
       "      <td>62449</td>\n",
       "      <td>7597464</td>\n",
       "      <td>64575</td>\n",
       "    </tr>\n",
       "  </tbody>\n",
       "</table>\n",
       "</div>"
      ],
      "text/plain": [
       "                totintercopl  abstotrev  absintercopl\n",
       "code country                                         \n",
       "1    Australia       6559397  202572029       9886985\n",
       "     Austria           62449    7597464         64575"
      ]
     },
     "execution_count": 35,
     "metadata": {},
     "output_type": "execute_result"
    }
   ],
   "source": [
    "df_gg.head(2)"
   ]
  },
  {
   "cell_type": "code",
   "execution_count": 36,
   "metadata": {
    "collapsed": false
   },
   "outputs": [],
   "source": [
    "g=df_gg['abstotrev'].groupby(level=0,group_keys=False)"
   ]
  },
  {
   "cell_type": "code",
   "execution_count": 37,
   "metadata": {
    "collapsed": false
   },
   "outputs": [],
   "source": [
    "s=g.nlargest(20)"
   ]
  },
  {
   "cell_type": "code",
   "execution_count": 38,
   "metadata": {
    "collapsed": false
   },
   "outputs": [
    {
     "data": {
      "text/plain": [
       "code  country             \n",
       "1     United States           606,991,528\n",
       "      Germany                 243,827,833\n",
       "      Australia               202,572,029\n",
       "      United Kingdom          197,626,982\n",
       "      Spain                   156,152,109\n",
       "      Russia                   79,335,720\n",
       "      Brazil                   78,462,585\n",
       "      Japan                    68,604,047\n",
       "      New Zealand              59,030,521\n",
       "      China                    57,684,932\n",
       "      France                   54,748,139\n",
       "      United Arab Emirates     44,934,998\n",
       "      Canada                   34,271,713\n",
       "      Portugal                 34,038,950\n",
       "      Belgium                  27,417,099\n",
       "      Singapore                20,224,775\n",
       "      Korea                    17,173,572\n",
       "      Malaysia                 16,133,700\n",
       "      Mexico                   14,215,542\n",
       "      Italy                    13,275,976\n",
       "2     United States           529,237,855\n",
       "      Brazil                  174,708,716\n",
       "      Germany                 167,223,732\n",
       "      United Kingdom          166,415,147\n",
       "      France                  138,993,796\n",
       "      Canada                   74,262,050\n",
       "      India                    59,672,499\n",
       "      Australia                51,074,905\n",
       "      Singapore                36,110,011\n",
       "      Netherlands              34,616,133\n",
       "                                 ...     \n",
       "5     China                   135,838,850\n",
       "      Australia               110,996,165\n",
       "      United Arab Emirates     95,119,658\n",
       "      France                   58,010,697\n",
       "      Czech Republic           49,705,075\n",
       "      Italy                    43,930,919\n",
       "      Singapore                41,846,557\n",
       "      Spain                    39,404,190\n",
       "      New Zealand              36,996,904\n",
       "      Poland                   26,912,254\n",
       "      Denmark                  25,550,080\n",
       "      Hong Kong                24,374,138\n",
       "      Sweden                   21,872,817\n",
       "      Finland                  20,257,765\n",
       "      Chile                    18,579,210\n",
       "      Netherlands              17,824,335\n",
       "9     United States           919,423,786\n",
       "      United Kingdom          143,429,367\n",
       "      Brazil                   15,243,049\n",
       "      Ireland                  14,747,753\n",
       "      Australia                 9,808,760\n",
       "      Singapore                 3,319,529\n",
       "      South Africa              2,897,199\n",
       "      China                     2,674,016\n",
       "      Hong Kong                 2,187,943\n",
       "      Canada                    1,308,799\n",
       "      India                     1,051,958\n",
       "      Russia                      884,477\n",
       "      Chile                       183,657\n",
       "      Germany                     105,806\n",
       "Name: abstotrev, dtype: object"
      ]
     },
     "execution_count": 38,
     "metadata": {},
     "output_type": "execute_result"
    }
   ],
   "source": [
    "s.apply(lambda x: '{:,.0f}'.format(x))"
   ]
  },
  {
   "cell_type": "code",
   "execution_count": 39,
   "metadata": {
    "collapsed": false
   },
   "outputs": [
    {
     "data": {
      "text/plain": [
       "code  country             \n",
       "1     Denmark                 1.000\n",
       "      Hungary                 1.000\n",
       "      Netherlands             1.000\n",
       "      Singapore               0.297\n",
       "      Greece                  0.290\n",
       "      Canada                  0.185\n",
       "      United States           0.123\n",
       "      United Kingdom          0.074\n",
       "      Australia               0.049\n",
       "      Taiwan                  0.045\n",
       "2     Ireland                 1.000\n",
       "      Hong Kong               0.193\n",
       "      United States           0.139\n",
       "      Brazil                  0.129\n",
       "      United Kingdom          0.125\n",
       "      Japan                   0.055\n",
       "      Singapore               0.052\n",
       "      China                   0.048\n",
       "      Denmark                 0.045\n",
       "      Norway                  0.045\n",
       "3     United Arab Emirates    0.152\n",
       "      United States           0.090\n",
       "      Hong Kong               0.088\n",
       "      Indonesia               0.059\n",
       "      Malaysia                0.058\n",
       "      Singapore               0.056\n",
       "      Czech Republic          0.050\n",
       "      Philippines             0.049\n",
       "      Germany                 0.047\n",
       "      Belgium                 0.046\n",
       "4     Portugal                1.000\n",
       "      Romania                 1.000\n",
       "      France                  0.146\n",
       "      United States           0.139\n",
       "      Netherlands             0.122\n",
       "      South Africa            0.068\n",
       "      Denmark                 0.060\n",
       "      Singapore               0.058\n",
       "      India                   0.051\n",
       "      Argentina               0.048\n",
       "5     Singapore               0.310\n",
       "      South Africa            0.145\n",
       "      United Kingdom          0.127\n",
       "      Greece                  0.079\n",
       "      United Arab Emirates    0.070\n",
       "      Thailand                0.045\n",
       "      Malaysia                0.044\n",
       "      Taiwan                  0.044\n",
       "      Hungary                 0.042\n",
       "      Saudi Arabia            0.041\n",
       "9     Australia               1.000\n",
       "      Brazil                  1.000\n",
       "      Canada                  1.000\n",
       "      Chile                   1.000\n",
       "      China                   1.000\n",
       "      Germany                 1.000\n",
       "      Hong Kong               1.000\n",
       "      India                   1.000\n",
       "      Ireland                 1.000\n",
       "      Russia                  1.000\n",
       "Name: rprev_ratio, dtype: float64"
      ]
     },
     "execution_count": 39,
     "metadata": {},
     "output_type": "execute_result"
    }
   ],
   "source": [
    "df_gg['rprev_ratio']=df_gg['absintercopl']/df_gg['abstotrev']\n",
    "g1=df_gg['rprev_ratio'].groupby(level=0,group_keys=False)\n",
    "s1=g1.nlargest(10)\n",
    "s1.apply(lambda x: '{:.3f}'.format(x))\n",
    "s1.round(3)"
   ]
  },
  {
   "cell_type": "code",
   "execution_count": 40,
   "metadata": {
    "collapsed": false
   },
   "outputs": [
    {
     "data": {
      "text/plain": [
       "'def db2csv(s,Table1):\\n    con = sqlite3.connect(\"memory.db\")\\n    cur = con.cursor()\\n\\n    if not os.path.exists(s):\\n        os.makedirs(s)\\n\\n    with open(s, \\'w\\', newline=\\'\\') as csvfile:\\n        spamwriter = csv.writer(csvfile, delimiter=\\';\\', quotechar=\\'|\\', quoting=csv.QUOTE_MINIMAL)\\n        for row in cur.execute(\\'SELECT * FROM Table1 \\'):\\n            spamwriter.writerow(row)\\n    con.commit()\\n'"
      ]
     },
     "execution_count": 40,
     "metadata": {},
     "output_type": "execute_result"
    }
   ],
   "source": [
    "#import os\n",
    "#import csv\n",
    "#import sqlite3\n",
    "\n",
    "'''def db2csv(s,Table1):\n",
    "    con = sqlite3.connect(\"memory.db\")\n",
    "    cur = con.cursor()\n",
    "\n",
    "    if not os.path.exists(s):\n",
    "        os.makedirs(s)\n",
    "\n",
    "    with open(s, 'w', newline='') as csvfile:\n",
    "        spamwriter = csv.writer(csvfile, delimiter=';', quotechar='|', quoting=csv.QUOTE_MINIMAL)\n",
    "        for row in cur.execute('SELECT * FROM Table1 '):\n",
    "            spamwriter.writerow(row)\n",
    "    con.commit()\n",
    "'''"
   ]
  },
  {
   "cell_type": "code",
   "execution_count": 41,
   "metadata": {
    "collapsed": false
   },
   "outputs": [],
   "source": [
    "df1 = pd.DataFrame({'Data': s})\n",
    "writer = pd.ExcelWriter('countrysig.xlsx', engine='xlsxwriter')\n",
    "df1.to_excel(writer, sheet_name='absintercopl')\n",
    "writer.save()"
   ]
  },
  {
   "cell_type": "code",
   "execution_count": 236,
   "metadata": {
    "collapsed": true
   },
   "outputs": [],
   "source": [
    "df2 = pd.DataFrame({'Data': s1})\n",
    "writer = pd.ExcelWriter('countrysig.xlsx', engine='xlsxwriter')\n",
    "df2.to_excel(writer, sheet_name='rprev_ratio')\n",
    "writer.save()"
   ]
  }
 ],
 "metadata": {
  "kernelspec": {
   "display_name": "Python 3",
   "language": "python",
   "name": "python3"
  },
  "language_info": {
   "codemirror_mode": {
    "name": "ipython",
    "version": 3
   },
   "file_extension": ".py",
   "mimetype": "text/x-python",
   "name": "python",
   "nbconvert_exporter": "python",
   "pygments_lexer": "ipython3",
   "version": "3.6.2"
  }
 },
 "nbformat": 4,
 "nbformat_minor": 2
}
