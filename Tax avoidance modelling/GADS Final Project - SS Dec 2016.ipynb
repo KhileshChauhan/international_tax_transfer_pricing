{
 "cells": [
  {
   "cell_type": "markdown",
   "metadata": {},
   "source": [
    "# General Assembly London (DAT-11)\n",
    "\n",
    "## Final Project - Shan Sun"
   ]
  },
  {
   "cell_type": "markdown",
   "metadata": {},
   "source": [
    "This project explores an aspect in a specialised area of international taxation - transfer pricing ('TP'). TP sets prices for goods and services transacted between related parties within a multinational national enpterise ('MNE'). Since 2013, over thirty countries' tax authorities signed up a global initiative to combat Base Erosion and Profit Shifting ('BEPS') using international tax loopholes including TP. One area of particular concern is that MNEs are using TP guidelines on intangible property ('IP') transactions to move profits around the world and achieve aggressive overall tax rate as a group. In this context, this project assumes the following hypothesis:\n",
    "\n",
    "* Service conglomerates in developed countries with intensive investment in intangible and/or highly geared capital structure are likely to adopt aggressive tax planning worldwide and erode home country tax base. "
   ]
  },
  {
   "cell_type": "code",
   "execution_count": 105,
   "metadata": {
    "collapsed": false
   },
   "outputs": [
    {
     "name": "stdout",
     "output_type": "stream",
     "text": [
      "Index([u'company', u'tax_elasticity_2006', u'tax_elasticity_2007',\n",
      "       u'tax_elasticity_2008', u'tax_elasticity_2009', u'tax_elasticity_2010',\n",
      "       u'tax_elasticity_2011', u'tax_elasticity_2012',\n",
      "       u'intangible_asset_intensity_ 2006',\n",
      "       u'intangible_asset_intensity_ 2007',\n",
      "       u'intangible_asset_intensity_ 2008',\n",
      "       u'intangible_asset_intensity_ 2009',\n",
      "       u'intangible_asset_intensity_ 2010',\n",
      "       u'intangible_asset_intensity_ 2011',\n",
      "       u'intangible_asset_intensity_ 2012', u'intangible_PL_intensity_ \\n2006',\n",
      "       u'intangible_PL_intensity_ \\n2007', u'intangible_PL_intensity_ \\n2008',\n",
      "       u'intangible_PL_intensity_ \\n2009', u'intangible_PL_intensity_ \\n2010',\n",
      "       u'intangible_PL_intensity_ \\n2011', u'intangible_PL_intensity_ \\n2012',\n",
      "       u'gearing_2006\\n', u'gearing_2007\\n', u'gearing_2008\\n',\n",
      "       u'gearing_2009\\n', u'gearing_2010\\n', u'gearing_2011\\n',\n",
      "       u'gearing_2012\\n', u'om_2006', u'om_2007', u'om_2008', u'om_2009',\n",
      "       u'om_2010', u'om_2011', u'om_2012', u'main_activity', u'country',\n",
      "       u'no_of_subs'],\n",
      "      dtype='object')\n"
     ]
    }
   ],
   "source": [
    "from __future__ import division\n",
    "import matplotlib.pyplot as plt\n",
    "import numpy as np\n",
    "import pandas as pd\n",
    "import pylab as pl\n",
    "import statsmodels.api as sm\n",
    "import seaborn as sns\n",
    "\n",
    "%matplotlib inline\n",
    "\n",
    "df = pd.read_csv(\"TP.csv\").dropna()\n",
    "\n",
    "print df.columns"
   ]
  },
  {
   "cell_type": "code",
   "execution_count": 106,
   "metadata": {
    "collapsed": false
   },
   "outputs": [
    {
     "data": {
      "text/html": [
       "<div>\n",
       "<table border=\"1\" class=\"dataframe\">\n",
       "  <thead>\n",
       "    <tr style=\"text-align: right;\">\n",
       "      <th></th>\n",
       "      <th>intangible_asset_intensity_ 2006</th>\n",
       "      <th>intangible_asset_intensity_ 2008</th>\n",
       "      <th>intangible_asset_intensity_ 2009</th>\n",
       "      <th>intangible_asset_intensity_ 2010</th>\n",
       "      <th>intangible_asset_intensity_ 2011</th>\n",
       "      <th>intangible_asset_intensity_ 2012</th>\n",
       "      <th>intangible_PL_intensity_ \n",
       "2006</th>\n",
       "      <th>intangible_PL_intensity_ \n",
       "2007</th>\n",
       "      <th>intangible_PL_intensity_ \n",
       "2008</th>\n",
       "      <th>intangible_PL_intensity_ \n",
       "2009</th>\n",
       "      <th>intangible_PL_intensity_ \n",
       "2010</th>\n",
       "      <th>intangible_PL_intensity_ \n",
       "2011</th>\n",
       "      <th>intangible_PL_intensity_ \n",
       "2012</th>\n",
       "      <th>gearing_2006</th>\n",
       "      <th>gearing_2007</th>\n",
       "      <th>gearing_2008</th>\n",
       "      <th>gearing_2009</th>\n",
       "      <th>gearing_2010</th>\n",
       "      <th>gearing_2011</th>\n",
       "      <th>gearing_2012</th>\n",
       "    </tr>\n",
       "  </thead>\n",
       "  <tbody>\n",
       "    <tr>\n",
       "      <th>count</th>\n",
       "      <td>2304.000000</td>\n",
       "      <td>2304.000000</td>\n",
       "      <td>2304.000000</td>\n",
       "      <td>2304.000000</td>\n",
       "      <td>2304.000000</td>\n",
       "      <td>2304.000000</td>\n",
       "      <td>2304.000000</td>\n",
       "      <td>2304.000000</td>\n",
       "      <td>2304.000000</td>\n",
       "      <td>2304.000000</td>\n",
       "      <td>2304.000000</td>\n",
       "      <td>2304.000000</td>\n",
       "      <td>2304.000000</td>\n",
       "      <td>2304.000000</td>\n",
       "      <td>2304.000000</td>\n",
       "      <td>2304.000000</td>\n",
       "      <td>2304.000000</td>\n",
       "      <td>2304.000000</td>\n",
       "      <td>2304.000000</td>\n",
       "      <td>2304.000000</td>\n",
       "    </tr>\n",
       "    <tr>\n",
       "      <th>mean</th>\n",
       "      <td>12.607205</td>\n",
       "      <td>14.316840</td>\n",
       "      <td>14.753906</td>\n",
       "      <td>14.723958</td>\n",
       "      <td>15.176215</td>\n",
       "      <td>15.621094</td>\n",
       "      <td>4.004774</td>\n",
       "      <td>3.977431</td>\n",
       "      <td>4.266493</td>\n",
       "      <td>4.554688</td>\n",
       "      <td>4.279948</td>\n",
       "      <td>4.120226</td>\n",
       "      <td>4.132812</td>\n",
       "      <td>86.704175</td>\n",
       "      <td>82.733663</td>\n",
       "      <td>100.474102</td>\n",
       "      <td>91.250625</td>\n",
       "      <td>85.233451</td>\n",
       "      <td>87.056146</td>\n",
       "      <td>89.756272</td>\n",
       "    </tr>\n",
       "    <tr>\n",
       "      <th>std</th>\n",
       "      <td>17.107810</td>\n",
       "      <td>18.199582</td>\n",
       "      <td>18.483419</td>\n",
       "      <td>18.403761</td>\n",
       "      <td>18.649549</td>\n",
       "      <td>18.977284</td>\n",
       "      <td>8.585726</td>\n",
       "      <td>9.025193</td>\n",
       "      <td>12.532725</td>\n",
       "      <td>14.304078</td>\n",
       "      <td>16.427877</td>\n",
       "      <td>8.753479</td>\n",
       "      <td>7.527670</td>\n",
       "      <td>107.805590</td>\n",
       "      <td>95.165243</td>\n",
       "      <td>115.174115</td>\n",
       "      <td>105.727567</td>\n",
       "      <td>97.939690</td>\n",
       "      <td>98.927703</td>\n",
       "      <td>104.063375</td>\n",
       "    </tr>\n",
       "    <tr>\n",
       "      <th>min</th>\n",
       "      <td>-7.000000</td>\n",
       "      <td>-4.000000</td>\n",
       "      <td>-3.000000</td>\n",
       "      <td>-2.000000</td>\n",
       "      <td>0.000000</td>\n",
       "      <td>0.000000</td>\n",
       "      <td>0.000000</td>\n",
       "      <td>0.000000</td>\n",
       "      <td>0.000000</td>\n",
       "      <td>0.000000</td>\n",
       "      <td>0.000000</td>\n",
       "      <td>0.000000</td>\n",
       "      <td>0.000000</td>\n",
       "      <td>0.000000</td>\n",
       "      <td>0.000000</td>\n",
       "      <td>0.000000</td>\n",
       "      <td>0.000000</td>\n",
       "      <td>0.000000</td>\n",
       "      <td>0.000000</td>\n",
       "      <td>0.000000</td>\n",
       "    </tr>\n",
       "    <tr>\n",
       "      <th>25%</th>\n",
       "      <td>1.000000</td>\n",
       "      <td>1.000000</td>\n",
       "      <td>1.000000</td>\n",
       "      <td>1.000000</td>\n",
       "      <td>1.000000</td>\n",
       "      <td>1.000000</td>\n",
       "      <td>0.000000</td>\n",
       "      <td>0.000000</td>\n",
       "      <td>0.000000</td>\n",
       "      <td>0.000000</td>\n",
       "      <td>0.000000</td>\n",
       "      <td>0.000000</td>\n",
       "      <td>0.000000</td>\n",
       "      <td>21.537500</td>\n",
       "      <td>21.637500</td>\n",
       "      <td>24.232500</td>\n",
       "      <td>23.545000</td>\n",
       "      <td>22.707500</td>\n",
       "      <td>23.407500</td>\n",
       "      <td>24.270000</td>\n",
       "    </tr>\n",
       "    <tr>\n",
       "      <th>50%</th>\n",
       "      <td>4.000000</td>\n",
       "      <td>6.000000</td>\n",
       "      <td>6.000000</td>\n",
       "      <td>6.000000</td>\n",
       "      <td>7.000000</td>\n",
       "      <td>7.000000</td>\n",
       "      <td>1.000000</td>\n",
       "      <td>1.000000</td>\n",
       "      <td>1.000000</td>\n",
       "      <td>2.000000</td>\n",
       "      <td>1.000000</td>\n",
       "      <td>1.000000</td>\n",
       "      <td>1.000000</td>\n",
       "      <td>55.445000</td>\n",
       "      <td>56.540000</td>\n",
       "      <td>67.450000</td>\n",
       "      <td>62.320000</td>\n",
       "      <td>58.130000</td>\n",
       "      <td>58.395000</td>\n",
       "      <td>60.940000</td>\n",
       "    </tr>\n",
       "    <tr>\n",
       "      <th>75%</th>\n",
       "      <td>19.000000</td>\n",
       "      <td>22.000000</td>\n",
       "      <td>24.000000</td>\n",
       "      <td>23.000000</td>\n",
       "      <td>24.000000</td>\n",
       "      <td>25.000000</td>\n",
       "      <td>4.000000</td>\n",
       "      <td>4.000000</td>\n",
       "      <td>4.000000</td>\n",
       "      <td>5.000000</td>\n",
       "      <td>4.000000</td>\n",
       "      <td>5.000000</td>\n",
       "      <td>5.000000</td>\n",
       "      <td>107.432500</td>\n",
       "      <td>107.425000</td>\n",
       "      <td>130.405000</td>\n",
       "      <td>117.580000</td>\n",
       "      <td>109.642500</td>\n",
       "      <td>111.280000</td>\n",
       "      <td>113.930000</td>\n",
       "    </tr>\n",
       "    <tr>\n",
       "      <th>max</th>\n",
       "      <td>95.000000</td>\n",
       "      <td>92.000000</td>\n",
       "      <td>93.000000</td>\n",
       "      <td>88.000000</td>\n",
       "      <td>91.000000</td>\n",
       "      <td>89.000000</td>\n",
       "      <td>175.000000</td>\n",
       "      <td>261.000000</td>\n",
       "      <td>412.000000</td>\n",
       "      <td>540.000000</td>\n",
       "      <td>584.000000</td>\n",
       "      <td>241.000000</td>\n",
       "      <td>96.000000</td>\n",
       "      <td>985.010000</td>\n",
       "      <td>843.160000</td>\n",
       "      <td>975.830000</td>\n",
       "      <td>892.420000</td>\n",
       "      <td>886.290000</td>\n",
       "      <td>833.590000</td>\n",
       "      <td>967.230000</td>\n",
       "    </tr>\n",
       "  </tbody>\n",
       "</table>\n",
       "</div>"
      ],
      "text/plain": [
       "       intangible_asset_intensity_ 2006  intangible_asset_intensity_ 2008  \\\n",
       "count                       2304.000000                       2304.000000   \n",
       "mean                          12.607205                         14.316840   \n",
       "std                           17.107810                         18.199582   \n",
       "min                           -7.000000                         -4.000000   \n",
       "25%                            1.000000                          1.000000   \n",
       "50%                            4.000000                          6.000000   \n",
       "75%                           19.000000                         22.000000   \n",
       "max                           95.000000                         92.000000   \n",
       "\n",
       "       intangible_asset_intensity_ 2009  intangible_asset_intensity_ 2010  \\\n",
       "count                       2304.000000                       2304.000000   \n",
       "mean                          14.753906                         14.723958   \n",
       "std                           18.483419                         18.403761   \n",
       "min                           -3.000000                         -2.000000   \n",
       "25%                            1.000000                          1.000000   \n",
       "50%                            6.000000                          6.000000   \n",
       "75%                           24.000000                         23.000000   \n",
       "max                           93.000000                         88.000000   \n",
       "\n",
       "       intangible_asset_intensity_ 2011  intangible_asset_intensity_ 2012  \\\n",
       "count                       2304.000000                       2304.000000   \n",
       "mean                          15.176215                         15.621094   \n",
       "std                           18.649549                         18.977284   \n",
       "min                            0.000000                          0.000000   \n",
       "25%                            1.000000                          1.000000   \n",
       "50%                            7.000000                          7.000000   \n",
       "75%                           24.000000                         25.000000   \n",
       "max                           91.000000                         89.000000   \n",
       "\n",
       "       intangible_PL_intensity_ \\n2006  intangible_PL_intensity_ \\n2007  \\\n",
       "count                      2304.000000                      2304.000000   \n",
       "mean                          4.004774                         3.977431   \n",
       "std                           8.585726                         9.025193   \n",
       "min                           0.000000                         0.000000   \n",
       "25%                           0.000000                         0.000000   \n",
       "50%                           1.000000                         1.000000   \n",
       "75%                           4.000000                         4.000000   \n",
       "max                         175.000000                       261.000000   \n",
       "\n",
       "       intangible_PL_intensity_ \\n2008  intangible_PL_intensity_ \\n2009  \\\n",
       "count                      2304.000000                      2304.000000   \n",
       "mean                          4.266493                         4.554688   \n",
       "std                          12.532725                        14.304078   \n",
       "min                           0.000000                         0.000000   \n",
       "25%                           0.000000                         0.000000   \n",
       "50%                           1.000000                         2.000000   \n",
       "75%                           4.000000                         5.000000   \n",
       "max                         412.000000                       540.000000   \n",
       "\n",
       "       intangible_PL_intensity_ \\n2010  intangible_PL_intensity_ \\n2011  \\\n",
       "count                      2304.000000                      2304.000000   \n",
       "mean                          4.279948                         4.120226   \n",
       "std                          16.427877                         8.753479   \n",
       "min                           0.000000                         0.000000   \n",
       "25%                           0.000000                         0.000000   \n",
       "50%                           1.000000                         1.000000   \n",
       "75%                           4.000000                         5.000000   \n",
       "max                         584.000000                       241.000000   \n",
       "\n",
       "       intangible_PL_intensity_ \\n2012  gearing_2006\\n  gearing_2007\\n  \\\n",
       "count                      2304.000000     2304.000000     2304.000000   \n",
       "mean                          4.132812       86.704175       82.733663   \n",
       "std                           7.527670      107.805590       95.165243   \n",
       "min                           0.000000        0.000000        0.000000   \n",
       "25%                           0.000000       21.537500       21.637500   \n",
       "50%                           1.000000       55.445000       56.540000   \n",
       "75%                           5.000000      107.432500      107.425000   \n",
       "max                          96.000000      985.010000      843.160000   \n",
       "\n",
       "       gearing_2008\\n  gearing_2009\\n  gearing_2010\\n  gearing_2011\\n  \\\n",
       "count     2304.000000     2304.000000     2304.000000     2304.000000   \n",
       "mean       100.474102       91.250625       85.233451       87.056146   \n",
       "std        115.174115      105.727567       97.939690       98.927703   \n",
       "min          0.000000        0.000000        0.000000        0.000000   \n",
       "25%         24.232500       23.545000       22.707500       23.407500   \n",
       "50%         67.450000       62.320000       58.130000       58.395000   \n",
       "75%        130.405000      117.580000      109.642500      111.280000   \n",
       "max        975.830000      892.420000      886.290000      833.590000   \n",
       "\n",
       "       gearing_2012\\n  \n",
       "count     2304.000000  \n",
       "mean        89.756272  \n",
       "std        104.063375  \n",
       "min          0.000000  \n",
       "25%         24.270000  \n",
       "50%         60.940000  \n",
       "75%        113.930000  \n",
       "max        967.230000  "
      ]
     },
     "execution_count": 106,
     "metadata": {},
     "output_type": "execute_result"
    }
   ],
   "source": [
    "df.describe()"
   ]
  },
  {
   "cell_type": "code",
   "execution_count": 107,
   "metadata": {
    "collapsed": false
   },
   "outputs": [
    {
     "data": {
      "text/plain": [
       "company                             2304\n",
       "tax_elasticity_2006                 2304\n",
       "tax_elasticity_2007                 2304\n",
       "tax_elasticity_2008                 2304\n",
       "tax_elasticity_2009                 2304\n",
       "tax_elasticity_2010                 2304\n",
       "tax_elasticity_2011                 2304\n",
       "tax_elasticity_2012                 2304\n",
       "intangible_asset_intensity_ 2006    2304\n",
       "intangible_asset_intensity_ 2007    2304\n",
       "intangible_asset_intensity_ 2008    2304\n",
       "intangible_asset_intensity_ 2009    2304\n",
       "intangible_asset_intensity_ 2010    2304\n",
       "intangible_asset_intensity_ 2011    2304\n",
       "intangible_asset_intensity_ 2012    2304\n",
       "intangible_PL_intensity_ \\n2006     2304\n",
       "intangible_PL_intensity_ \\n2007     2304\n",
       "intangible_PL_intensity_ \\n2008     2304\n",
       "intangible_PL_intensity_ \\n2009     2304\n",
       "intangible_PL_intensity_ \\n2010     2304\n",
       "intangible_PL_intensity_ \\n2011     2304\n",
       "intangible_PL_intensity_ \\n2012     2304\n",
       "gearing_2006\\n                      2304\n",
       "gearing_2007\\n                      2304\n",
       "gearing_2008\\n                      2304\n",
       "gearing_2009\\n                      2304\n",
       "gearing_2010\\n                      2304\n",
       "gearing_2011\\n                      2304\n",
       "gearing_2012\\n                      2304\n",
       "om_2006                             2304\n",
       "om_2007                             2304\n",
       "om_2008                             2304\n",
       "om_2009                             2304\n",
       "om_2010                             2304\n",
       "om_2011                             2304\n",
       "om_2012                             2304\n",
       "main_activity                       2304\n",
       "country                             2304\n",
       "no_of_subs                          2304\n",
       "dtype: int64"
      ]
     },
     "execution_count": 107,
     "metadata": {},
     "output_type": "execute_result"
    }
   ],
   "source": [
    "df.count()"
   ]
  },
  {
   "cell_type": "code",
   "execution_count": 108,
   "metadata": {
    "collapsed": false
   },
   "outputs": [
    {
     "data": {
      "text/plain": [
       "Index([u'company', u'tax_elasticity_2006', u'tax_elasticity_2007',\n",
       "       u'tax_elasticity_2008', u'tax_elasticity_2009', u'tax_elasticity_2010',\n",
       "       u'tax_elasticity_2011', u'tax_elasticity_2012',\n",
       "       u'intangible_asset_intensity_ 2006',\n",
       "       u'intangible_asset_intensity_ 2007',\n",
       "       u'intangible_asset_intensity_ 2008',\n",
       "       u'intangible_asset_intensity_ 2009',\n",
       "       u'intangible_asset_intensity_ 2010',\n",
       "       u'intangible_asset_intensity_ 2011',\n",
       "       u'intangible_asset_intensity_ 2012', u'intangible_PL_intensity_ \\n2006',\n",
       "       u'intangible_PL_intensity_ \\n2007', u'intangible_PL_intensity_ \\n2008',\n",
       "       u'intangible_PL_intensity_ \\n2009', u'intangible_PL_intensity_ \\n2010',\n",
       "       u'intangible_PL_intensity_ \\n2011', u'intangible_PL_intensity_ \\n2012',\n",
       "       u'gearing_2006\\n', u'gearing_2007\\n', u'gearing_2008\\n',\n",
       "       u'gearing_2009\\n', u'gearing_2010\\n', u'gearing_2011\\n',\n",
       "       u'gearing_2012\\n', u'om_2006', u'om_2007', u'om_2008', u'om_2009',\n",
       "       u'om_2010', u'om_2011', u'om_2012', u'main_activity', u'country',\n",
       "       u'no_of_subs'],\n",
       "      dtype='object')"
      ]
     },
     "execution_count": 108,
     "metadata": {},
     "output_type": "execute_result"
    }
   ],
   "source": [
    "df = df[df.tax_elasticity_2012 != \"#DIV/0!\"]\n",
    "df = df[df.om_2012 != \"n.s.\"]\n",
    "df.columns"
   ]
  },
  {
   "cell_type": "code",
   "execution_count": 109,
   "metadata": {
    "collapsed": false
   },
   "outputs": [
    {
     "data": {
      "text/plain": [
       "company         1926\n",
       "elasticity12    1926\n",
       "IPasset12       1926\n",
       "IPPL12          1926\n",
       "gearing12       1926\n",
       "OM12            1926\n",
       "activity        1926\n",
       "country         1926\n",
       "subs            1926\n",
       "dtype: int64"
      ]
     },
     "execution_count": 109,
     "metadata": {},
     "output_type": "execute_result"
    }
   ],
   "source": [
    "#select 2012 only as a trial and rename the columns to clean up data\n",
    "\n",
    "data_2012 = df[['company','tax_elasticity_2012','intangible_asset_intensity_ 2012','intangible_PL_intensity_ \\n2012','gearing_2012\\n','om_2012', 'main_activity','country', 'no_of_subs']].copy()\n",
    "data_2012.columns = ['company','elasticity12','IPasset12','IPPL12','gearing12','OM12','activity','country','subs']\n",
    "data_2012.count()"
   ]
  },
  {
   "cell_type": "code",
   "execution_count": 110,
   "metadata": {
    "collapsed": false
   },
   "outputs": [
    {
     "data": {
      "text/html": [
       "<div>\n",
       "<table border=\"1\" class=\"dataframe\">\n",
       "  <thead>\n",
       "    <tr style=\"text-align: right;\">\n",
       "      <th></th>\n",
       "      <th>company</th>\n",
       "      <th>elasticity12</th>\n",
       "      <th>IPasset12</th>\n",
       "      <th>IPPL12</th>\n",
       "      <th>gearing12</th>\n",
       "      <th>OM12</th>\n",
       "      <th>activity</th>\n",
       "      <th>country</th>\n",
       "      <th>subs</th>\n",
       "    </tr>\n",
       "  </thead>\n",
       "  <tbody>\n",
       "    <tr>\n",
       "      <th>1</th>\n",
       "      <td>3D SYSTEMS CORPORATION</td>\n",
       "      <td>0.25</td>\n",
       "      <td>51</td>\n",
       "      <td>7</td>\n",
       "      <td>25.43</td>\n",
       "      <td>17.13</td>\n",
       "      <td>Services</td>\n",
       "      <td>United States of America</td>\n",
       "      <td>35</td>\n",
       "    </tr>\n",
       "    <tr>\n",
       "      <th>2</th>\n",
       "      <td>3M COMPANY</td>\n",
       "      <td>0.72</td>\n",
       "      <td>27</td>\n",
       "      <td>5</td>\n",
       "      <td>57.47</td>\n",
       "      <td>21.68</td>\n",
       "      <td>Services</td>\n",
       "      <td>United States of America</td>\n",
       "      <td>121</td>\n",
       "    </tr>\n",
       "    <tr>\n",
       "      <th>3</th>\n",
       "      <td>888 HOLDINGS PLC</td>\n",
       "      <td>1.32</td>\n",
       "      <td>52</td>\n",
       "      <td>7</td>\n",
       "      <td>0.54</td>\n",
       "      <td>10.3</td>\n",
       "      <td>Services</td>\n",
       "      <td>Gibraltar</td>\n",
       "      <td>15</td>\n",
       "    </tr>\n",
       "    <tr>\n",
       "      <th>4</th>\n",
       "      <td>A &amp; A MATERIAL CORP</td>\n",
       "      <td>-0.77</td>\n",
       "      <td>1</td>\n",
       "      <td>1</td>\n",
       "      <td>384.16</td>\n",
       "      <td>0.95</td>\n",
       "      <td>Manufacturing</td>\n",
       "      <td>Japan</td>\n",
       "      <td>11</td>\n",
       "    </tr>\n",
       "    <tr>\n",
       "      <th>5</th>\n",
       "      <td>A-DATA TECHNOLOGY CO., LTD.</td>\n",
       "      <td>1.19</td>\n",
       "      <td>1</td>\n",
       "      <td>1</td>\n",
       "      <td>74.67</td>\n",
       "      <td>2.59</td>\n",
       "      <td>Manufacturing; Wholesale</td>\n",
       "      <td>Taiwan</td>\n",
       "      <td>11</td>\n",
       "    </tr>\n",
       "  </tbody>\n",
       "</table>\n",
       "</div>"
      ],
      "text/plain": [
       "                       company elasticity12  IPasset12  IPPL12  gearing12  \\\n",
       "1       3D SYSTEMS CORPORATION         0.25         51       7      25.43   \n",
       "2                   3M COMPANY         0.72         27       5      57.47   \n",
       "3             888 HOLDINGS PLC         1.32         52       7       0.54   \n",
       "4          A & A MATERIAL CORP        -0.77          1       1     384.16   \n",
       "5  A-DATA TECHNOLOGY CO., LTD.         1.19          1       1      74.67   \n",
       "\n",
       "    OM12                  activity                   country subs  \n",
       "1  17.13                  Services  United States of America   35  \n",
       "2  21.68                  Services  United States of America  121  \n",
       "3   10.3                  Services                 Gibraltar   15  \n",
       "4   0.95             Manufacturing                     Japan   11  \n",
       "5   2.59  Manufacturing; Wholesale                    Taiwan   11  "
      ]
     },
     "execution_count": 110,
     "metadata": {},
     "output_type": "execute_result"
    }
   ],
   "source": [
    "data_2012.head()"
   ]
  },
  {
   "cell_type": "code",
   "execution_count": 111,
   "metadata": {
    "collapsed": false
   },
   "outputs": [
    {
     "data": {
      "text/plain": [
       "company          object\n",
       "elasticity12     object\n",
       "IPasset12         int64\n",
       "IPPL12            int64\n",
       "gearing12       float64\n",
       "OM12             object\n",
       "activity         object\n",
       "country          object\n",
       "subs             object\n",
       "dtype: object"
      ]
     },
     "execution_count": 111,
     "metadata": {},
     "output_type": "execute_result"
    }
   ],
   "source": [
    "data_2012.dtypes"
   ]
  },
  {
   "cell_type": "code",
   "execution_count": 112,
   "metadata": {
    "collapsed": false
   },
   "outputs": [
    {
     "data": {
      "text/plain": [
       "'0.25'"
      ]
     },
     "execution_count": 112,
     "metadata": {},
     "output_type": "execute_result"
    }
   ],
   "source": [
    "data_2012.elasticity12[1]"
   ]
  },
  {
   "cell_type": "code",
   "execution_count": 113,
   "metadata": {
    "collapsed": false
   },
   "outputs": [],
   "source": [
    "data_2012['elasticity12'] = data_2012['elasticity12'].apply(lambda x: float(x))"
   ]
  },
  {
   "cell_type": "code",
   "execution_count": 114,
   "metadata": {
    "collapsed": true
   },
   "outputs": [],
   "source": [
    "data_2012['OM12'] = data_2012['OM12'].apply(lambda x: float(x))"
   ]
  },
  {
   "cell_type": "code",
   "execution_count": 115,
   "metadata": {
    "collapsed": true
   },
   "outputs": [],
   "source": [
    "data_2012['subs'] = data_2012['subs'].apply(lambda x: float(x.replace(\",\", \"\")))"
   ]
  },
  {
   "cell_type": "code",
   "execution_count": 116,
   "metadata": {
    "collapsed": false
   },
   "outputs": [
    {
     "data": {
      "text/plain": [
       "35.0"
      ]
     },
     "execution_count": 116,
     "metadata": {},
     "output_type": "execute_result"
    }
   ],
   "source": [
    "data_2012.subs[1]"
   ]
  },
  {
   "cell_type": "code",
   "execution_count": 117,
   "metadata": {
    "collapsed": true
   },
   "outputs": [],
   "source": [
    "data_2012.loc[data_2012.OM12 > 100, 'OM12'] = 100.0"
   ]
  },
  {
   "cell_type": "code",
   "execution_count": 118,
   "metadata": {
    "collapsed": false
   },
   "outputs": [
    {
     "data": {
      "text/html": [
       "<div>\n",
       "<table border=\"1\" class=\"dataframe\">\n",
       "  <thead>\n",
       "    <tr style=\"text-align: right;\">\n",
       "      <th></th>\n",
       "      <th>elasticity12</th>\n",
       "      <th>IPasset12</th>\n",
       "      <th>IPPL12</th>\n",
       "      <th>gearing12</th>\n",
       "      <th>OM12</th>\n",
       "      <th>subs</th>\n",
       "    </tr>\n",
       "  </thead>\n",
       "  <tbody>\n",
       "    <tr>\n",
       "      <th>count</th>\n",
       "      <td>1926.000000</td>\n",
       "      <td>1926.000000</td>\n",
       "      <td>1926.000000</td>\n",
       "      <td>1926.000000</td>\n",
       "      <td>1926.000000</td>\n",
       "      <td>1926.000000</td>\n",
       "    </tr>\n",
       "    <tr>\n",
       "      <th>mean</th>\n",
       "      <td>0.675914</td>\n",
       "      <td>16.232087</td>\n",
       "      <td>3.571651</td>\n",
       "      <td>87.972285</td>\n",
       "      <td>11.488079</td>\n",
       "      <td>71.828141</td>\n",
       "    </tr>\n",
       "    <tr>\n",
       "      <th>std</th>\n",
       "      <td>10.879861</td>\n",
       "      <td>19.189977</td>\n",
       "      <td>5.611473</td>\n",
       "      <td>93.312878</td>\n",
       "      <td>12.079024</td>\n",
       "      <td>158.645497</td>\n",
       "    </tr>\n",
       "    <tr>\n",
       "      <th>min</th>\n",
       "      <td>-418.570000</td>\n",
       "      <td>0.000000</td>\n",
       "      <td>0.000000</td>\n",
       "      <td>0.000000</td>\n",
       "      <td>0.000000</td>\n",
       "      <td>11.000000</td>\n",
       "    </tr>\n",
       "    <tr>\n",
       "      <th>25%</th>\n",
       "      <td>0.640000</td>\n",
       "      <td>1.000000</td>\n",
       "      <td>0.000000</td>\n",
       "      <td>26.495000</td>\n",
       "      <td>4.325000</td>\n",
       "      <td>16.000000</td>\n",
       "    </tr>\n",
       "    <tr>\n",
       "      <th>50%</th>\n",
       "      <td>0.900000</td>\n",
       "      <td>8.000000</td>\n",
       "      <td>1.000000</td>\n",
       "      <td>63.190000</td>\n",
       "      <td>8.050000</td>\n",
       "      <td>29.000000</td>\n",
       "    </tr>\n",
       "    <tr>\n",
       "      <th>75%</th>\n",
       "      <td>1.110000</td>\n",
       "      <td>26.000000</td>\n",
       "      <td>4.000000</td>\n",
       "      <td>113.970000</td>\n",
       "      <td>14.160000</td>\n",
       "      <td>66.000000</td>\n",
       "    </tr>\n",
       "    <tr>\n",
       "      <th>max</th>\n",
       "      <td>125.250000</td>\n",
       "      <td>89.000000</td>\n",
       "      <td>53.000000</td>\n",
       "      <td>813.190000</td>\n",
       "      <td>100.000000</td>\n",
       "      <td>2670.000000</td>\n",
       "    </tr>\n",
       "  </tbody>\n",
       "</table>\n",
       "</div>"
      ],
      "text/plain": [
       "       elasticity12    IPasset12       IPPL12    gearing12         OM12  \\\n",
       "count   1926.000000  1926.000000  1926.000000  1926.000000  1926.000000   \n",
       "mean       0.675914    16.232087     3.571651    87.972285    11.488079   \n",
       "std       10.879861    19.189977     5.611473    93.312878    12.079024   \n",
       "min     -418.570000     0.000000     0.000000     0.000000     0.000000   \n",
       "25%        0.640000     1.000000     0.000000    26.495000     4.325000   \n",
       "50%        0.900000     8.000000     1.000000    63.190000     8.050000   \n",
       "75%        1.110000    26.000000     4.000000   113.970000    14.160000   \n",
       "max      125.250000    89.000000    53.000000   813.190000   100.000000   \n",
       "\n",
       "              subs  \n",
       "count  1926.000000  \n",
       "mean     71.828141  \n",
       "std     158.645497  \n",
       "min      11.000000  \n",
       "25%      16.000000  \n",
       "50%      29.000000  \n",
       "75%      66.000000  \n",
       "max    2670.000000  "
      ]
     },
     "execution_count": 118,
     "metadata": {},
     "output_type": "execute_result"
    }
   ],
   "source": [
    "data_2012.describe()"
   ]
  },
  {
   "cell_type": "code",
   "execution_count": 119,
   "metadata": {
    "collapsed": false
   },
   "outputs": [
    {
     "name": "stdout",
     "output_type": "stream",
     "text": [
      "2012 mean\n",
      "elasticity12     0.675914\n",
      "IPasset12       16.232087\n",
      "IPPL12           3.571651\n",
      "gearing12       87.972285\n",
      "OM12            11.488079\n",
      "subs            71.828141\n",
      "dtype: float64\n",
      "\n",
      "2012 count\n",
      "company         1926\n",
      "elasticity12    1926\n",
      "IPasset12       1926\n",
      "IPPL12          1926\n",
      "gearing12       1926\n",
      "OM12            1926\n",
      "activity        1926\n",
      "country         1926\n",
      "subs            1926\n",
      "dtype: int64\n",
      "\n",
      "2012 skewness\n",
      "elasticity12   -29.095713\n",
      "IPasset12        1.332810\n",
      "IPPL12           2.846344\n",
      "gearing12        2.650888\n",
      "OM12             3.148496\n",
      "subs             8.821373\n",
      "dtype: float64\n",
      "\n",
      "(1926, 9)\n",
      "\n"
     ]
    },
    {
     "data": {
      "text/html": [
       "<div>\n",
       "<table border=\"1\" class=\"dataframe\">\n",
       "  <thead>\n",
       "    <tr style=\"text-align: right;\">\n",
       "      <th></th>\n",
       "      <th>company</th>\n",
       "      <th>elasticity12</th>\n",
       "      <th>IPasset12</th>\n",
       "      <th>IPPL12</th>\n",
       "      <th>gearing12</th>\n",
       "      <th>OM12</th>\n",
       "      <th>activity</th>\n",
       "      <th>country</th>\n",
       "      <th>subs</th>\n",
       "    </tr>\n",
       "  </thead>\n",
       "  <tbody>\n",
       "    <tr>\n",
       "      <th>1</th>\n",
       "      <td>3D SYSTEMS CORPORATION</td>\n",
       "      <td>0.25</td>\n",
       "      <td>51</td>\n",
       "      <td>7</td>\n",
       "      <td>25.43</td>\n",
       "      <td>17.13</td>\n",
       "      <td>Services</td>\n",
       "      <td>United States of America</td>\n",
       "      <td>35.0</td>\n",
       "    </tr>\n",
       "    <tr>\n",
       "      <th>2</th>\n",
       "      <td>3M COMPANY</td>\n",
       "      <td>0.72</td>\n",
       "      <td>27</td>\n",
       "      <td>5</td>\n",
       "      <td>57.47</td>\n",
       "      <td>21.68</td>\n",
       "      <td>Services</td>\n",
       "      <td>United States of America</td>\n",
       "      <td>121.0</td>\n",
       "    </tr>\n",
       "    <tr>\n",
       "      <th>3</th>\n",
       "      <td>888 HOLDINGS PLC</td>\n",
       "      <td>1.32</td>\n",
       "      <td>52</td>\n",
       "      <td>7</td>\n",
       "      <td>0.54</td>\n",
       "      <td>10.30</td>\n",
       "      <td>Services</td>\n",
       "      <td>Gibraltar</td>\n",
       "      <td>15.0</td>\n",
       "    </tr>\n",
       "    <tr>\n",
       "      <th>4</th>\n",
       "      <td>A &amp; A MATERIAL CORP</td>\n",
       "      <td>-0.77</td>\n",
       "      <td>1</td>\n",
       "      <td>1</td>\n",
       "      <td>384.16</td>\n",
       "      <td>0.95</td>\n",
       "      <td>Manufacturing</td>\n",
       "      <td>Japan</td>\n",
       "      <td>11.0</td>\n",
       "    </tr>\n",
       "    <tr>\n",
       "      <th>5</th>\n",
       "      <td>A-DATA TECHNOLOGY CO., LTD.</td>\n",
       "      <td>1.19</td>\n",
       "      <td>1</td>\n",
       "      <td>1</td>\n",
       "      <td>74.67</td>\n",
       "      <td>2.59</td>\n",
       "      <td>Manufacturing; Wholesale</td>\n",
       "      <td>Taiwan</td>\n",
       "      <td>11.0</td>\n",
       "    </tr>\n",
       "  </tbody>\n",
       "</table>\n",
       "</div>"
      ],
      "text/plain": [
       "                       company  elasticity12  IPasset12  IPPL12  gearing12  \\\n",
       "1       3D SYSTEMS CORPORATION          0.25         51       7      25.43   \n",
       "2                   3M COMPANY          0.72         27       5      57.47   \n",
       "3             888 HOLDINGS PLC          1.32         52       7       0.54   \n",
       "4          A & A MATERIAL CORP         -0.77          1       1     384.16   \n",
       "5  A-DATA TECHNOLOGY CO., LTD.          1.19          1       1      74.67   \n",
       "\n",
       "    OM12                  activity                   country   subs  \n",
       "1  17.13                  Services  United States of America   35.0  \n",
       "2  21.68                  Services  United States of America  121.0  \n",
       "3  10.30                  Services                 Gibraltar   15.0  \n",
       "4   0.95             Manufacturing                     Japan   11.0  \n",
       "5   2.59  Manufacturing; Wholesale                    Taiwan   11.0  "
      ]
     },
     "execution_count": 119,
     "metadata": {},
     "output_type": "execute_result"
    }
   ],
   "source": [
    "#take a peak\n",
    "print '2012 mean'\n",
    "print data_2012.mean()\n",
    "# print data_2012.groupby('activity').elasticity12.mean() - John. this won't work\n",
    "print ''\n",
    "print '2012 count'\n",
    "print data_2012.count()\n",
    "print ''\n",
    "print '2012 skewness'\n",
    "print data_2012.skew()\n",
    "print ''\n",
    "print data_2012.shape\n",
    "print ''\n",
    "data_2012.head()"
   ]
  },
  {
   "cell_type": "code",
   "execution_count": 120,
   "metadata": {
    "collapsed": false
   },
   "outputs": [
    {
     "name": "stdout",
     "output_type": "stream",
     "text": [
      "125.25\n",
      "-418.57\n",
      "Axes(0.125,0.125;0.775x0.775)\n"
     ]
    },
    {
     "data": {
      "text/plain": [
       "(-10, 80)"
      ]
     },
     "execution_count": 120,
     "metadata": {},
     "output_type": "execute_result"
    },
    {
     "data": {
      "image/png": "[encoded data removed]",
      "text/plain": [
       "<matplotlib.figure.Figure at 0x1432b5f8>"
      ]
     },
     "metadata": {},
     "output_type": "display_data"
    }
   ],
   "source": [
    "data_2012.activity.head()\n",
    "print data_2012.elasticity12.max()\n",
    "print data_2012.elasticity12.min()\n",
    "print data_2012['IPasset12'].plot(kind ='box')\n",
    "plt.ylim(-10,80)\n",
    "# print data_2012.groupby('company').describe()\n"
   ]
  },
  {
   "cell_type": "code",
   "execution_count": 121,
   "metadata": {
    "collapsed": false
   },
   "outputs": [
    {
     "name": "stdout",
     "output_type": "stream",
     "text": [
      "89\n",
      "16.2320872274\n",
      "Axes(0.125,0.125;0.775x0.775)\n"
     ]
    },
    {
     "data": {
      "text/plain": [
       "(-10, 80)"
      ]
     },
     "execution_count": 121,
     "metadata": {},
     "output_type": "execute_result"
    },
    {
     "data": {
      "image/png": "[encoded data removed]",
      "text/plain": [
       "<matplotlib.figure.Figure at 0x13f39748>"
      ]
     },
     "metadata": {},
     "output_type": "display_data"
    }
   ],
   "source": [
    "print data_2012.IPasset12.max()\n",
    "print data_2012.IPasset12.mean()\n",
    "print data_2012['IPasset12'].plot(kind ='box')\n",
    "plt.ylim(-10,80)"
   ]
  },
  {
   "cell_type": "code",
   "execution_count": 122,
   "metadata": {
    "collapsed": false
   },
   "outputs": [
    {
     "name": "stdout",
     "output_type": "stream",
     "text": [
      "53\n",
      "3.57165109034\n",
      "Axes(0.125,0.125;0.775x0.775)\n"
     ]
    },
    {
     "data": {
      "text/plain": [
       "(-5, 15)"
      ]
     },
     "execution_count": 122,
     "metadata": {},
     "output_type": "execute_result"
    },
    {
     "data": {
      "image/png": "[encoded data removed]",
      "text/plain": [
       "<matplotlib.figure.Figure at 0x13cef828>"
      ]
     },
     "metadata": {},
     "output_type": "display_data"
    }
   ],
   "source": [
    "print data_2012.IPPL12.max()\n",
    "print data_2012.IPPL12.mean()\n",
    "print data_2012['IPPL12'].plot(kind ='box')\n",
    "plt.ylim(-5,15)"
   ]
  },
  {
   "cell_type": "code",
   "execution_count": 123,
   "metadata": {
    "collapsed": false,
    "scrolled": false
   },
   "outputs": [
    {
     "name": "stdout",
     "output_type": "stream",
     "text": [
      "count    1926.000000\n",
      "mean       87.972285\n",
      "std        93.312878\n",
      "min         0.000000\n",
      "25%        26.495000\n",
      "50%        63.190000\n",
      "75%       113.970000\n",
      "max       813.190000\n",
      "Name: gearing12, dtype: float64\n",
      "Axes(0.125,0.125;0.775x0.775)\n"
     ]
    },
    {
     "data": {
      "text/plain": [
       "(0, 250)"
      ]
     },
     "execution_count": 123,
     "metadata": {},
     "output_type": "execute_result"
    },
    {
     "data": {
      "image/png": "[encoded data removed]",
      "text/plain": [
       "<matplotlib.figure.Figure at 0x13948e48>"
      ]
     },
     "metadata": {},
     "output_type": "display_data"
    }
   ],
   "source": [
    "print data_2012['gearing12'].describe()\n",
    "print data_2012['gearing12'].plot(kind ='box')\n",
    "plt.ylim(0,250)"
   ]
  },
  {
   "cell_type": "code",
   "execution_count": 124,
   "metadata": {
    "collapsed": false
   },
   "outputs": [
    {
     "name": "stdout",
     "output_type": "stream",
     "text": [
      "Axes(0.125,0.125;0.775x0.775)\n",
      "count    1926.000000\n",
      "mean        0.675914\n",
      "std        10.879861\n",
      "min      -418.570000\n",
      "25%         0.640000\n",
      "50%         0.900000\n",
      "75%         1.110000\n",
      "max       125.250000\n",
      "Name: elasticity12, dtype: float64\n"
     ]
    },
    {
     "data": {
      "text/plain": [
       "(0, 2)"
      ]
     },
     "execution_count": 124,
     "metadata": {},
     "output_type": "execute_result"
    },
    {
     "data": {
      "image/png": "[encoded data removed]",
      "text/plain": [
       "<matplotlib.figure.Figure at 0x1353fc50>"
      ]
     },
     "metadata": {},
     "output_type": "display_data"
    }
   ],
   "source": [
    "print data_2012['elasticity12'].plot(kind ='box')\n",
    "print data_2012['elasticity12'].describe()\n",
    "plt.ylim(0,2)"
   ]
  },
  {
   "cell_type": "code",
   "execution_count": 125,
   "metadata": {
    "collapsed": false
   },
   "outputs": [
    {
     "name": "stdout",
     "output_type": "stream",
     "text": [
      "Axes(0.125,0.125;0.775x0.775)\n",
      "count    1926.000000\n",
      "mean       71.828141\n",
      "std       158.645497\n",
      "min        11.000000\n",
      "25%        16.000000\n",
      "50%        29.000000\n",
      "75%        66.000000\n",
      "max      2670.000000\n",
      "Name: subs, dtype: float64\n"
     ]
    },
    {
     "data": {
      "text/plain": [
       "(0, 100)"
      ]
     },
     "execution_count": 125,
     "metadata": {},
     "output_type": "execute_result"
    },
    {
     "data": {
      "image/png": "[encoded data removed]",
      "text/plain": [
       "<matplotlib.figure.Figure at 0x130cbb70>"
      ]
     },
     "metadata": {},
     "output_type": "display_data"
    }
   ],
   "source": [
    "print data_2012['subs'].plot(kind ='box')\n",
    "print data_2012['subs'].describe()\n",
    "plt.ylim(0,100)"
   ]
  },
  {
   "cell_type": "code",
   "execution_count": 126,
   "metadata": {
    "collapsed": false,
    "scrolled": true
   },
   "outputs": [
    {
     "data": {
      "text/plain": [
       "<matplotlib.axes._subplots.AxesSubplot at 0x11ea1320>"
      ]
     },
     "execution_count": 126,
     "metadata": {},
     "output_type": "execute_result"
    },
    {
     "data": {
      "image/png": "[encoded data removed]",
      "text/plain": [
       "<matplotlib.figure.Figure at 0x1303e630>"
      ]
     },
     "metadata": {},
     "output_type": "display_data"
    }
   ],
   "source": [
    "plt.rcParams['figure.figsize'] = (10,10)\n",
    "fig, axs = plt.subplots(5,1)\n",
    "sns.distplot(data_2012['IPasset12'], color='red', ax = axs[0])\n",
    "sns.distplot(data_2012['IPPL12'], color='green', ax = axs[1])\n",
    "sns.distplot(data_2012['gearing12'], color='blue', ax = axs[2])\n",
    "sns.distplot(data_2012['elasticity12'], color='yellow', ax = axs[3])\n",
    "sns.distplot(data_2012['subs'], color='purple', ax = axs[4])"
   ]
  },
  {
   "cell_type": "code",
   "execution_count": 127,
   "metadata": {
    "collapsed": false
   },
   "outputs": [],
   "source": [
    "### print '2012 correlation'\n",
    "#print data_2012.corr()\n",
    "#print ''\n",
    "#colour_map = sns.diverging_palette(225, 125, as_cmap=True)\n",
    "#print sns.heatmap(data_2012[['elasticity12','IPasset12','IPPL12','gearing12','subs']].corr(), cmap=colour_map)"
   ]
  },
  {
   "cell_type": "code",
   "execution_count": 128,
   "metadata": {
    "collapsed": true
   },
   "outputs": [],
   "source": [
    "data_2012['elasticity12'] = data_2012['elasticity12'].apply(lambda x: 0 if x < 1 else 1)"
   ]
  },
  {
   "cell_type": "code",
   "execution_count": 129,
   "metadata": {
    "collapsed": false
   },
   "outputs": [
    {
     "data": {
      "text/html": [
       "<div>\n",
       "<table border=\"1\" class=\"dataframe\">\n",
       "  <thead>\n",
       "    <tr style=\"text-align: right;\">\n",
       "      <th></th>\n",
       "      <th>company</th>\n",
       "      <th>elasticity12</th>\n",
       "      <th>IPasset12</th>\n",
       "      <th>IPPL12</th>\n",
       "      <th>gearing12</th>\n",
       "      <th>OM12</th>\n",
       "      <th>activity</th>\n",
       "      <th>country</th>\n",
       "      <th>subs</th>\n",
       "    </tr>\n",
       "  </thead>\n",
       "  <tbody>\n",
       "    <tr>\n",
       "      <th>1</th>\n",
       "      <td>3D SYSTEMS CORPORATION</td>\n",
       "      <td>0</td>\n",
       "      <td>51</td>\n",
       "      <td>7</td>\n",
       "      <td>25.43</td>\n",
       "      <td>17.13</td>\n",
       "      <td>Services</td>\n",
       "      <td>United States of America</td>\n",
       "      <td>35.0</td>\n",
       "    </tr>\n",
       "    <tr>\n",
       "      <th>2</th>\n",
       "      <td>3M COMPANY</td>\n",
       "      <td>0</td>\n",
       "      <td>27</td>\n",
       "      <td>5</td>\n",
       "      <td>57.47</td>\n",
       "      <td>21.68</td>\n",
       "      <td>Services</td>\n",
       "      <td>United States of America</td>\n",
       "      <td>121.0</td>\n",
       "    </tr>\n",
       "    <tr>\n",
       "      <th>3</th>\n",
       "      <td>888 HOLDINGS PLC</td>\n",
       "      <td>1</td>\n",
       "      <td>52</td>\n",
       "      <td>7</td>\n",
       "      <td>0.54</td>\n",
       "      <td>10.30</td>\n",
       "      <td>Services</td>\n",
       "      <td>Gibraltar</td>\n",
       "      <td>15.0</td>\n",
       "    </tr>\n",
       "    <tr>\n",
       "      <th>4</th>\n",
       "      <td>A &amp; A MATERIAL CORP</td>\n",
       "      <td>0</td>\n",
       "      <td>1</td>\n",
       "      <td>1</td>\n",
       "      <td>384.16</td>\n",
       "      <td>0.95</td>\n",
       "      <td>Manufacturing</td>\n",
       "      <td>Japan</td>\n",
       "      <td>11.0</td>\n",
       "    </tr>\n",
       "    <tr>\n",
       "      <th>5</th>\n",
       "      <td>A-DATA TECHNOLOGY CO., LTD.</td>\n",
       "      <td>1</td>\n",
       "      <td>1</td>\n",
       "      <td>1</td>\n",
       "      <td>74.67</td>\n",
       "      <td>2.59</td>\n",
       "      <td>Manufacturing; Wholesale</td>\n",
       "      <td>Taiwan</td>\n",
       "      <td>11.0</td>\n",
       "    </tr>\n",
       "    <tr>\n",
       "      <th>6</th>\n",
       "      <td>A.O. SMITH CORPORATION</td>\n",
       "      <td>0</td>\n",
       "      <td>34</td>\n",
       "      <td>3</td>\n",
       "      <td>49.47</td>\n",
       "      <td>10.93</td>\n",
       "      <td>Manufacturing; Wholesale</td>\n",
       "      <td>United States of America</td>\n",
       "      <td>33.0</td>\n",
       "    </tr>\n",
       "    <tr>\n",
       "      <th>7</th>\n",
       "      <td>AASTRA TECHNOLOGIES LIMITED</td>\n",
       "      <td>0</td>\n",
       "      <td>13</td>\n",
       "      <td>9</td>\n",
       "      <td>17.30</td>\n",
       "      <td>3.84</td>\n",
       "      <td>Services</td>\n",
       "      <td>Canada</td>\n",
       "      <td>29.0</td>\n",
       "    </tr>\n",
       "    <tr>\n",
       "      <th>8</th>\n",
       "      <td>AB ELECTROLUX</td>\n",
       "      <td>0</td>\n",
       "      <td>13</td>\n",
       "      <td>2</td>\n",
       "      <td>102.49</td>\n",
       "      <td>3.72</td>\n",
       "      <td>Manufacturing</td>\n",
       "      <td>Sweden</td>\n",
       "      <td>102.0</td>\n",
       "    </tr>\n",
       "    <tr>\n",
       "      <th>9</th>\n",
       "      <td>AB SAGAX</td>\n",
       "      <td>0</td>\n",
       "      <td>0</td>\n",
       "      <td>0</td>\n",
       "      <td>249.35</td>\n",
       "      <td>86.33</td>\n",
       "      <td>Services</td>\n",
       "      <td>Sweden</td>\n",
       "      <td>84.0</td>\n",
       "    </tr>\n",
       "    <tr>\n",
       "      <th>10</th>\n",
       "      <td>AB VOLVO</td>\n",
       "      <td>1</td>\n",
       "      <td>8</td>\n",
       "      <td>5</td>\n",
       "      <td>188.36</td>\n",
       "      <td>5.82</td>\n",
       "      <td>Manufacturing</td>\n",
       "      <td>Sweden</td>\n",
       "      <td>62.0</td>\n",
       "    </tr>\n",
       "  </tbody>\n",
       "</table>\n",
       "</div>"
      ],
      "text/plain": [
       "                        company  elasticity12  IPasset12  IPPL12  gearing12  \\\n",
       "1        3D SYSTEMS CORPORATION             0         51       7      25.43   \n",
       "2                    3M COMPANY             0         27       5      57.47   \n",
       "3              888 HOLDINGS PLC             1         52       7       0.54   \n",
       "4           A & A MATERIAL CORP             0          1       1     384.16   \n",
       "5   A-DATA TECHNOLOGY CO., LTD.             1          1       1      74.67   \n",
       "6        A.O. SMITH CORPORATION             0         34       3      49.47   \n",
       "7   AASTRA TECHNOLOGIES LIMITED             0         13       9      17.30   \n",
       "8                 AB ELECTROLUX             0         13       2     102.49   \n",
       "9                      AB SAGAX             0          0       0     249.35   \n",
       "10                     AB VOLVO             1          8       5     188.36   \n",
       "\n",
       "     OM12                  activity                   country   subs  \n",
       "1   17.13                  Services  United States of America   35.0  \n",
       "2   21.68                  Services  United States of America  121.0  \n",
       "3   10.30                  Services                 Gibraltar   15.0  \n",
       "4    0.95             Manufacturing                     Japan   11.0  \n",
       "5    2.59  Manufacturing; Wholesale                    Taiwan   11.0  \n",
       "6   10.93  Manufacturing; Wholesale  United States of America   33.0  \n",
       "7    3.84                  Services                    Canada   29.0  \n",
       "8    3.72             Manufacturing                    Sweden  102.0  \n",
       "9   86.33                  Services                    Sweden   84.0  \n",
       "10   5.82             Manufacturing                    Sweden   62.0  "
      ]
     },
     "execution_count": 129,
     "metadata": {},
     "output_type": "execute_result"
    }
   ],
   "source": [
    "data_2012.head(10)"
   ]
  },
  {
   "cell_type": "code",
   "execution_count": 130,
   "metadata": {
    "collapsed": false
   },
   "outputs": [],
   "source": [
    "# dummy_ranks_activity = pd.get_dummies(data_2012['activity'], prefix = 'activity', drop_first=False)\n",
    "#dummy_ranks_country = pd.get_dummies(data_2012['country'], prefix = 'ctryname', drop_first= True)"
   ]
  },
  {
   "cell_type": "code",
   "execution_count": 131,
   "metadata": {
    "collapsed": false
   },
   "outputs": [
    {
     "data": {
      "text/plain": [
       "Index([u'country', u'GDPPC_2012', u'CPI_2012_Score'], dtype='object')"
      ]
     },
     "execution_count": 131,
     "metadata": {},
     "output_type": "execute_result"
    }
   ],
   "source": [
    "df2 = pd.read_csv(\"additionalctrydata.csv\")\n",
    "df2.describe()\n",
    "df2.columns"
   ]
  },
  {
   "cell_type": "code",
   "execution_count": 132,
   "metadata": {
    "collapsed": false
   },
   "outputs": [
    {
     "data": {
      "text/plain": [
       "country           156\n",
       "GDPPC_2012        155\n",
       "CPI_2012_Score    155\n",
       "dtype: int64"
      ]
     },
     "execution_count": 132,
     "metadata": {},
     "output_type": "execute_result"
    }
   ],
   "source": [
    "df2.count()"
   ]
  },
  {
   "cell_type": "code",
   "execution_count": 133,
   "metadata": {
    "collapsed": true
   },
   "outputs": [],
   "source": [
    "#print df2['GDPPC_2012'].plot(kind ='box')\n",
    "#print df2['CPI_2012_Score'].plot(kind ='box')"
   ]
  },
  {
   "cell_type": "code",
   "execution_count": 134,
   "metadata": {
    "collapsed": false
   },
   "outputs": [
    {
     "data": {
      "text/html": [
       "<div>\n",
       "<table border=\"1\" class=\"dataframe\">\n",
       "  <thead>\n",
       "    <tr style=\"text-align: right;\">\n",
       "      <th></th>\n",
       "      <th>company</th>\n",
       "      <th>elasticity12</th>\n",
       "      <th>IPasset12</th>\n",
       "      <th>IPPL12</th>\n",
       "      <th>gearing12</th>\n",
       "      <th>OM12</th>\n",
       "      <th>activity</th>\n",
       "      <th>country</th>\n",
       "      <th>subs</th>\n",
       "      <th>GDPPC_2012</th>\n",
       "      <th>CPI_2012_Score</th>\n",
       "    </tr>\n",
       "  </thead>\n",
       "  <tbody>\n",
       "    <tr>\n",
       "      <th>0</th>\n",
       "      <td>3D SYSTEMS CORPORATION</td>\n",
       "      <td>0</td>\n",
       "      <td>51</td>\n",
       "      <td>7</td>\n",
       "      <td>25.43</td>\n",
       "      <td>17.13</td>\n",
       "      <td>Services</td>\n",
       "      <td>United States of America</td>\n",
       "      <td>35.0</td>\n",
       "      <td>49601.41</td>\n",
       "      <td>73.0</td>\n",
       "    </tr>\n",
       "    <tr>\n",
       "      <th>1</th>\n",
       "      <td>3M COMPANY</td>\n",
       "      <td>0</td>\n",
       "      <td>27</td>\n",
       "      <td>5</td>\n",
       "      <td>57.47</td>\n",
       "      <td>21.68</td>\n",
       "      <td>Services</td>\n",
       "      <td>United States of America</td>\n",
       "      <td>121.0</td>\n",
       "      <td>49601.41</td>\n",
       "      <td>73.0</td>\n",
       "    </tr>\n",
       "    <tr>\n",
       "      <th>2</th>\n",
       "      <td>888 HOLDINGS PLC</td>\n",
       "      <td>1</td>\n",
       "      <td>52</td>\n",
       "      <td>7</td>\n",
       "      <td>0.54</td>\n",
       "      <td>10.30</td>\n",
       "      <td>Services</td>\n",
       "      <td>Gibraltar</td>\n",
       "      <td>15.0</td>\n",
       "      <td>38200.00</td>\n",
       "      <td>74.0</td>\n",
       "    </tr>\n",
       "    <tr>\n",
       "      <th>3</th>\n",
       "      <td>A &amp; A MATERIAL CORP</td>\n",
       "      <td>0</td>\n",
       "      <td>1</td>\n",
       "      <td>1</td>\n",
       "      <td>384.16</td>\n",
       "      <td>0.95</td>\n",
       "      <td>Manufacturing</td>\n",
       "      <td>Japan</td>\n",
       "      <td>11.0</td>\n",
       "      <td>46972.61</td>\n",
       "      <td>74.0</td>\n",
       "    </tr>\n",
       "    <tr>\n",
       "      <th>4</th>\n",
       "      <td>A-DATA TECHNOLOGY CO., LTD.</td>\n",
       "      <td>1</td>\n",
       "      <td>1</td>\n",
       "      <td>1</td>\n",
       "      <td>74.67</td>\n",
       "      <td>2.59</td>\n",
       "      <td>Manufacturing; Wholesale</td>\n",
       "      <td>Taiwan</td>\n",
       "      <td>11.0</td>\n",
       "      <td>20502.70</td>\n",
       "      <td>61.0</td>\n",
       "    </tr>\n",
       "    <tr>\n",
       "      <th>5</th>\n",
       "      <td>A.O. SMITH CORPORATION</td>\n",
       "      <td>0</td>\n",
       "      <td>34</td>\n",
       "      <td>3</td>\n",
       "      <td>49.47</td>\n",
       "      <td>10.93</td>\n",
       "      <td>Manufacturing; Wholesale</td>\n",
       "      <td>United States of America</td>\n",
       "      <td>33.0</td>\n",
       "      <td>49601.41</td>\n",
       "      <td>73.0</td>\n",
       "    </tr>\n",
       "    <tr>\n",
       "      <th>6</th>\n",
       "      <td>AASTRA TECHNOLOGIES LIMITED</td>\n",
       "      <td>0</td>\n",
       "      <td>13</td>\n",
       "      <td>9</td>\n",
       "      <td>17.30</td>\n",
       "      <td>3.84</td>\n",
       "      <td>Services</td>\n",
       "      <td>Canada</td>\n",
       "      <td>29.0</td>\n",
       "      <td>51688.60</td>\n",
       "      <td>84.0</td>\n",
       "    </tr>\n",
       "    <tr>\n",
       "      <th>7</th>\n",
       "      <td>AB ELECTROLUX</td>\n",
       "      <td>0</td>\n",
       "      <td>13</td>\n",
       "      <td>2</td>\n",
       "      <td>102.49</td>\n",
       "      <td>3.72</td>\n",
       "      <td>Manufacturing</td>\n",
       "      <td>Sweden</td>\n",
       "      <td>102.0</td>\n",
       "      <td>57948.39</td>\n",
       "      <td>88.0</td>\n",
       "    </tr>\n",
       "    <tr>\n",
       "      <th>8</th>\n",
       "      <td>AB SAGAX</td>\n",
       "      <td>0</td>\n",
       "      <td>0</td>\n",
       "      <td>0</td>\n",
       "      <td>249.35</td>\n",
       "      <td>86.33</td>\n",
       "      <td>Services</td>\n",
       "      <td>Sweden</td>\n",
       "      <td>84.0</td>\n",
       "      <td>57948.39</td>\n",
       "      <td>88.0</td>\n",
       "    </tr>\n",
       "    <tr>\n",
       "      <th>9</th>\n",
       "      <td>AB VOLVO</td>\n",
       "      <td>1</td>\n",
       "      <td>8</td>\n",
       "      <td>5</td>\n",
       "      <td>188.36</td>\n",
       "      <td>5.82</td>\n",
       "      <td>Manufacturing</td>\n",
       "      <td>Sweden</td>\n",
       "      <td>62.0</td>\n",
       "      <td>57948.39</td>\n",
       "      <td>88.0</td>\n",
       "    </tr>\n",
       "    <tr>\n",
       "      <th>10</th>\n",
       "      <td>ABACUS PROPERTY GROUP</td>\n",
       "      <td>0</td>\n",
       "      <td>2</td>\n",
       "      <td>0</td>\n",
       "      <td>95.97</td>\n",
       "      <td>26.14</td>\n",
       "      <td>Services</td>\n",
       "      <td>Australia</td>\n",
       "      <td>20.0</td>\n",
       "      <td>68915.97</td>\n",
       "      <td>85.0</td>\n",
       "    </tr>\n",
       "    <tr>\n",
       "      <th>11</th>\n",
       "      <td>ABB LTD</td>\n",
       "      <td>1</td>\n",
       "      <td>28</td>\n",
       "      <td>4</td>\n",
       "      <td>93.03</td>\n",
       "      <td>10.30</td>\n",
       "      <td>Services</td>\n",
       "      <td>Switzerland</td>\n",
       "      <td>362.0</td>\n",
       "      <td>78754.19</td>\n",
       "      <td>86.0</td>\n",
       "    </tr>\n",
       "    <tr>\n",
       "      <th>12</th>\n",
       "      <td>ABBOTT LABORATORIES</td>\n",
       "      <td>0</td>\n",
       "      <td>36</td>\n",
       "      <td>7</td>\n",
       "      <td>103.08</td>\n",
       "      <td>13.64</td>\n",
       "      <td>Services</td>\n",
       "      <td>United States of America</td>\n",
       "      <td>315.0</td>\n",
       "      <td>49601.41</td>\n",
       "      <td>73.0</td>\n",
       "    </tr>\n",
       "    <tr>\n",
       "      <th>13</th>\n",
       "      <td>ABCAM PLC</td>\n",
       "      <td>1</td>\n",
       "      <td>66</td>\n",
       "      <td>4</td>\n",
       "      <td>8.73</td>\n",
       "      <td>35.12</td>\n",
       "      <td>Services</td>\n",
       "      <td>United Kingdom</td>\n",
       "      <td>14.0</td>\n",
       "      <td>38891.32</td>\n",
       "      <td>74.0</td>\n",
       "    </tr>\n",
       "    <tr>\n",
       "      <th>14</th>\n",
       "      <td>ABOCOM SYSTEMS INCORPORATED</td>\n",
       "      <td>0</td>\n",
       "      <td>0</td>\n",
       "      <td>3</td>\n",
       "      <td>29.77</td>\n",
       "      <td>1.40</td>\n",
       "      <td>Manufacturing; Services</td>\n",
       "      <td>Taiwan</td>\n",
       "      <td>11.0</td>\n",
       "      <td>20502.70</td>\n",
       "      <td>61.0</td>\n",
       "    </tr>\n",
       "    <tr>\n",
       "      <th>15</th>\n",
       "      <td>ACCIONA S.A.</td>\n",
       "      <td>0</td>\n",
       "      <td>9</td>\n",
       "      <td>2</td>\n",
       "      <td>199.32</td>\n",
       "      <td>19.03</td>\n",
       "      <td>Services</td>\n",
       "      <td>Spain</td>\n",
       "      <td>205.0</td>\n",
       "      <td>30150.24</td>\n",
       "      <td>65.0</td>\n",
       "    </tr>\n",
       "    <tr>\n",
       "      <th>16</th>\n",
       "      <td>ACCOR SA</td>\n",
       "      <td>1</td>\n",
       "      <td>15</td>\n",
       "      <td>0</td>\n",
       "      <td>104.89</td>\n",
       "      <td>5.74</td>\n",
       "      <td>Services</td>\n",
       "      <td>France</td>\n",
       "      <td>201.0</td>\n",
       "      <td>42793.08</td>\n",
       "      <td>71.0</td>\n",
       "    </tr>\n",
       "    <tr>\n",
       "      <th>17</th>\n",
       "      <td>ACCTON TECHNOLOGY CORPORATION</td>\n",
       "      <td>0</td>\n",
       "      <td>0</td>\n",
       "      <td>4</td>\n",
       "      <td>5.82</td>\n",
       "      <td>3.99</td>\n",
       "      <td>Manufacturing</td>\n",
       "      <td>Taiwan</td>\n",
       "      <td>14.0</td>\n",
       "      <td>20502.70</td>\n",
       "      <td>61.0</td>\n",
       "    </tr>\n",
       "    <tr>\n",
       "      <th>18</th>\n",
       "      <td>ACER INC.</td>\n",
       "      <td>0</td>\n",
       "      <td>17</td>\n",
       "      <td>1</td>\n",
       "      <td>30.46</td>\n",
       "      <td>0.40</td>\n",
       "      <td>Services</td>\n",
       "      <td>Taiwan</td>\n",
       "      <td>40.0</td>\n",
       "      <td>20502.70</td>\n",
       "      <td>61.0</td>\n",
       "    </tr>\n",
       "    <tr>\n",
       "      <th>19</th>\n",
       "      <td>ACERINOX SA</td>\n",
       "      <td>0</td>\n",
       "      <td>2</td>\n",
       "      <td>0</td>\n",
       "      <td>84.47</td>\n",
       "      <td>1.05</td>\n",
       "      <td>Manufacturing; Wholesale</td>\n",
       "      <td>Spain</td>\n",
       "      <td>37.0</td>\n",
       "      <td>30150.24</td>\n",
       "      <td>65.0</td>\n",
       "    </tr>\n",
       "    <tr>\n",
       "      <th>20</th>\n",
       "      <td>ACHEM TECHNOLOGY CORPORATION</td>\n",
       "      <td>1</td>\n",
       "      <td>3</td>\n",
       "      <td>0</td>\n",
       "      <td>103.06</td>\n",
       "      <td>5.37</td>\n",
       "      <td>Manufacturing</td>\n",
       "      <td>Taiwan</td>\n",
       "      <td>11.0</td>\n",
       "      <td>20502.70</td>\n",
       "      <td>61.0</td>\n",
       "    </tr>\n",
       "    <tr>\n",
       "      <th>21</th>\n",
       "      <td>ACHILLES CORPORATION</td>\n",
       "      <td>1</td>\n",
       "      <td>1</td>\n",
       "      <td>2</td>\n",
       "      <td>27.43</td>\n",
       "      <td>1.99</td>\n",
       "      <td>Manufacturing; Wholesale</td>\n",
       "      <td>Japan</td>\n",
       "      <td>20.0</td>\n",
       "      <td>46972.61</td>\n",
       "      <td>74.0</td>\n",
       "    </tr>\n",
       "    <tr>\n",
       "      <th>22</th>\n",
       "      <td>ACI WORLDWIDE, INC.</td>\n",
       "      <td>0</td>\n",
       "      <td>61</td>\n",
       "      <td>20</td>\n",
       "      <td>87.47</td>\n",
       "      <td>13.24</td>\n",
       "      <td>Services</td>\n",
       "      <td>United States of America</td>\n",
       "      <td>26.0</td>\n",
       "      <td>49601.41</td>\n",
       "      <td>73.0</td>\n",
       "    </tr>\n",
       "    <tr>\n",
       "      <th>23</th>\n",
       "      <td>ACOM CO., LTD.</td>\n",
       "      <td>0</td>\n",
       "      <td>0</td>\n",
       "      <td>0</td>\n",
       "      <td>269.16</td>\n",
       "      <td>8.23</td>\n",
       "      <td>Services</td>\n",
       "      <td>Japan</td>\n",
       "      <td>11.0</td>\n",
       "      <td>46972.61</td>\n",
       "      <td>74.0</td>\n",
       "    </tr>\n",
       "    <tr>\n",
       "      <th>24</th>\n",
       "      <td>ACS, ACTIVIDADES DE CONSTRUCCION Y SERVICIOS, ...</td>\n",
       "      <td>1</td>\n",
       "      <td>11</td>\n",
       "      <td>0</td>\n",
       "      <td>260.60</td>\n",
       "      <td>4.06</td>\n",
       "      <td>Services</td>\n",
       "      <td>Spain</td>\n",
       "      <td>1443.0</td>\n",
       "      <td>30150.24</td>\n",
       "      <td>65.0</td>\n",
       "    </tr>\n",
       "    <tr>\n",
       "      <th>25</th>\n",
       "      <td>ACTAVIS, INC.</td>\n",
       "      <td>1</td>\n",
       "      <td>61</td>\n",
       "      <td>7</td>\n",
       "      <td>210.94</td>\n",
       "      <td>7.32</td>\n",
       "      <td>Manufacturing; Wholesale</td>\n",
       "      <td>United States of America</td>\n",
       "      <td>246.0</td>\n",
       "      <td>49601.41</td>\n",
       "      <td>73.0</td>\n",
       "    </tr>\n",
       "    <tr>\n",
       "      <th>26</th>\n",
       "      <td>ACTELION LTD</td>\n",
       "      <td>0</td>\n",
       "      <td>7</td>\n",
       "      <td>27</td>\n",
       "      <td>47.12</td>\n",
       "      <td>24.38</td>\n",
       "      <td>Manufacturing</td>\n",
       "      <td>Switzerland</td>\n",
       "      <td>13.0</td>\n",
       "      <td>78754.19</td>\n",
       "      <td>86.0</td>\n",
       "    </tr>\n",
       "    <tr>\n",
       "      <th>27</th>\n",
       "      <td>ACTUANT CORP</td>\n",
       "      <td>0</td>\n",
       "      <td>65</td>\n",
       "      <td>1</td>\n",
       "      <td>60.49</td>\n",
       "      <td>10.76</td>\n",
       "      <td>Manufacturing</td>\n",
       "      <td>United States of America</td>\n",
       "      <td>138.0</td>\n",
       "      <td>49601.41</td>\n",
       "      <td>73.0</td>\n",
       "    </tr>\n",
       "    <tr>\n",
       "      <th>28</th>\n",
       "      <td>ACTUATE CORP</td>\n",
       "      <td>1</td>\n",
       "      <td>33</td>\n",
       "      <td>17</td>\n",
       "      <td>7.26</td>\n",
       "      <td>13.73</td>\n",
       "      <td>Services</td>\n",
       "      <td>United States of America</td>\n",
       "      <td>15.0</td>\n",
       "      <td>49601.41</td>\n",
       "      <td>73.0</td>\n",
       "    </tr>\n",
       "    <tr>\n",
       "      <th>29</th>\n",
       "      <td>ACUITY BRANDS, INC.</td>\n",
       "      <td>0</td>\n",
       "      <td>45</td>\n",
       "      <td>2</td>\n",
       "      <td>64.52</td>\n",
       "      <td>11.44</td>\n",
       "      <td>Services</td>\n",
       "      <td>United States of America</td>\n",
       "      <td>29.0</td>\n",
       "      <td>49601.41</td>\n",
       "      <td>73.0</td>\n",
       "    </tr>\n",
       "    <tr>\n",
       "      <th>...</th>\n",
       "      <td>...</td>\n",
       "      <td>...</td>\n",
       "      <td>...</td>\n",
       "      <td>...</td>\n",
       "      <td>...</td>\n",
       "      <td>...</td>\n",
       "      <td>...</td>\n",
       "      <td>...</td>\n",
       "      <td>...</td>\n",
       "      <td>...</td>\n",
       "      <td>...</td>\n",
       "    </tr>\n",
       "    <tr>\n",
       "      <th>1896</th>\n",
       "      <td>XEROX CORP</td>\n",
       "      <td>0</td>\n",
       "      <td>43</td>\n",
       "      <td>3</td>\n",
       "      <td>111.85</td>\n",
       "      <td>7.64</td>\n",
       "      <td>Manufacturing; Wholesale</td>\n",
       "      <td>United States of America</td>\n",
       "      <td>377.0</td>\n",
       "      <td>49601.41</td>\n",
       "      <td>73.0</td>\n",
       "    </tr>\n",
       "    <tr>\n",
       "      <th>1897</th>\n",
       "      <td>XO GROUP INC.</td>\n",
       "      <td>0</td>\n",
       "      <td>25</td>\n",
       "      <td>20</td>\n",
       "      <td>8.78</td>\n",
       "      <td>11.03</td>\n",
       "      <td>Services</td>\n",
       "      <td>United States of America</td>\n",
       "      <td>13.0</td>\n",
       "      <td>49601.41</td>\n",
       "      <td>73.0</td>\n",
       "    </tr>\n",
       "    <tr>\n",
       "      <th>1898</th>\n",
       "      <td>XP POWER LIMITED</td>\n",
       "      <td>1</td>\n",
       "      <td>41</td>\n",
       "      <td>3</td>\n",
       "      <td>29.62</td>\n",
       "      <td>22.47</td>\n",
       "      <td>Manufacturing</td>\n",
       "      <td>Singapore</td>\n",
       "      <td>15.0</td>\n",
       "      <td>50323.69</td>\n",
       "      <td>87.0</td>\n",
       "    </tr>\n",
       "    <tr>\n",
       "      <th>1899</th>\n",
       "      <td>YAGEO CORPORATION</td>\n",
       "      <td>1</td>\n",
       "      <td>5</td>\n",
       "      <td>1</td>\n",
       "      <td>22.44</td>\n",
       "      <td>10.47</td>\n",
       "      <td>Manufacturing</td>\n",
       "      <td>Taiwan</td>\n",
       "      <td>16.0</td>\n",
       "      <td>20502.70</td>\n",
       "      <td>61.0</td>\n",
       "    </tr>\n",
       "    <tr>\n",
       "      <th>1900</th>\n",
       "      <td>YAHOO JAPAN CORPORATION</td>\n",
       "      <td>1</td>\n",
       "      <td>4</td>\n",
       "      <td>0</td>\n",
       "      <td>1.87</td>\n",
       "      <td>54.08</td>\n",
       "      <td>Services</td>\n",
       "      <td>Japan</td>\n",
       "      <td>20.0</td>\n",
       "      <td>46972.61</td>\n",
       "      <td>74.0</td>\n",
       "    </tr>\n",
       "    <tr>\n",
       "      <th>1901</th>\n",
       "      <td>YAKULT HONSHA CO LTD</td>\n",
       "      <td>0</td>\n",
       "      <td>1</td>\n",
       "      <td>4</td>\n",
       "      <td>43.75</td>\n",
       "      <td>7.09</td>\n",
       "      <td>Manufacturing; Wholesale</td>\n",
       "      <td>Japan</td>\n",
       "      <td>31.0</td>\n",
       "      <td>46972.61</td>\n",
       "      <td>74.0</td>\n",
       "    </tr>\n",
       "    <tr>\n",
       "      <th>1902</th>\n",
       "      <td>YAMADA DENKI CO LTD</td>\n",
       "      <td>1</td>\n",
       "      <td>4</td>\n",
       "      <td>0</td>\n",
       "      <td>69.26</td>\n",
       "      <td>1.99</td>\n",
       "      <td>Retail</td>\n",
       "      <td>Japan</td>\n",
       "      <td>24.0</td>\n",
       "      <td>46972.61</td>\n",
       "      <td>74.0</td>\n",
       "    </tr>\n",
       "    <tr>\n",
       "      <th>1903</th>\n",
       "      <td>YAMAGUCHI FINANCIAL GROUP, INC.</td>\n",
       "      <td>0</td>\n",
       "      <td>0</td>\n",
       "      <td>0</td>\n",
       "      <td>23.73</td>\n",
       "      <td>72.95</td>\n",
       "      <td>Services</td>\n",
       "      <td>Japan</td>\n",
       "      <td>13.0</td>\n",
       "      <td>46972.61</td>\n",
       "      <td>74.0</td>\n",
       "    </tr>\n",
       "    <tr>\n",
       "      <th>1904</th>\n",
       "      <td>YAMAHA CORPORATION</td>\n",
       "      <td>1</td>\n",
       "      <td>1</td>\n",
       "      <td>6</td>\n",
       "      <td>58.77</td>\n",
       "      <td>2.43</td>\n",
       "      <td>Manufacturing</td>\n",
       "      <td>Japan</td>\n",
       "      <td>79.0</td>\n",
       "      <td>46972.61</td>\n",
       "      <td>74.0</td>\n",
       "    </tr>\n",
       "    <tr>\n",
       "      <th>1905</th>\n",
       "      <td>YAMAHA MOTOR CO LTD</td>\n",
       "      <td>1</td>\n",
       "      <td>0</td>\n",
       "      <td>6</td>\n",
       "      <td>137.63</td>\n",
       "      <td>1.45</td>\n",
       "      <td>Manufacturing</td>\n",
       "      <td>Japan</td>\n",
       "      <td>90.0</td>\n",
       "      <td>46972.61</td>\n",
       "      <td>74.0</td>\n",
       "    </tr>\n",
       "    <tr>\n",
       "      <th>1906</th>\n",
       "      <td>YAMATO HOLDINGS CO., LTD.</td>\n",
       "      <td>1</td>\n",
       "      <td>2</td>\n",
       "      <td>0</td>\n",
       "      <td>28.20</td>\n",
       "      <td>5.02</td>\n",
       "      <td>Services</td>\n",
       "      <td>Japan</td>\n",
       "      <td>49.0</td>\n",
       "      <td>46972.61</td>\n",
       "      <td>74.0</td>\n",
       "    </tr>\n",
       "    <tr>\n",
       "      <th>1907</th>\n",
       "      <td>YAMAZAKI BAKING CO LTD</td>\n",
       "      <td>1</td>\n",
       "      <td>5</td>\n",
       "      <td>1</td>\n",
       "      <td>107.35</td>\n",
       "      <td>2.57</td>\n",
       "      <td>Manufacturing; Wholesale</td>\n",
       "      <td>Japan</td>\n",
       "      <td>33.0</td>\n",
       "      <td>46972.61</td>\n",
       "      <td>74.0</td>\n",
       "    </tr>\n",
       "    <tr>\n",
       "      <th>1908</th>\n",
       "      <td>YARA INTERNATIONAL ASA</td>\n",
       "      <td>0</td>\n",
       "      <td>8</td>\n",
       "      <td>0</td>\n",
       "      <td>42.75</td>\n",
       "      <td>13.21</td>\n",
       "      <td>Manufacturing; Wholesale</td>\n",
       "      <td>Norway</td>\n",
       "      <td>46.0</td>\n",
       "      <td>99664.51</td>\n",
       "      <td>85.0</td>\n",
       "    </tr>\n",
       "    <tr>\n",
       "      <th>1909</th>\n",
       "      <td>YASKAWA ELECTRIC CORPORATION</td>\n",
       "      <td>1</td>\n",
       "      <td>4</td>\n",
       "      <td>3</td>\n",
       "      <td>83.85</td>\n",
       "      <td>4.12</td>\n",
       "      <td>Manufacturing</td>\n",
       "      <td>Japan</td>\n",
       "      <td>38.0</td>\n",
       "      <td>46972.61</td>\n",
       "      <td>74.0</td>\n",
       "    </tr>\n",
       "    <tr>\n",
       "      <th>1910</th>\n",
       "      <td>YAZICILAR HOLDING A.S.</td>\n",
       "      <td>0</td>\n",
       "      <td>1</td>\n",
       "      <td>0</td>\n",
       "      <td>69.30</td>\n",
       "      <td>54.02</td>\n",
       "      <td>Services</td>\n",
       "      <td>Turkey</td>\n",
       "      <td>16.0</td>\n",
       "      <td>10914.04</td>\n",
       "      <td>49.0</td>\n",
       "    </tr>\n",
       "    <tr>\n",
       "      <th>1911</th>\n",
       "      <td>YFC-BONEAGLE ELECTRIC CO., LTD.</td>\n",
       "      <td>1</td>\n",
       "      <td>4</td>\n",
       "      <td>1</td>\n",
       "      <td>94.26</td>\n",
       "      <td>1.50</td>\n",
       "      <td>Manufacturing</td>\n",
       "      <td>Taiwan</td>\n",
       "      <td>12.0</td>\n",
       "      <td>20502.70</td>\n",
       "      <td>61.0</td>\n",
       "    </tr>\n",
       "    <tr>\n",
       "      <th>1912</th>\n",
       "      <td>YFY INC.</td>\n",
       "      <td>1</td>\n",
       "      <td>1</td>\n",
       "      <td>0</td>\n",
       "      <td>161.73</td>\n",
       "      <td>4.48</td>\n",
       "      <td>Manufacturing</td>\n",
       "      <td>Taiwan</td>\n",
       "      <td>21.0</td>\n",
       "      <td>20502.70</td>\n",
       "      <td>61.0</td>\n",
       "    </tr>\n",
       "    <tr>\n",
       "      <th>1913</th>\n",
       "      <td>YIT OYJ</td>\n",
       "      <td>1</td>\n",
       "      <td>11</td>\n",
       "      <td>0</td>\n",
       "      <td>105.41</td>\n",
       "      <td>5.43</td>\n",
       "      <td>Services</td>\n",
       "      <td>Finland</td>\n",
       "      <td>11.0</td>\n",
       "      <td>47495.68</td>\n",
       "      <td>90.0</td>\n",
       "    </tr>\n",
       "    <tr>\n",
       "      <th>1914</th>\n",
       "      <td>YOKOGAWA ELECTRIC CORPORATION</td>\n",
       "      <td>0</td>\n",
       "      <td>7</td>\n",
       "      <td>7</td>\n",
       "      <td>65.81</td>\n",
       "      <td>4.90</td>\n",
       "      <td>Manufacturing; Wholesale</td>\n",
       "      <td>Japan</td>\n",
       "      <td>83.0</td>\n",
       "      <td>46972.61</td>\n",
       "      <td>74.0</td>\n",
       "    </tr>\n",
       "    <tr>\n",
       "      <th>1915</th>\n",
       "      <td>YUNG CHI PAINT &amp; VARNISH MFG. CO., LTD.</td>\n",
       "      <td>1</td>\n",
       "      <td>1</td>\n",
       "      <td>2</td>\n",
       "      <td>4.68</td>\n",
       "      <td>12.02</td>\n",
       "      <td>Manufacturing</td>\n",
       "      <td>Taiwan</td>\n",
       "      <td>11.0</td>\n",
       "      <td>20502.70</td>\n",
       "      <td>61.0</td>\n",
       "    </tr>\n",
       "    <tr>\n",
       "      <th>1916</th>\n",
       "      <td>YUNG TAY ENGINEERING CO., LTD.</td>\n",
       "      <td>1</td>\n",
       "      <td>2</td>\n",
       "      <td>2</td>\n",
       "      <td>11.28</td>\n",
       "      <td>10.93</td>\n",
       "      <td>Manufacturing; Services</td>\n",
       "      <td>Taiwan</td>\n",
       "      <td>12.0</td>\n",
       "      <td>20502.70</td>\n",
       "      <td>61.0</td>\n",
       "    </tr>\n",
       "    <tr>\n",
       "      <th>1917</th>\n",
       "      <td>ZEBRA TECHNOLOGIES CORP</td>\n",
       "      <td>0</td>\n",
       "      <td>14</td>\n",
       "      <td>9</td>\n",
       "      <td>1.81</td>\n",
       "      <td>16.91</td>\n",
       "      <td>Manufacturing</td>\n",
       "      <td>United States of America</td>\n",
       "      <td>41.0</td>\n",
       "      <td>49601.41</td>\n",
       "      <td>73.0</td>\n",
       "    </tr>\n",
       "    <tr>\n",
       "      <th>1918</th>\n",
       "      <td>ZENSHO HOLDINGS CO., LTD.</td>\n",
       "      <td>1</td>\n",
       "      <td>7</td>\n",
       "      <td>0</td>\n",
       "      <td>393.28</td>\n",
       "      <td>3.24</td>\n",
       "      <td>Services</td>\n",
       "      <td>Japan</td>\n",
       "      <td>18.0</td>\n",
       "      <td>46972.61</td>\n",
       "      <td>74.0</td>\n",
       "    </tr>\n",
       "    <tr>\n",
       "      <th>1919</th>\n",
       "      <td>ZEON CORPORATION</td>\n",
       "      <td>0</td>\n",
       "      <td>2</td>\n",
       "      <td>5</td>\n",
       "      <td>55.02</td>\n",
       "      <td>8.84</td>\n",
       "      <td>Manufacturing</td>\n",
       "      <td>Japan</td>\n",
       "      <td>33.0</td>\n",
       "      <td>46972.61</td>\n",
       "      <td>74.0</td>\n",
       "    </tr>\n",
       "    <tr>\n",
       "      <th>1920</th>\n",
       "      <td>ZETES INDUSTRIES</td>\n",
       "      <td>0</td>\n",
       "      <td>26</td>\n",
       "      <td>1</td>\n",
       "      <td>12.87</td>\n",
       "      <td>2.89</td>\n",
       "      <td>Services</td>\n",
       "      <td>Belgium</td>\n",
       "      <td>38.0</td>\n",
       "      <td>45089.43</td>\n",
       "      <td>75.0</td>\n",
       "    </tr>\n",
       "    <tr>\n",
       "      <th>1921</th>\n",
       "      <td>ZF LENKSYSTEME GMBH</td>\n",
       "      <td>0</td>\n",
       "      <td>0</td>\n",
       "      <td>5</td>\n",
       "      <td>133.90</td>\n",
       "      <td>3.99</td>\n",
       "      <td>Manufacturing</td>\n",
       "      <td>Germany</td>\n",
       "      <td>16.0</td>\n",
       "      <td>42625.25</td>\n",
       "      <td>79.0</td>\n",
       "    </tr>\n",
       "    <tr>\n",
       "      <th>1922</th>\n",
       "      <td>ZIMMER HOLDINGS, INC.</td>\n",
       "      <td>0</td>\n",
       "      <td>37</td>\n",
       "      <td>5</td>\n",
       "      <td>39.00</td>\n",
       "      <td>26.57</td>\n",
       "      <td>Manufacturing; Wholesale</td>\n",
       "      <td>United States of America</td>\n",
       "      <td>19.0</td>\n",
       "      <td>49601.41</td>\n",
       "      <td>73.0</td>\n",
       "    </tr>\n",
       "    <tr>\n",
       "      <th>1923</th>\n",
       "      <td>ZODIAC AEROSPACE</td>\n",
       "      <td>0</td>\n",
       "      <td>50</td>\n",
       "      <td>0</td>\n",
       "      <td>45.18</td>\n",
       "      <td>14.45</td>\n",
       "      <td>Manufacturing</td>\n",
       "      <td>France</td>\n",
       "      <td>92.0</td>\n",
       "      <td>42793.08</td>\n",
       "      <td>71.0</td>\n",
       "    </tr>\n",
       "    <tr>\n",
       "      <th>1924</th>\n",
       "      <td>ZTE CORP.</td>\n",
       "      <td>0</td>\n",
       "      <td>2</td>\n",
       "      <td>10</td>\n",
       "      <td>146.10</td>\n",
       "      <td>0.36</td>\n",
       "      <td>Manufacturing</td>\n",
       "      <td>China</td>\n",
       "      <td>91.0</td>\n",
       "      <td>5898.57</td>\n",
       "      <td>39.0</td>\n",
       "    </tr>\n",
       "    <tr>\n",
       "      <th>1925</th>\n",
       "      <td>ZUMTOBEL AG</td>\n",
       "      <td>0</td>\n",
       "      <td>19</td>\n",
       "      <td>5</td>\n",
       "      <td>100.21</td>\n",
       "      <td>2.72</td>\n",
       "      <td>Services</td>\n",
       "      <td>Austria</td>\n",
       "      <td>86.0</td>\n",
       "      <td>48479.22</td>\n",
       "      <td>69.0</td>\n",
       "    </tr>\n",
       "  </tbody>\n",
       "</table>\n",
       "<p>1926 rows × 11 columns</p>\n",
       "</div>"
      ],
      "text/plain": [
       "                                                company  elasticity12  \\\n",
       "0                                3D SYSTEMS CORPORATION             0   \n",
       "1                                            3M COMPANY             0   \n",
       "2                                      888 HOLDINGS PLC             1   \n",
       "3                                   A & A MATERIAL CORP             0   \n",
       "4                           A-DATA TECHNOLOGY CO., LTD.             1   \n",
       "5                                A.O. SMITH CORPORATION             0   \n",
       "6                           AASTRA TECHNOLOGIES LIMITED             0   \n",
       "7                                         AB ELECTROLUX             0   \n",
       "8                                              AB SAGAX             0   \n",
       "9                                              AB VOLVO             1   \n",
       "10                                ABACUS PROPERTY GROUP             0   \n",
       "11                                              ABB LTD             1   \n",
       "12                                  ABBOTT LABORATORIES             0   \n",
       "13                                            ABCAM PLC             1   \n",
       "14                          ABOCOM SYSTEMS INCORPORATED             0   \n",
       "15                                         ACCIONA S.A.             0   \n",
       "16                                             ACCOR SA             1   \n",
       "17                        ACCTON TECHNOLOGY CORPORATION             0   \n",
       "18                                            ACER INC.             0   \n",
       "19                                          ACERINOX SA             0   \n",
       "20                         ACHEM TECHNOLOGY CORPORATION             1   \n",
       "21                                 ACHILLES CORPORATION             1   \n",
       "22                                  ACI WORLDWIDE, INC.             0   \n",
       "23                                       ACOM CO., LTD.             0   \n",
       "24    ACS, ACTIVIDADES DE CONSTRUCCION Y SERVICIOS, ...             1   \n",
       "25                                        ACTAVIS, INC.             1   \n",
       "26                                         ACTELION LTD             0   \n",
       "27                                         ACTUANT CORP             0   \n",
       "28                                         ACTUATE CORP             1   \n",
       "29                                  ACUITY BRANDS, INC.             0   \n",
       "...                                                 ...           ...   \n",
       "1896                                         XEROX CORP             0   \n",
       "1897                                      XO GROUP INC.             0   \n",
       "1898                                   XP POWER LIMITED             1   \n",
       "1899                                  YAGEO CORPORATION             1   \n",
       "1900                            YAHOO JAPAN CORPORATION             1   \n",
       "1901                               YAKULT HONSHA CO LTD             0   \n",
       "1902                                YAMADA DENKI CO LTD             1   \n",
       "1903                    YAMAGUCHI FINANCIAL GROUP, INC.             0   \n",
       "1904                                 YAMAHA CORPORATION             1   \n",
       "1905                                YAMAHA MOTOR CO LTD             1   \n",
       "1906                          YAMATO HOLDINGS CO., LTD.             1   \n",
       "1907                             YAMAZAKI BAKING CO LTD             1   \n",
       "1908                             YARA INTERNATIONAL ASA             0   \n",
       "1909                       YASKAWA ELECTRIC CORPORATION             1   \n",
       "1910                             YAZICILAR HOLDING A.S.             0   \n",
       "1911                    YFC-BONEAGLE ELECTRIC CO., LTD.             1   \n",
       "1912                                           YFY INC.             1   \n",
       "1913                                            YIT OYJ             1   \n",
       "1914                      YOKOGAWA ELECTRIC CORPORATION             0   \n",
       "1915            YUNG CHI PAINT & VARNISH MFG. CO., LTD.             1   \n",
       "1916                     YUNG TAY ENGINEERING CO., LTD.             1   \n",
       "1917                            ZEBRA TECHNOLOGIES CORP             0   \n",
       "1918                          ZENSHO HOLDINGS CO., LTD.             1   \n",
       "1919                                   ZEON CORPORATION             0   \n",
       "1920                                   ZETES INDUSTRIES             0   \n",
       "1921                                ZF LENKSYSTEME GMBH             0   \n",
       "1922                              ZIMMER HOLDINGS, INC.             0   \n",
       "1923                                   ZODIAC AEROSPACE             0   \n",
       "1924                                          ZTE CORP.             0   \n",
       "1925                                        ZUMTOBEL AG             0   \n",
       "\n",
       "      IPasset12  IPPL12  gearing12   OM12                  activity  \\\n",
       "0            51       7      25.43  17.13                  Services   \n",
       "1            27       5      57.47  21.68                  Services   \n",
       "2            52       7       0.54  10.30                  Services   \n",
       "3             1       1     384.16   0.95             Manufacturing   \n",
       "4             1       1      74.67   2.59  Manufacturing; Wholesale   \n",
       "5            34       3      49.47  10.93  Manufacturing; Wholesale   \n",
       "6            13       9      17.30   3.84                  Services   \n",
       "7            13       2     102.49   3.72             Manufacturing   \n",
       "8             0       0     249.35  86.33                  Services   \n",
       "9             8       5     188.36   5.82             Manufacturing   \n",
       "10            2       0      95.97  26.14                  Services   \n",
       "11           28       4      93.03  10.30                  Services   \n",
       "12           36       7     103.08  13.64                  Services   \n",
       "13           66       4       8.73  35.12                  Services   \n",
       "14            0       3      29.77   1.40   Manufacturing; Services   \n",
       "15            9       2     199.32  19.03                  Services   \n",
       "16           15       0     104.89   5.74                  Services   \n",
       "17            0       4       5.82   3.99             Manufacturing   \n",
       "18           17       1      30.46   0.40                  Services   \n",
       "19            2       0      84.47   1.05  Manufacturing; Wholesale   \n",
       "20            3       0     103.06   5.37             Manufacturing   \n",
       "21            1       2      27.43   1.99  Manufacturing; Wholesale   \n",
       "22           61      20      87.47  13.24                  Services   \n",
       "23            0       0     269.16   8.23                  Services   \n",
       "24           11       0     260.60   4.06                  Services   \n",
       "25           61       7     210.94   7.32  Manufacturing; Wholesale   \n",
       "26            7      27      47.12  24.38             Manufacturing   \n",
       "27           65       1      60.49  10.76             Manufacturing   \n",
       "28           33      17       7.26  13.73                  Services   \n",
       "29           45       2      64.52  11.44                  Services   \n",
       "...         ...     ...        ...    ...                       ...   \n",
       "1896         43       3     111.85   7.64  Manufacturing; Wholesale   \n",
       "1897         25      20       8.78  11.03                  Services   \n",
       "1898         41       3      29.62  22.47             Manufacturing   \n",
       "1899          5       1      22.44  10.47             Manufacturing   \n",
       "1900          4       0       1.87  54.08                  Services   \n",
       "1901          1       4      43.75   7.09  Manufacturing; Wholesale   \n",
       "1902          4       0      69.26   1.99                    Retail   \n",
       "1903          0       0      23.73  72.95                  Services   \n",
       "1904          1       6      58.77   2.43             Manufacturing   \n",
       "1905          0       6     137.63   1.45             Manufacturing   \n",
       "1906          2       0      28.20   5.02                  Services   \n",
       "1907          5       1     107.35   2.57  Manufacturing; Wholesale   \n",
       "1908          8       0      42.75  13.21  Manufacturing; Wholesale   \n",
       "1909          4       3      83.85   4.12             Manufacturing   \n",
       "1910          1       0      69.30  54.02                  Services   \n",
       "1911          4       1      94.26   1.50             Manufacturing   \n",
       "1912          1       0     161.73   4.48             Manufacturing   \n",
       "1913         11       0     105.41   5.43                  Services   \n",
       "1914          7       7      65.81   4.90  Manufacturing; Wholesale   \n",
       "1915          1       2       4.68  12.02             Manufacturing   \n",
       "1916          2       2      11.28  10.93   Manufacturing; Services   \n",
       "1917         14       9       1.81  16.91             Manufacturing   \n",
       "1918          7       0     393.28   3.24                  Services   \n",
       "1919          2       5      55.02   8.84             Manufacturing   \n",
       "1920         26       1      12.87   2.89                  Services   \n",
       "1921          0       5     133.90   3.99             Manufacturing   \n",
       "1922         37       5      39.00  26.57  Manufacturing; Wholesale   \n",
       "1923         50       0      45.18  14.45             Manufacturing   \n",
       "1924          2      10     146.10   0.36             Manufacturing   \n",
       "1925         19       5     100.21   2.72                  Services   \n",
       "\n",
       "                       country    subs  GDPPC_2012  CPI_2012_Score  \n",
       "0     United States of America    35.0    49601.41            73.0  \n",
       "1     United States of America   121.0    49601.41            73.0  \n",
       "2                    Gibraltar    15.0    38200.00            74.0  \n",
       "3                        Japan    11.0    46972.61            74.0  \n",
       "4                       Taiwan    11.0    20502.70            61.0  \n",
       "5     United States of America    33.0    49601.41            73.0  \n",
       "6                       Canada    29.0    51688.60            84.0  \n",
       "7                       Sweden   102.0    57948.39            88.0  \n",
       "8                       Sweden    84.0    57948.39            88.0  \n",
       "9                       Sweden    62.0    57948.39            88.0  \n",
       "10                   Australia    20.0    68915.97            85.0  \n",
       "11                 Switzerland   362.0    78754.19            86.0  \n",
       "12    United States of America   315.0    49601.41            73.0  \n",
       "13              United Kingdom    14.0    38891.32            74.0  \n",
       "14                      Taiwan    11.0    20502.70            61.0  \n",
       "15                       Spain   205.0    30150.24            65.0  \n",
       "16                      France   201.0    42793.08            71.0  \n",
       "17                      Taiwan    14.0    20502.70            61.0  \n",
       "18                      Taiwan    40.0    20502.70            61.0  \n",
       "19                       Spain    37.0    30150.24            65.0  \n",
       "20                      Taiwan    11.0    20502.70            61.0  \n",
       "21                       Japan    20.0    46972.61            74.0  \n",
       "22    United States of America    26.0    49601.41            73.0  \n",
       "23                       Japan    11.0    46972.61            74.0  \n",
       "24                       Spain  1443.0    30150.24            65.0  \n",
       "25    United States of America   246.0    49601.41            73.0  \n",
       "26                 Switzerland    13.0    78754.19            86.0  \n",
       "27    United States of America   138.0    49601.41            73.0  \n",
       "28    United States of America    15.0    49601.41            73.0  \n",
       "29    United States of America    29.0    49601.41            73.0  \n",
       "...                        ...     ...         ...             ...  \n",
       "1896  United States of America   377.0    49601.41            73.0  \n",
       "1897  United States of America    13.0    49601.41            73.0  \n",
       "1898                 Singapore    15.0    50323.69            87.0  \n",
       "1899                    Taiwan    16.0    20502.70            61.0  \n",
       "1900                     Japan    20.0    46972.61            74.0  \n",
       "1901                     Japan    31.0    46972.61            74.0  \n",
       "1902                     Japan    24.0    46972.61            74.0  \n",
       "1903                     Japan    13.0    46972.61            74.0  \n",
       "1904                     Japan    79.0    46972.61            74.0  \n",
       "1905                     Japan    90.0    46972.61            74.0  \n",
       "1906                     Japan    49.0    46972.61            74.0  \n",
       "1907                     Japan    33.0    46972.61            74.0  \n",
       "1908                    Norway    46.0    99664.51            85.0  \n",
       "1909                     Japan    38.0    46972.61            74.0  \n",
       "1910                    Turkey    16.0    10914.04            49.0  \n",
       "1911                    Taiwan    12.0    20502.70            61.0  \n",
       "1912                    Taiwan    21.0    20502.70            61.0  \n",
       "1913                   Finland    11.0    47495.68            90.0  \n",
       "1914                     Japan    83.0    46972.61            74.0  \n",
       "1915                    Taiwan    11.0    20502.70            61.0  \n",
       "1916                    Taiwan    12.0    20502.70            61.0  \n",
       "1917  United States of America    41.0    49601.41            73.0  \n",
       "1918                     Japan    18.0    46972.61            74.0  \n",
       "1919                     Japan    33.0    46972.61            74.0  \n",
       "1920                   Belgium    38.0    45089.43            75.0  \n",
       "1921                   Germany    16.0    42625.25            79.0  \n",
       "1922  United States of America    19.0    49601.41            73.0  \n",
       "1923                    France    92.0    42793.08            71.0  \n",
       "1924                     China    91.0     5898.57            39.0  \n",
       "1925                   Austria    86.0    48479.22            69.0  \n",
       "\n",
       "[1926 rows x 11 columns]"
      ]
     },
     "execution_count": 134,
     "metadata": {},
     "output_type": "execute_result"
    }
   ],
   "source": [
    "data_2012 = pd.merge(left= data_2012, right= df2, how='left', left_on='country', right_on='country')\n",
    "data_2012.dropna()\n",
    "#data_2012"
   ]
  },
  {
   "cell_type": "code",
   "execution_count": 135,
   "metadata": {
    "collapsed": false
   },
   "outputs": [
    {
     "data": {
      "text/html": [
       "<div>\n",
       "<table border=\"1\" class=\"dataframe\">\n",
       "  <thead>\n",
       "    <tr style=\"text-align: right;\">\n",
       "      <th>elasticity12</th>\n",
       "      <th>0</th>\n",
       "      <th>1</th>\n",
       "      <th>All</th>\n",
       "    </tr>\n",
       "    <tr>\n",
       "      <th>activity</th>\n",
       "      <th></th>\n",
       "      <th></th>\n",
       "      <th></th>\n",
       "    </tr>\n",
       "  </thead>\n",
       "  <tbody>\n",
       "    <tr>\n",
       "      <th>Manufacturing</th>\n",
       "      <td>463</td>\n",
       "      <td>272</td>\n",
       "      <td>735</td>\n",
       "    </tr>\n",
       "    <tr>\n",
       "      <th>Manufacturing; Retail</th>\n",
       "      <td>0</td>\n",
       "      <td>8</td>\n",
       "      <td>8</td>\n",
       "    </tr>\n",
       "    <tr>\n",
       "      <th>Manufacturing; Services</th>\n",
       "      <td>44</td>\n",
       "      <td>31</td>\n",
       "      <td>75</td>\n",
       "    </tr>\n",
       "    <tr>\n",
       "      <th>Manufacturing; Wholesale</th>\n",
       "      <td>225</td>\n",
       "      <td>96</td>\n",
       "      <td>321</td>\n",
       "    </tr>\n",
       "    <tr>\n",
       "      <th>Manufacturing; Wholesale; Retail</th>\n",
       "      <td>0</td>\n",
       "      <td>1</td>\n",
       "      <td>1</td>\n",
       "    </tr>\n",
       "    <tr>\n",
       "      <th>Manufacturing; Wholesale; Services</th>\n",
       "      <td>8</td>\n",
       "      <td>4</td>\n",
       "      <td>12</td>\n",
       "    </tr>\n",
       "    <tr>\n",
       "      <th>Retail</th>\n",
       "      <td>4</td>\n",
       "      <td>10</td>\n",
       "      <td>14</td>\n",
       "    </tr>\n",
       "    <tr>\n",
       "      <th>Retail; Services</th>\n",
       "      <td>0</td>\n",
       "      <td>2</td>\n",
       "      <td>2</td>\n",
       "    </tr>\n",
       "    <tr>\n",
       "      <th>Retail; Wholesale</th>\n",
       "      <td>0</td>\n",
       "      <td>1</td>\n",
       "      <td>1</td>\n",
       "    </tr>\n",
       "    <tr>\n",
       "      <th>Retail; Wholesale; Manufacturing</th>\n",
       "      <td>1</td>\n",
       "      <td>0</td>\n",
       "      <td>1</td>\n",
       "    </tr>\n",
       "    <tr>\n",
       "      <th>Services</th>\n",
       "      <td>407</td>\n",
       "      <td>252</td>\n",
       "      <td>659</td>\n",
       "    </tr>\n",
       "    <tr>\n",
       "      <th>Services; Manufacturing</th>\n",
       "      <td>12</td>\n",
       "      <td>10</td>\n",
       "      <td>22</td>\n",
       "    </tr>\n",
       "    <tr>\n",
       "      <th>Services; Manufacturing; Wholesale</th>\n",
       "      <td>4</td>\n",
       "      <td>1</td>\n",
       "      <td>5</td>\n",
       "    </tr>\n",
       "    <tr>\n",
       "      <th>Services; Private equity firm</th>\n",
       "      <td>1</td>\n",
       "      <td>1</td>\n",
       "      <td>2</td>\n",
       "    </tr>\n",
       "    <tr>\n",
       "      <th>Services; Retail</th>\n",
       "      <td>1</td>\n",
       "      <td>3</td>\n",
       "      <td>4</td>\n",
       "    </tr>\n",
       "    <tr>\n",
       "      <th>Services; Venture capital firm</th>\n",
       "      <td>1</td>\n",
       "      <td>1</td>\n",
       "      <td>2</td>\n",
       "    </tr>\n",
       "    <tr>\n",
       "      <th>Services; Wholesale</th>\n",
       "      <td>3</td>\n",
       "      <td>2</td>\n",
       "      <td>5</td>\n",
       "    </tr>\n",
       "    <tr>\n",
       "      <th>Wholesale</th>\n",
       "      <td>15</td>\n",
       "      <td>20</td>\n",
       "      <td>35</td>\n",
       "    </tr>\n",
       "    <tr>\n",
       "      <th>Wholesale; Manufacturing</th>\n",
       "      <td>1</td>\n",
       "      <td>1</td>\n",
       "      <td>2</td>\n",
       "    </tr>\n",
       "    <tr>\n",
       "      <th>Wholesale; Manufacturing; Services</th>\n",
       "      <td>1</td>\n",
       "      <td>0</td>\n",
       "      <td>1</td>\n",
       "    </tr>\n",
       "    <tr>\n",
       "      <th>Wholesale; Retail</th>\n",
       "      <td>2</td>\n",
       "      <td>4</td>\n",
       "      <td>6</td>\n",
       "    </tr>\n",
       "    <tr>\n",
       "      <th>Wholesale; Services</th>\n",
       "      <td>8</td>\n",
       "      <td>5</td>\n",
       "      <td>13</td>\n",
       "    </tr>\n",
       "    <tr>\n",
       "      <th>All</th>\n",
       "      <td>1201</td>\n",
       "      <td>725</td>\n",
       "      <td>1926</td>\n",
       "    </tr>\n",
       "  </tbody>\n",
       "</table>\n",
       "</div>"
      ],
      "text/plain": [
       "elasticity12                           0    1   All\n",
       "activity                                           \n",
       "Manufacturing                        463  272   735\n",
       "Manufacturing; Retail                  0    8     8\n",
       "Manufacturing; Services               44   31    75\n",
       "Manufacturing; Wholesale             225   96   321\n",
       "Manufacturing; Wholesale; Retail       0    1     1\n",
       "Manufacturing; Wholesale; Services     8    4    12\n",
       "Retail                                 4   10    14\n",
       "Retail; Services                       0    2     2\n",
       "Retail; Wholesale                      0    1     1\n",
       "Retail; Wholesale; Manufacturing       1    0     1\n",
       "Services                             407  252   659\n",
       "Services; Manufacturing               12   10    22\n",
       "Services; Manufacturing; Wholesale     4    1     5\n",
       "Services; Private equity firm          1    1     2\n",
       "Services; Retail                       1    3     4\n",
       "Services; Venture capital firm         1    1     2\n",
       "Services; Wholesale                    3    2     5\n",
       "Wholesale                             15   20    35\n",
       "Wholesale; Manufacturing               1    1     2\n",
       "Wholesale; Manufacturing; Services     1    0     1\n",
       "Wholesale; Retail                      2    4     6\n",
       "Wholesale; Services                    8    5    13\n",
       "All                                 1201  725  1926"
      ]
     },
     "execution_count": 135,
     "metadata": {},
     "output_type": "execute_result"
    }
   ],
   "source": [
    "pd.crosstab(data_2012['activity'], data_2012['elasticity12'], margins = True)"
   ]
  },
  {
   "cell_type": "code",
   "execution_count": 136,
   "metadata": {
    "collapsed": true
   },
   "outputs": [],
   "source": [
    "thing = pd.crosstab(data_2012['activity'], data_2012['elasticity12'], margins = True)"
   ]
  },
  {
   "cell_type": "code",
   "execution_count": 137,
   "metadata": {
    "collapsed": false
   },
   "outputs": [],
   "source": [
    "activities_to_rename = list(thing[thing['All'] < 15].reset_index().activity)\n",
    "#?df.reset_index"
   ]
  },
  {
   "cell_type": "code",
   "execution_count": 138,
   "metadata": {
    "collapsed": false
   },
   "outputs": [
    {
     "data": {
      "text/plain": [
       "['Manufacturing; Retail',\n",
       " 'Manufacturing; Wholesale; Retail',\n",
       " 'Manufacturing; Wholesale; Services',\n",
       " 'Retail',\n",
       " 'Retail; Services',\n",
       " 'Retail; Wholesale',\n",
       " 'Retail; Wholesale; Manufacturing',\n",
       " 'Services; Manufacturing; Wholesale',\n",
       " 'Services; Private equity firm',\n",
       " 'Services; Retail',\n",
       " 'Services; Venture capital firm',\n",
       " 'Services; Wholesale',\n",
       " 'Wholesale; Manufacturing',\n",
       " 'Wholesale; Manufacturing; Services',\n",
       " 'Wholesale; Retail',\n",
       " 'Wholesale; Services']"
      ]
     },
     "execution_count": 138,
     "metadata": {},
     "output_type": "execute_result"
    }
   ],
   "source": [
    "activities_to_rename"
   ]
  },
  {
   "cell_type": "code",
   "execution_count": 139,
   "metadata": {
    "collapsed": false
   },
   "outputs": [],
   "source": [
    "#dummy_ranks_country.columns"
   ]
  },
  {
   "cell_type": "code",
   "execution_count": 140,
   "metadata": {
    "collapsed": false
   },
   "outputs": [],
   "source": [
    "data_2012['activity_clean'] = data_2012.activity"
   ]
  },
  {
   "cell_type": "code",
   "execution_count": 141,
   "metadata": {
    "collapsed": false
   },
   "outputs": [],
   "source": [
    "for activity in activities_to_rename:\n",
    "    data_2012.loc[data_2012.activity == activity, 'activity_clean'] = 'other'"
   ]
  },
  {
   "cell_type": "code",
   "execution_count": 142,
   "metadata": {
    "collapsed": false
   },
   "outputs": [
    {
     "data": {
      "text/html": [
       "<div>\n",
       "<table border=\"1\" class=\"dataframe\">\n",
       "  <thead>\n",
       "    <tr style=\"text-align: right;\">\n",
       "      <th>elasticity12</th>\n",
       "      <th>0</th>\n",
       "      <th>1</th>\n",
       "      <th>All</th>\n",
       "    </tr>\n",
       "    <tr>\n",
       "      <th>activity_clean</th>\n",
       "      <th></th>\n",
       "      <th></th>\n",
       "      <th></th>\n",
       "    </tr>\n",
       "  </thead>\n",
       "  <tbody>\n",
       "    <tr>\n",
       "      <th>Manufacturing</th>\n",
       "      <td>463</td>\n",
       "      <td>272</td>\n",
       "      <td>735</td>\n",
       "    </tr>\n",
       "    <tr>\n",
       "      <th>Manufacturing; Services</th>\n",
       "      <td>44</td>\n",
       "      <td>31</td>\n",
       "      <td>75</td>\n",
       "    </tr>\n",
       "    <tr>\n",
       "      <th>Manufacturing; Wholesale</th>\n",
       "      <td>225</td>\n",
       "      <td>96</td>\n",
       "      <td>321</td>\n",
       "    </tr>\n",
       "    <tr>\n",
       "      <th>Services</th>\n",
       "      <td>407</td>\n",
       "      <td>252</td>\n",
       "      <td>659</td>\n",
       "    </tr>\n",
       "    <tr>\n",
       "      <th>Services; Manufacturing</th>\n",
       "      <td>12</td>\n",
       "      <td>10</td>\n",
       "      <td>22</td>\n",
       "    </tr>\n",
       "    <tr>\n",
       "      <th>Wholesale</th>\n",
       "      <td>15</td>\n",
       "      <td>20</td>\n",
       "      <td>35</td>\n",
       "    </tr>\n",
       "    <tr>\n",
       "      <th>other</th>\n",
       "      <td>35</td>\n",
       "      <td>44</td>\n",
       "      <td>79</td>\n",
       "    </tr>\n",
       "    <tr>\n",
       "      <th>All</th>\n",
       "      <td>1201</td>\n",
       "      <td>725</td>\n",
       "      <td>1926</td>\n",
       "    </tr>\n",
       "  </tbody>\n",
       "</table>\n",
       "</div>"
      ],
      "text/plain": [
       "elasticity12                 0    1   All\n",
       "activity_clean                           \n",
       "Manufacturing              463  272   735\n",
       "Manufacturing; Services     44   31    75\n",
       "Manufacturing; Wholesale   225   96   321\n",
       "Services                   407  252   659\n",
       "Services; Manufacturing     12   10    22\n",
       "Wholesale                   15   20    35\n",
       "other                       35   44    79\n",
       "All                       1201  725  1926"
      ]
     },
     "execution_count": 142,
     "metadata": {},
     "output_type": "execute_result"
    }
   ],
   "source": [
    "pd.crosstab(data_2012['activity_clean'], data_2012['elasticity12'], margins = True)"
   ]
  },
  {
   "cell_type": "code",
   "execution_count": 143,
   "metadata": {
    "collapsed": true
   },
   "outputs": [],
   "source": [
    "dummy_ranks_activity = pd.get_dummies(data_2012['activity_clean'], prefix = 'actyname', drop_first=True)\n",
    "data_2012['intercept'] = 1.0"
   ]
  },
  {
   "cell_type": "code",
   "execution_count": 144,
   "metadata": {
    "collapsed": false
   },
   "outputs": [
    {
     "name": "stdout",
     "output_type": "stream",
     "text": [
      "Axes(0.125,0.125;0.62x0.775)\n"
     ]
    },
    {
     "data": {
      "image/png": "[encoded data removed]",
      "text/plain": [
       "<matplotlib.figure.Figure at 0x11d39518>"
      ]
     },
     "metadata": {},
     "output_type": "display_data"
    }
   ],
   "source": [
    "#print data_2012.corr()\n",
    "#print ''\n",
    "colour_map = sns.diverging_palette(225, 125, as_cmap=True)\n",
    "print sns.heatmap(data_2012[['elasticity12','IPasset12','IPPL12','gearing12','OM12','subs','GDPPC_2012','CPI_2012_Score']].corr(), cmap=colour_map)"
   ]
  },
  {
   "cell_type": "code",
   "execution_count": 145,
   "metadata": {
    "collapsed": false
   },
   "outputs": [
    {
     "data": {
      "text/plain": [
       "(0, 200)"
      ]
     },
     "execution_count": 145,
     "metadata": {},
     "output_type": "execute_result"
    },
    {
     "data": {
      "image/png": "[encoded data removed]",
      "text/plain": [
       "<matplotlib.figure.Figure at 0x12a259b0>"
      ]
     },
     "metadata": {},
     "output_type": "display_data"
    }
   ],
   "source": [
    "sns.boxplot(x='elasticity12', y='subs', data=data_2012)\n",
    "plt.ylim(0,200)"
   ]
  },
  {
   "cell_type": "code",
   "execution_count": 146,
   "metadata": {
    "collapsed": false
   },
   "outputs": [
    {
     "data": {
      "text/plain": [
       "<matplotlib.axes._subplots.AxesSubplot at 0x12b52d68>"
      ]
     },
     "execution_count": 146,
     "metadata": {},
     "output_type": "execute_result"
    },
    {
     "data": {
      "image/png": "[encoded data removed]",
      "text/plain": [
       "<matplotlib.figure.Figure at 0x12831d30>"
      ]
     },
     "metadata": {},
     "output_type": "display_data"
    }
   ],
   "source": [
    "sns.boxplot(x='elasticity12', y='GDPPC_2012', data=data_2012)"
   ]
  },
  {
   "cell_type": "code",
   "execution_count": 147,
   "metadata": {
    "collapsed": false
   },
   "outputs": [
    {
     "data": {
      "text/plain": [
       "<seaborn.axisgrid.FacetGrid at 0x12ee0fd0>"
      ]
     },
     "execution_count": 147,
     "metadata": {},
     "output_type": "execute_result"
    },
    {
     "data": {
      "image/png": "[encoded data removed]",
      "text/plain": [
       "<matplotlib.figure.Figure at 0x12ee0898>"
      ]
     },
     "metadata": {},
     "output_type": "display_data"
    }
   ],
   "source": [
    "sns.lmplot(x='GDPPC_2012', y='CPI_2012_Score',  data=data_2012)"
   ]
  },
  {
   "cell_type": "code",
   "execution_count": 148,
   "metadata": {
    "collapsed": false
   },
   "outputs": [
    {
     "data": {
      "text/plain": [
       "<matplotlib.axes._subplots.AxesSubplot at 0x13438cf8>"
      ]
     },
     "execution_count": 148,
     "metadata": {},
     "output_type": "execute_result"
    },
    {
     "data": {
      "image/png": "[encoded data removed]",
      "text/plain": [
       "<matplotlib.figure.Figure at 0x130e3a58>"
      ]
     },
     "metadata": {},
     "output_type": "display_data"
    }
   ],
   "source": [
    "sns.boxplot(x='elasticity12', y='CPI_2012_Score', data=data_2012)"
   ]
  },
  {
   "cell_type": "code",
   "execution_count": 149,
   "metadata": {
    "collapsed": false,
    "scrolled": true
   },
   "outputs": [],
   "source": [
    "columns_to_keep = ['elasticity12','intercept','IPasset12','IPPL12','OM12','gearing12','subs','GDPPC_2012','CPI_2012_Score']\n",
    "#data_2012 = data_2012[columns_to_keep].join([dummy_ranks_country,dummy_ranks_activity])\n",
    "\n",
    "data_2012 = data_2012[columns_to_keep].join(dummy_ranks_activity)\n",
    "\n",
    "#data_2012.ix[data_2012.index[(data_2012.T == np.nan).sum() > 1]]"
   ]
  },
  {
   "cell_type": "code",
   "execution_count": 150,
   "metadata": {
    "collapsed": false,
    "scrolled": true
   },
   "outputs": [],
   "source": [
    "# data_2012.count()"
   ]
  },
  {
   "cell_type": "code",
   "execution_count": 151,
   "metadata": {
    "collapsed": false
   },
   "outputs": [],
   "source": [
    "train_cols = data_2012.columns[1:]"
   ]
  },
  {
   "cell_type": "code",
   "execution_count": 152,
   "metadata": {
    "collapsed": false
   },
   "outputs": [
    {
     "name": "stdout",
     "output_type": "stream",
     "text": [
      "Optimization terminated successfully.\n",
      "         Current function value: 0.625525\n",
      "         Iterations 5\n"
     ]
    }
   ],
   "source": [
    "logit = sm.Logit(data_2012['elasticity12'], data_2012[train_cols])\n",
    "\n",
    "result = logit.fit()"
   ]
  },
  {
   "cell_type": "code",
   "execution_count": 153,
   "metadata": {
    "collapsed": false
   },
   "outputs": [
    {
     "name": "stdout",
     "output_type": "stream",
     "text": [
      "Optimization terminated successfully.\n",
      "         Current function value: 0.625525\n",
      "         Iterations 5\n"
     ]
    },
    {
     "data": {
      "text/html": [
       "<table class=\"simpletable\">\n",
       "<caption>Logit Regression Results</caption>\n",
       "<tr>\n",
       "  <th>Dep. Variable:</th>   <td>elasticity12</td>   <th>  No. Observations:  </th>  <td>  1926</td>  \n",
       "</tr>\n",
       "<tr>\n",
       "  <th>Model:</th>               <td>Logit</td>      <th>  Df Residuals:      </th>  <td>  1912</td>  \n",
       "</tr>\n",
       "<tr>\n",
       "  <th>Method:</th>               <td>MLE</td>       <th>  Df Model:          </th>  <td>    13</td>  \n",
       "</tr>\n",
       "<tr>\n",
       "  <th>Date:</th>          <td>Sat, 10 Dec 2016</td> <th>  Pseudo R-squ.:     </th>  <td>0.05551</td> \n",
       "</tr>\n",
       "<tr>\n",
       "  <th>Time:</th>              <td>22:29:19</td>     <th>  Log-Likelihood:    </th> <td> -1204.8</td> \n",
       "</tr>\n",
       "<tr>\n",
       "  <th>converged:</th>           <td>True</td>       <th>  LL-Null:           </th> <td> -1275.6</td> \n",
       "</tr>\n",
       "<tr>\n",
       "  <th> </th>                      <td> </td>        <th>  LLR p-value:       </th> <td>1.000e-23</td>\n",
       "</tr>\n",
       "</table>\n",
       "<table class=\"simpletable\">\n",
       "<tr>\n",
       "                  <td></td>                     <th>coef</th>     <th>std err</th>      <th>z</th>      <th>P>|z|</th> <th>[95.0% Conf. Int.]</th> \n",
       "</tr>\n",
       "<tr>\n",
       "  <th>intercept</th>                         <td>   -1.4848</td> <td>    0.469</td> <td>   -3.163</td> <td> 0.002</td> <td>   -2.405    -0.565</td>\n",
       "</tr>\n",
       "<tr>\n",
       "  <th>IPasset12</th>                         <td>   -0.0074</td> <td>    0.003</td> <td>   -2.592</td> <td> 0.010</td> <td>   -0.013    -0.002</td>\n",
       "</tr>\n",
       "<tr>\n",
       "  <th>IPPL12</th>                            <td>   -0.0437</td> <td>    0.011</td> <td>   -4.002</td> <td> 0.000</td> <td>   -0.065    -0.022</td>\n",
       "</tr>\n",
       "<tr>\n",
       "  <th>OM12</th>                              <td>   -0.0206</td> <td>    0.005</td> <td>   -4.226</td> <td> 0.000</td> <td>   -0.030    -0.011</td>\n",
       "</tr>\n",
       "<tr>\n",
       "  <th>gearing12</th>                         <td>-5.555e-05</td> <td>    0.001</td> <td>   -0.103</td> <td> 0.918</td> <td>   -0.001     0.001</td>\n",
       "</tr>\n",
       "<tr>\n",
       "  <th>subs</th>                              <td>   -0.0006</td> <td>    0.000</td> <td>   -1.477</td> <td> 0.140</td> <td>   -0.001     0.000</td>\n",
       "</tr>\n",
       "<tr>\n",
       "  <th>GDPPC_2012</th>                        <td>-4.049e-05</td> <td> 6.81e-06</td> <td>   -5.946</td> <td> 0.000</td> <td>-5.38e-05 -2.71e-05</td>\n",
       "</tr>\n",
       "<tr>\n",
       "  <th>CPI_2012_Score</th>                    <td>    0.0439</td> <td>    0.009</td> <td>    4.747</td> <td> 0.000</td> <td>    0.026     0.062</td>\n",
       "</tr>\n",
       "<tr>\n",
       "  <th>actyname_Manufacturing; Services</th>  <td>    0.2904</td> <td>    0.255</td> <td>    1.139</td> <td> 0.255</td> <td>   -0.209     0.790</td>\n",
       "</tr>\n",
       "<tr>\n",
       "  <th>actyname_Manufacturing; Wholesale</th> <td>   -0.2270</td> <td>    0.148</td> <td>   -1.532</td> <td> 0.126</td> <td>   -0.517     0.063</td>\n",
       "</tr>\n",
       "<tr>\n",
       "  <th>actyname_Services</th>                 <td>    0.2602</td> <td>    0.120</td> <td>    2.171</td> <td> 0.030</td> <td>    0.025     0.495</td>\n",
       "</tr>\n",
       "<tr>\n",
       "  <th>actyname_Services; Manufacturing</th>  <td>    0.6991</td> <td>    0.448</td> <td>    1.561</td> <td> 0.118</td> <td>   -0.179     1.577</td>\n",
       "</tr>\n",
       "<tr>\n",
       "  <th>actyname_Wholesale</th>                <td>    0.7345</td> <td>    0.359</td> <td>    2.048</td> <td> 0.041</td> <td>    0.032     1.437</td>\n",
       "</tr>\n",
       "<tr>\n",
       "  <th>actyname_other</th>                    <td>    0.7623</td> <td>    0.248</td> <td>    3.079</td> <td> 0.002</td> <td>    0.277     1.248</td>\n",
       "</tr>\n",
       "</table>"
      ],
      "text/plain": [
       "<class 'statsmodels.iolib.summary.Summary'>\n",
       "\"\"\"\n",
       "                           Logit Regression Results                           \n",
       "==============================================================================\n",
       "Dep. Variable:           elasticity12   No. Observations:                 1926\n",
       "Model:                          Logit   Df Residuals:                     1912\n",
       "Method:                           MLE   Df Model:                           13\n",
       "Date:                Sat, 10 Dec 2016   Pseudo R-squ.:                 0.05551\n",
       "Time:                        22:29:19   Log-Likelihood:                -1204.8\n",
       "converged:                       True   LL-Null:                       -1275.6\n",
       "                                        LLR p-value:                 1.000e-23\n",
       "=====================================================================================================\n",
       "                                        coef    std err          z      P>|z|      [95.0% Conf. Int.]\n",
       "-----------------------------------------------------------------------------------------------------\n",
       "intercept                            -1.4848      0.469     -3.163      0.002        -2.405    -0.565\n",
       "IPasset12                            -0.0074      0.003     -2.592      0.010        -0.013    -0.002\n",
       "IPPL12                               -0.0437      0.011     -4.002      0.000        -0.065    -0.022\n",
       "OM12                                 -0.0206      0.005     -4.226      0.000        -0.030    -0.011\n",
       "gearing12                         -5.555e-05      0.001     -0.103      0.918        -0.001     0.001\n",
       "subs                                 -0.0006      0.000     -1.477      0.140        -0.001     0.000\n",
       "GDPPC_2012                        -4.049e-05   6.81e-06     -5.946      0.000     -5.38e-05 -2.71e-05\n",
       "CPI_2012_Score                        0.0439      0.009      4.747      0.000         0.026     0.062\n",
       "actyname_Manufacturing; Services      0.2904      0.255      1.139      0.255        -0.209     0.790\n",
       "actyname_Manufacturing; Wholesale    -0.2270      0.148     -1.532      0.126        -0.517     0.063\n",
       "actyname_Services                     0.2602      0.120      2.171      0.030         0.025     0.495\n",
       "actyname_Services; Manufacturing      0.6991      0.448      1.561      0.118        -0.179     1.577\n",
       "actyname_Wholesale                    0.7345      0.359      2.048      0.041         0.032     1.437\n",
       "actyname_other                        0.7623      0.248      3.079      0.002         0.277     1.248\n",
       "=====================================================================================================\n",
       "\"\"\""
      ]
     },
     "execution_count": 153,
     "metadata": {},
     "output_type": "execute_result"
    }
   ],
   "source": [
    "logit.fit().summary()"
   ]
  },
  {
   "cell_type": "code",
   "execution_count": 154,
   "metadata": {
    "collapsed": false
   },
   "outputs": [
    {
     "data": {
      "text/html": [
       "<div>\n",
       "<table border=\"1\" class=\"dataframe\">\n",
       "  <thead>\n",
       "    <tr style=\"text-align: right;\">\n",
       "      <th>actyname_Services</th>\n",
       "      <th>0.0</th>\n",
       "      <th>1.0</th>\n",
       "    </tr>\n",
       "    <tr>\n",
       "      <th>elasticity12</th>\n",
       "      <th></th>\n",
       "      <th></th>\n",
       "    </tr>\n",
       "  </thead>\n",
       "  <tbody>\n",
       "    <tr>\n",
       "      <th>0</th>\n",
       "      <td>794</td>\n",
       "      <td>407</td>\n",
       "    </tr>\n",
       "    <tr>\n",
       "      <th>1</th>\n",
       "      <td>473</td>\n",
       "      <td>252</td>\n",
       "    </tr>\n",
       "  </tbody>\n",
       "</table>\n",
       "</div>"
      ],
      "text/plain": [
       "actyname_Services  0.0  1.0\n",
       "elasticity12               \n",
       "0                  794  407\n",
       "1                  473  252"
      ]
     },
     "execution_count": 154,
     "metadata": {},
     "output_type": "execute_result"
    }
   ],
   "source": [
    "pd.crosstab(data_2012['elasticity12'], data_2012['actyname_Services'])\n",
    "# % of Services companies with elasticity 1     = 38.2%\n",
    "# % of non-Services companies with elasticity 1 = 37.3%"
   ]
  },
  {
   "cell_type": "code",
   "execution_count": 155,
   "metadata": {
    "collapsed": false
   },
   "outputs": [
    {
     "name": "stdout",
     "output_type": "stream",
     "text": [
      "Optimization terminated successfully.\n",
      "         Current function value: 0.625525\n",
      "         Iterations 5\n",
      "Optimization terminated successfully.\n",
      "         Current function value: 0.625525\n",
      "         Iterations 5\n"
     ]
    },
    {
     "data": {
      "text/html": [
       "<div>\n",
       "<table border=\"1\" class=\"dataframe\">\n",
       "  <thead>\n",
       "    <tr style=\"text-align: right;\">\n",
       "      <th></th>\n",
       "      <th>odds_ratio</th>\n",
       "      <th>2.5%</th>\n",
       "      <th>97.5%</th>\n",
       "    </tr>\n",
       "  </thead>\n",
       "  <tbody>\n",
       "    <tr>\n",
       "      <th>intercept</th>\n",
       "      <td>0.226558</td>\n",
       "      <td>0.090289</td>\n",
       "      <td>0.568489</td>\n",
       "    </tr>\n",
       "    <tr>\n",
       "      <th>IPasset12</th>\n",
       "      <td>0.992632</td>\n",
       "      <td>0.987097</td>\n",
       "      <td>0.998198</td>\n",
       "    </tr>\n",
       "    <tr>\n",
       "      <th>IPPL12</th>\n",
       "      <td>0.957279</td>\n",
       "      <td>0.937028</td>\n",
       "      <td>0.977969</td>\n",
       "    </tr>\n",
       "    <tr>\n",
       "      <th>OM12</th>\n",
       "      <td>0.979566</td>\n",
       "      <td>0.970230</td>\n",
       "      <td>0.988991</td>\n",
       "    </tr>\n",
       "    <tr>\n",
       "      <th>gearing12</th>\n",
       "      <td>0.999944</td>\n",
       "      <td>0.998888</td>\n",
       "      <td>1.001002</td>\n",
       "    </tr>\n",
       "    <tr>\n",
       "      <th>subs</th>\n",
       "      <td>0.999441</td>\n",
       "      <td>0.998699</td>\n",
       "      <td>1.000183</td>\n",
       "    </tr>\n",
       "    <tr>\n",
       "      <th>GDPPC_2012</th>\n",
       "      <td>0.999960</td>\n",
       "      <td>0.999946</td>\n",
       "      <td>0.999973</td>\n",
       "    </tr>\n",
       "    <tr>\n",
       "      <th>CPI_2012_Score</th>\n",
       "      <td>1.044928</td>\n",
       "      <td>1.026138</td>\n",
       "      <td>1.064063</td>\n",
       "    </tr>\n",
       "    <tr>\n",
       "      <th>actyname_Manufacturing; Services</th>\n",
       "      <td>1.336935</td>\n",
       "      <td>0.811291</td>\n",
       "      <td>2.203149</td>\n",
       "    </tr>\n",
       "    <tr>\n",
       "      <th>actyname_Manufacturing; Wholesale</th>\n",
       "      <td>0.796943</td>\n",
       "      <td>0.596106</td>\n",
       "      <td>1.065446</td>\n",
       "    </tr>\n",
       "    <tr>\n",
       "      <th>actyname_Services</th>\n",
       "      <td>1.297147</td>\n",
       "      <td>1.025571</td>\n",
       "      <td>1.640638</td>\n",
       "    </tr>\n",
       "    <tr>\n",
       "      <th>actyname_Services; Manufacturing</th>\n",
       "      <td>2.011874</td>\n",
       "      <td>0.836498</td>\n",
       "      <td>4.838784</td>\n",
       "    </tr>\n",
       "    <tr>\n",
       "      <th>actyname_Wholesale</th>\n",
       "      <td>2.084455</td>\n",
       "      <td>1.032111</td>\n",
       "      <td>4.209776</td>\n",
       "    </tr>\n",
       "    <tr>\n",
       "      <th>actyname_other</th>\n",
       "      <td>2.143194</td>\n",
       "      <td>1.319204</td>\n",
       "      <td>3.481858</td>\n",
       "    </tr>\n",
       "  </tbody>\n",
       "</table>\n",
       "</div>"
      ],
      "text/plain": [
       "                                   odds_ratio      2.5%     97.5%\n",
       "intercept                            0.226558  0.090289  0.568489\n",
       "IPasset12                            0.992632  0.987097  0.998198\n",
       "IPPL12                               0.957279  0.937028  0.977969\n",
       "OM12                                 0.979566  0.970230  0.988991\n",
       "gearing12                            0.999944  0.998888  1.001002\n",
       "subs                                 0.999441  0.998699  1.000183\n",
       "GDPPC_2012                           0.999960  0.999946  0.999973\n",
       "CPI_2012_Score                       1.044928  1.026138  1.064063\n",
       "actyname_Manufacturing; Services     1.336935  0.811291  2.203149\n",
       "actyname_Manufacturing; Wholesale    0.796943  0.596106  1.065446\n",
       "actyname_Services                    1.297147  1.025571  1.640638\n",
       "actyname_Services; Manufacturing     2.011874  0.836498  4.838784\n",
       "actyname_Wholesale                   2.084455  1.032111  4.209776\n",
       "actyname_other                       2.143194  1.319204  3.481858"
      ]
     },
     "execution_count": 155,
     "metadata": {},
     "output_type": "execute_result"
    }
   ],
   "source": [
    "conf_intervals = logit.fit().conf_int()\n",
    "OR_conf_intervals = np.exp(conf_intervals)\n",
    "\n",
    "coefficients = logit.fit().params\n",
    "OR_coefficients = np.exp(coefficients)\n",
    "\n",
    "df_odds_ratio = pd.DataFrame()\n",
    "df_odds_ratio['OR'] = OR_coefficients\n",
    "df_odds_ratio = df_odds_ratio.join(OR_conf_intervals)\n",
    "\n",
    "df_odds_ratio.columns = ['odds_ratio', '2.5%', '97.5%']\n",
    "\n",
    "df_odds_ratio"
   ]
  },
  {
   "cell_type": "code",
   "execution_count": 156,
   "metadata": {
    "collapsed": true
   },
   "outputs": [],
   "source": [
    "# best way to plot?"
   ]
  },
  {
   "cell_type": "code",
   "execution_count": 157,
   "metadata": {
    "collapsed": true
   },
   "outputs": [],
   "source": [
    "# can't really do time series?"
   ]
  },
  {
   "cell_type": "code",
   "execution_count": 158,
   "metadata": {
    "collapsed": false
   },
   "outputs": [
    {
     "data": {
      "text/html": [
       "<div>\n",
       "<table border=\"1\" class=\"dataframe\">\n",
       "  <thead>\n",
       "    <tr style=\"text-align: right;\">\n",
       "      <th></th>\n",
       "      <th>elasticity12</th>\n",
       "      <th>intercept</th>\n",
       "      <th>IPasset12</th>\n",
       "      <th>IPPL12</th>\n",
       "      <th>OM12</th>\n",
       "      <th>gearing12</th>\n",
       "      <th>subs</th>\n",
       "      <th>GDPPC_2012</th>\n",
       "      <th>CPI_2012_Score</th>\n",
       "      <th>actyname_Manufacturing; Services</th>\n",
       "      <th>actyname_Manufacturing; Wholesale</th>\n",
       "      <th>actyname_Services</th>\n",
       "      <th>actyname_Services; Manufacturing</th>\n",
       "      <th>actyname_Wholesale</th>\n",
       "      <th>actyname_other</th>\n",
       "    </tr>\n",
       "  </thead>\n",
       "  <tbody>\n",
       "    <tr>\n",
       "      <th>0</th>\n",
       "      <td>0</td>\n",
       "      <td>1.0</td>\n",
       "      <td>51</td>\n",
       "      <td>7</td>\n",
       "      <td>17.13</td>\n",
       "      <td>25.43</td>\n",
       "      <td>35.0</td>\n",
       "      <td>49601.41</td>\n",
       "      <td>73.0</td>\n",
       "      <td>0.0</td>\n",
       "      <td>0.0</td>\n",
       "      <td>1.0</td>\n",
       "      <td>0.0</td>\n",
       "      <td>0.0</td>\n",
       "      <td>0.0</td>\n",
       "    </tr>\n",
       "    <tr>\n",
       "      <th>1</th>\n",
       "      <td>0</td>\n",
       "      <td>1.0</td>\n",
       "      <td>27</td>\n",
       "      <td>5</td>\n",
       "      <td>21.68</td>\n",
       "      <td>57.47</td>\n",
       "      <td>121.0</td>\n",
       "      <td>49601.41</td>\n",
       "      <td>73.0</td>\n",
       "      <td>0.0</td>\n",
       "      <td>0.0</td>\n",
       "      <td>1.0</td>\n",
       "      <td>0.0</td>\n",
       "      <td>0.0</td>\n",
       "      <td>0.0</td>\n",
       "    </tr>\n",
       "    <tr>\n",
       "      <th>2</th>\n",
       "      <td>1</td>\n",
       "      <td>1.0</td>\n",
       "      <td>52</td>\n",
       "      <td>7</td>\n",
       "      <td>10.30</td>\n",
       "      <td>0.54</td>\n",
       "      <td>15.0</td>\n",
       "      <td>38200.00</td>\n",
       "      <td>74.0</td>\n",
       "      <td>0.0</td>\n",
       "      <td>0.0</td>\n",
       "      <td>1.0</td>\n",
       "      <td>0.0</td>\n",
       "      <td>0.0</td>\n",
       "      <td>0.0</td>\n",
       "    </tr>\n",
       "    <tr>\n",
       "      <th>3</th>\n",
       "      <td>0</td>\n",
       "      <td>1.0</td>\n",
       "      <td>1</td>\n",
       "      <td>1</td>\n",
       "      <td>0.95</td>\n",
       "      <td>384.16</td>\n",
       "      <td>11.0</td>\n",
       "      <td>46972.61</td>\n",
       "      <td>74.0</td>\n",
       "      <td>0.0</td>\n",
       "      <td>0.0</td>\n",
       "      <td>0.0</td>\n",
       "      <td>0.0</td>\n",
       "      <td>0.0</td>\n",
       "      <td>0.0</td>\n",
       "    </tr>\n",
       "    <tr>\n",
       "      <th>4</th>\n",
       "      <td>1</td>\n",
       "      <td>1.0</td>\n",
       "      <td>1</td>\n",
       "      <td>1</td>\n",
       "      <td>2.59</td>\n",
       "      <td>74.67</td>\n",
       "      <td>11.0</td>\n",
       "      <td>20502.70</td>\n",
       "      <td>61.0</td>\n",
       "      <td>0.0</td>\n",
       "      <td>1.0</td>\n",
       "      <td>0.0</td>\n",
       "      <td>0.0</td>\n",
       "      <td>0.0</td>\n",
       "      <td>0.0</td>\n",
       "    </tr>\n",
       "  </tbody>\n",
       "</table>\n",
       "</div>"
      ],
      "text/plain": [
       "   elasticity12  intercept  IPasset12  IPPL12   OM12  gearing12   subs  \\\n",
       "0             0        1.0         51       7  17.13      25.43   35.0   \n",
       "1             0        1.0         27       5  21.68      57.47  121.0   \n",
       "2             1        1.0         52       7  10.30       0.54   15.0   \n",
       "3             0        1.0          1       1   0.95     384.16   11.0   \n",
       "4             1        1.0          1       1   2.59      74.67   11.0   \n",
       "\n",
       "   GDPPC_2012  CPI_2012_Score  actyname_Manufacturing; Services  \\\n",
       "0    49601.41            73.0                               0.0   \n",
       "1    49601.41            73.0                               0.0   \n",
       "2    38200.00            74.0                               0.0   \n",
       "3    46972.61            74.0                               0.0   \n",
       "4    20502.70            61.0                               0.0   \n",
       "\n",
       "   actyname_Manufacturing; Wholesale  actyname_Services  \\\n",
       "0                                0.0                1.0   \n",
       "1                                0.0                1.0   \n",
       "2                                0.0                1.0   \n",
       "3                                0.0                0.0   \n",
       "4                                1.0                0.0   \n",
       "\n",
       "   actyname_Services; Manufacturing  actyname_Wholesale  actyname_other  \n",
       "0                               0.0                 0.0             0.0  \n",
       "1                               0.0                 0.0             0.0  \n",
       "2                               0.0                 0.0             0.0  \n",
       "3                               0.0                 0.0             0.0  \n",
       "4                               0.0                 0.0             0.0  "
      ]
     },
     "execution_count": 158,
     "metadata": {},
     "output_type": "execute_result"
    }
   ],
   "source": [
    "data_2012.head()"
   ]
  },
  {
   "cell_type": "markdown",
   "metadata": {},
   "source": [
    "# Using scikit-learn"
   ]
  },
  {
   "cell_type": "code",
   "execution_count": 159,
   "metadata": {
    "collapsed": true
   },
   "outputs": [],
   "source": [
    "from sklearn.linear_model import LogisticRegression"
   ]
  },
  {
   "cell_type": "code",
   "execution_count": 160,
   "metadata": {
    "collapsed": true
   },
   "outputs": [],
   "source": [
    "model = LogisticRegression()"
   ]
  },
  {
   "cell_type": "code",
   "execution_count": 161,
   "metadata": {
    "collapsed": false
   },
   "outputs": [],
   "source": [
    "train_colsLG = ['IPPL12','OM12','GDPPC_2012','CPI_2012_Score','actyname_Services','actyname_Wholesale','actyname_other']\n",
    "X = data_2012[train_colsLG]\n",
    "y = data_2012['elasticity12']"
   ]
  },
  {
   "cell_type": "code",
   "execution_count": 162,
   "metadata": {
    "collapsed": false
   },
   "outputs": [
    {
     "data": {
      "text/plain": [
       "LogisticRegression(C=1.0, class_weight=None, dual=False, fit_intercept=True,\n",
       "          intercept_scaling=1, max_iter=100, multi_class='ovr', n_jobs=1,\n",
       "          penalty='l2', random_state=None, solver='liblinear', tol=0.0001,\n",
       "          verbose=0, warm_start=False)"
      ]
     },
     "execution_count": 162,
     "metadata": {},
     "output_type": "execute_result"
    }
   ],
   "source": [
    "model.fit(X, y)"
   ]
  },
  {
   "cell_type": "code",
   "execution_count": 163,
   "metadata": {
    "collapsed": false
   },
   "outputs": [
    {
     "data": {
      "text/plain": [
       "0.63136033229491173"
      ]
     },
     "execution_count": 163,
     "metadata": {},
     "output_type": "execute_result"
    }
   ],
   "source": [
    "model.score(X, y)"
   ]
  },
  {
   "cell_type": "code",
   "execution_count": 164,
   "metadata": {
    "collapsed": false
   },
   "outputs": [],
   "source": [
    "#Returns the mean accuracy on the given test data and labels"
   ]
  },
  {
   "cell_type": "code",
   "execution_count": 165,
   "metadata": {
    "collapsed": false
   },
   "outputs": [
    {
     "name": "stdout",
     "output_type": "stream",
     "text": [
      "0.642394202795\n"
     ]
    }
   ],
   "source": [
    "from sklearn.cross_validation import cross_val_score\n",
    "np.random.seed(1)\n",
    "scores = cross_val_score(LogisticRegression(), X, y, scoring='roc_auc', cv=5)\n",
    "print scores.mean()"
   ]
  },
  {
   "cell_type": "code",
   "execution_count": 166,
   "metadata": {
    "collapsed": true
   },
   "outputs": [],
   "source": [
    "from sklearn.metrics import roc_curve, roc_auc_score\n",
    "np.random.seed(1)\n",
    "lr = LogisticRegression()\n",
    "X = data_2012[train_colsLG]\n",
    "y = data_2012['elasticity12']\n",
    "lr.fit(X, y)\n",
    "\n",
    "predictions = lr.predict(X)"
   ]
  },
  {
   "cell_type": "code",
   "execution_count": 167,
   "metadata": {
    "collapsed": false
   },
   "outputs": [
    {
     "data": {
      "text/html": [
       "<div>\n",
       "<table border=\"1\" class=\"dataframe\">\n",
       "  <thead>\n",
       "    <tr style=\"text-align: right;\">\n",
       "      <th>elasticity12</th>\n",
       "      <th>0</th>\n",
       "      <th>1</th>\n",
       "    </tr>\n",
       "    <tr>\n",
       "      <th>row_0</th>\n",
       "      <th></th>\n",
       "      <th></th>\n",
       "    </tr>\n",
       "  </thead>\n",
       "  <tbody>\n",
       "    <tr>\n",
       "      <th>0</th>\n",
       "      <td>1112</td>\n",
       "      <td>621</td>\n",
       "    </tr>\n",
       "    <tr>\n",
       "      <th>1</th>\n",
       "      <td>89</td>\n",
       "      <td>104</td>\n",
       "    </tr>\n",
       "  </tbody>\n",
       "</table>\n",
       "</div>"
      ],
      "text/plain": [
       "elasticity12     0    1\n",
       "row_0                  \n",
       "0             1112  621\n",
       "1               89  104"
      ]
     },
     "execution_count": 167,
     "metadata": {},
     "output_type": "execute_result"
    }
   ],
   "source": [
    "pd.crosstab(predictions,data_2012['elasticity12'])\n",
    "#accuracy "
   ]
  },
  {
   "cell_type": "code",
   "execution_count": 168,
   "metadata": {
    "collapsed": false
   },
   "outputs": [
    {
     "name": "stdout",
     "output_type": "stream",
     "text": [
      "0.643518541041\n"
     ]
    }
   ],
   "source": [
    "np.random.seed(1)\n",
    "scores = cross_val_score(LogisticRegression(penalty='l1'), X, y, scoring='roc_auc', cv=5)\n",
    "print scores.mean()"
   ]
  },
  {
   "cell_type": "code",
   "execution_count": 169,
   "metadata": {
    "collapsed": false
   },
   "outputs": [
    {
     "name": "stdout",
     "output_type": "stream",
     "text": [
      "0.642394202795\n"
     ]
    }
   ],
   "source": [
    "np.random.seed(1)\n",
    "scores = cross_val_score(LogisticRegression(penalty='l2'), X, y, scoring='roc_auc', cv=5)\n",
    "print scores.mean()"
   ]
  },
  {
   "cell_type": "code",
   "execution_count": 170,
   "metadata": {
    "collapsed": false
   },
   "outputs": [],
   "source": [
    "# help(LogisticRegression)"
   ]
  },
  {
   "cell_type": "code",
   "execution_count": 171,
   "metadata": {
    "collapsed": false
   },
   "outputs": [],
   "source": [
    "np.random.seed(1)\n",
    "for C in range(1,20,1):\n",
    "    scores = cross_val_score(LogisticRegression(penalty='l1', C=C), X, y, scoring='roc_auc', cv=5)\n",
    "\n",
    "    C, scores.mean()"
   ]
  },
  {
   "cell_type": "code",
   "execution_count": 172,
   "metadata": {
    "collapsed": false
   },
   "outputs": [
    {
     "name": "stdout",
     "output_type": "stream",
     "text": [
      "19 0.643998604951\n"
     ]
    }
   ],
   "source": [
    "np.random.seed(1)\n",
    "maxscore = scores.mean()\n",
    "print C, maxscore.max()"
   ]
  },
  {
   "cell_type": "code",
   "execution_count": 173,
   "metadata": {
    "collapsed": false
   },
   "outputs": [],
   "source": [
    "from sklearn.metrics import roc_curve, roc_auc_score\n",
    "np.random.seed(1)\n",
    "lr = LogisticRegression(penalty='l1', C=19)\n",
    "X = data_2012[train_cols]\n",
    "y = data_2012['elasticity12']\n",
    "lr.fit(X, y)\n",
    "\n",
    "predictions = lr.predict(X)\n",
    "#probabilities = lr.predict_proba(X)\n",
    "#plt.plot(roc_curve(data_2012[['elasticity12']], probabilities[:,1])[0],\n",
    "#        roc_curve(data_2012[['elasticity12']], probabilities[:,1])[1])\n",
    "\n",
    "#print \"L1 odds ratio =\", 1. / np.exp(LogisticRegression(penalty='l1').fit(X, y).coef_)\n",
    "#print \"L2 odds ratio =\", 1. / np.exp(LogisticRegression(penalty='l2').fit(X, y).coef_)\n",
    "#print \"L2 + weaker regularisation strength =\", 1. / np.exp(LogisticRegression(penalty='l1', C=1000).fit(X, y).coef_)"
   ]
  },
  {
   "cell_type": "code",
   "execution_count": 174,
   "metadata": {
    "collapsed": false
   },
   "outputs": [],
   "source": [
    "#plt.plot(roc_curve(data_2012[['elasticity12']], predictions)[0],\n",
    "#         roc_curve(data_2012[['elasticity12']], predictions)[1])"
   ]
  },
  {
   "cell_type": "code",
   "execution_count": 175,
   "metadata": {
    "collapsed": false
   },
   "outputs": [],
   "source": [
    "#roc_auc_score(data_2012['elasticity12'], lr.predict(X))"
   ]
  },
  {
   "cell_type": "code",
   "execution_count": 176,
   "metadata": {
    "collapsed": false
   },
   "outputs": [
    {
     "data": {
      "text/html": [
       "<div>\n",
       "<table border=\"1\" class=\"dataframe\">\n",
       "  <thead>\n",
       "    <tr style=\"text-align: right;\">\n",
       "      <th>elasticity12</th>\n",
       "      <th>0</th>\n",
       "      <th>1</th>\n",
       "    </tr>\n",
       "    <tr>\n",
       "      <th>row_0</th>\n",
       "      <th></th>\n",
       "      <th></th>\n",
       "    </tr>\n",
       "  </thead>\n",
       "  <tbody>\n",
       "    <tr>\n",
       "      <th>0</th>\n",
       "      <td>1068</td>\n",
       "      <td>532</td>\n",
       "    </tr>\n",
       "    <tr>\n",
       "      <th>1</th>\n",
       "      <td>133</td>\n",
       "      <td>193</td>\n",
       "    </tr>\n",
       "  </tbody>\n",
       "</table>\n",
       "</div>"
      ],
      "text/plain": [
       "elasticity12     0    1\n",
       "row_0                  \n",
       "0             1068  532\n",
       "1              133  193"
      ]
     },
     "execution_count": 176,
     "metadata": {},
     "output_type": "execute_result"
    }
   ],
   "source": [
    "pd.crosstab(predictions,data_2012['elasticity12'])"
   ]
  },
  {
   "cell_type": "code",
   "execution_count": 177,
   "metadata": {
    "collapsed": false
   },
   "outputs": [
    {
     "name": "stdout",
     "output_type": "stream",
     "text": [
      "Axes(0.125,0.125;0.62x0.775)\n"
     ]
    },
    {
     "data": {
      "image/png": "[encoded data removed]",
      "text/plain": [
       "<matplotlib.figure.Figure at 0xb8cca20>"
      ]
     },
     "metadata": {},
     "output_type": "display_data"
    }
   ],
   "source": [
    "colour_map = sns.diverging_palette(225, 125, as_cmap=True)\n",
    "print sns.heatmap(pd.crosstab(predictions,data_2012['elasticity12']), cmap = colour_map)"
   ]
  },
  {
   "cell_type": "markdown",
   "metadata": {
    "collapsed": true
   },
   "source": [
    "### build a decision tree model to predict the 'tax avoiders'"
   ]
  },
  {
   "cell_type": "code",
   "execution_count": 178,
   "metadata": {
    "collapsed": false
   },
   "outputs": [
    {
     "data": {
      "text/plain": [
       "DecisionTreeClassifier(class_weight=None, criterion='gini', max_depth=None,\n",
       "            max_features=None, max_leaf_nodes=None, min_samples_leaf=1,\n",
       "            min_samples_split=2, min_weight_fraction_leaf=0.0,\n",
       "            presort=False, random_state=None, splitter='best')"
      ]
     },
     "execution_count": 178,
     "metadata": {},
     "output_type": "execute_result"
    }
   ],
   "source": [
    "from os import system\n",
    "from sklearn.tree import DecisionTreeClassifier, export_graphviz\n",
    "\n",
    "# Select features\n",
    "\n",
    "X = data_2012.copy()\n",
    "y = X['elasticity12']\n",
    "X.drop('elasticity12', axis=1, inplace=True)\n",
    "\n",
    "# Fit the model\n",
    "model = DecisionTreeClassifier()\n",
    "model.fit(X, y)"
   ]
  },
  {
   "cell_type": "code",
   "execution_count": 179,
   "metadata": {
    "collapsed": false
   },
   "outputs": [
    {
     "name": "stdout",
     "output_type": "stream",
     "text": [
      "Cross-validated AUC scores:  [ 0.59334669  0.5595546   0.56443966  0.54856322  0.59066092]\n",
      "Average AUC: 0.571313015691\n"
     ]
    }
   ],
   "source": [
    "from sklearn.cross_validation import cross_val_score\n",
    "\n",
    "scores = cross_val_score(DecisionTreeClassifier(), X, y, scoring='roc_auc', cv=5)\n",
    "\n",
    "print \"Cross-validated AUC scores: \", scores\n",
    "print \"Average AUC:\", scores.mean()"
   ]
  },
  {
   "cell_type": "code",
   "execution_count": 180,
   "metadata": {
    "collapsed": false
   },
   "outputs": [
    {
     "data": {
      "text/plain": [
       "Index([u'elasticity12', u'intercept', u'IPasset12', u'IPPL12', u'OM12',\n",
       "       u'gearing12', u'subs', u'GDPPC_2012', u'CPI_2012_Score',\n",
       "       u'actyname_Manufacturing; Services',\n",
       "       u'actyname_Manufacturing; Wholesale', u'actyname_Services',\n",
       "       u'actyname_Services; Manufacturing', u'actyname_Wholesale',\n",
       "       u'actyname_other'],\n",
       "      dtype='object')"
      ]
     },
     "execution_count": 180,
     "metadata": {},
     "output_type": "execute_result"
    }
   ],
   "source": [
    "data_2012.columns"
   ]
  },
  {
   "cell_type": "code",
   "execution_count": 181,
   "metadata": {
    "collapsed": false
   },
   "outputs": [
    {
     "name": "stdout",
     "output_type": "stream",
     "text": [
      "0.571313015691\n"
     ]
    }
   ],
   "source": [
    "max_depth = 16\n",
    "min_samples_leaf = 16\n",
    "model = DecisionTreeClassifier(max_depth=max_depth, min_samples_leaf=min_samples_leaf)\n",
    "model.fit(X, y)\n",
    "print scores.mean()\n"
   ]
  },
  {
   "cell_type": "code",
   "execution_count": 182,
   "metadata": {
    "collapsed": false
   },
   "outputs": [],
   "source": [
    "from sklearn.ensemble import RandomForestClassifier\n",
    "\n",
    "#np.random.seed(1)\n",
    "#model = RandomForestClassifier(n_estimators = 50)\n",
    "    \n",
    "#model.fit(X, y)\n",
    "#predictionsRF = model.predict(X)"
   ]
  },
  {
   "cell_type": "code",
   "execution_count": 183,
   "metadata": {
    "collapsed": false
   },
   "outputs": [
    {
     "name": "stdout",
     "output_type": "stream",
     "text": [
      "n trees: 50, CV AUC [ 0.70404922  0.65873563  0.70718391  0.64856322  0.67991379], Average AUC 0.679689154385\n",
      "n trees: 55, CV AUC [ 0.70253255  0.66847701  0.70264368  0.65968391  0.67985632], Average AUC 0.682638694138\n",
      "n trees: 60, CV AUC [ 0.71003005  0.65893678  0.69942529  0.65991379  0.6758908 ], Average AUC 0.680839342777\n",
      "n trees: 65, CV AUC [ 0.69082844  0.67491379  0.71152299  0.65675287  0.67270115], Average AUC 0.681343849859\n",
      "n trees: 70, CV AUC [ 0.70330519  0.65729885  0.70692529  0.64600575  0.67327586], Average AUC 0.677362188201\n",
      "n trees: 75, CV AUC [ 0.69809701  0.65649425  0.71008621  0.64781609  0.68376437], Average AUC 0.679251585825\n",
      "n trees: 80, CV AUC [ 0.71231936  0.66238506  0.71031609  0.65227011  0.66445402], Average AUC 0.68034892927\n",
      "n trees: 85, CV AUC [ 0.69360424  0.66353448  0.7133908   0.65020115  0.67353448], Average AUC 0.678853030953\n",
      "n trees: 90, CV AUC [ 0.69188725  0.66304598  0.70896552  0.64356322  0.69166667], Average AUC 0.679825726141\n",
      "n trees: 95, CV AUC [ 0.69723852  0.66178161  0.70353448  0.66043103  0.67247126], Average AUC 0.679091381695\n",
      "n trees: 100, CV AUC [ 0.69543568  0.65603448  0.71166667  0.65181034  0.67787356], Average AUC 0.678564148424\n",
      "n trees: 105, CV AUC [ 0.69689512  0.67336207  0.70732759  0.65402299  0.68224138], Average AUC 0.682769828779\n",
      "n trees: 110, CV AUC [ 0.6903992   0.66333333  0.70471264  0.65520115  0.67718391], Average AUC 0.678166046645\n",
      "n trees: 115, CV AUC [ 0.69675204  0.65833333  0.71612069  0.64942529  0.67646552], Average AUC 0.679419373301\n",
      "n trees: 120, CV AUC [ 0.6991272   0.65821839  0.70801724  0.65318966  0.67287356], Average AUC 0.678285210092\n",
      "n trees: 125, CV AUC [ 0.70336243  0.66227011  0.70655172  0.6529023   0.68442529], Average AUC 0.681902370392\n",
      "n trees: 130, CV AUC [ 0.69440549  0.65505747  0.71146552  0.66045977  0.67816092], Average AUC 0.679909834502\n",
      "n trees: 135, CV AUC [ 0.70110173  0.65678161  0.70781609  0.65439655  0.67390805], Average AUC 0.678800806029\n",
      "n trees: 140, CV AUC [ 0.70570897  0.66172414  0.71270115  0.65324713  0.67206897], Average AUC 0.68109007011\n",
      "n trees: 145, CV AUC [ 0.70639576  0.66505747  0.70850575  0.65272989  0.68718391], Average AUC 0.683974555253\n"
     ]
    }
   ],
   "source": [
    "np.random.seed(1)\n",
    "#scores = cross_val_score(model, X, y, scoring='roc_auc', cv=5)\n",
    "#print \"Cross-validated AUC scores: \", scores\n",
    "#print \"Average AUC:\", scores.mean()\n",
    "#print\n",
    "\n",
    "for n_trees in range(50, 150,5):\n",
    "    model = RandomForestClassifier(max_depth=16, min_samples_leaf=16,n_estimators = n_trees)\n",
    "    scores = cross_val_score(model, X, y, scoring='roc_auc', cv=5)\n",
    "    \n",
    "    print('n trees: {}, CV AUC {}, Average AUC {}'.format(n_trees, scores, scores.mean()))"
   ]
  },
  {
   "cell_type": "code",
   "execution_count": 184,
   "metadata": {
    "collapsed": false
   },
   "outputs": [
    {
     "name": "stdout",
     "output_type": "stream",
     "text": [
      "0.683087900033\n"
     ]
    }
   ],
   "source": [
    "np.random.seed(1)\n",
    "model = RandomForestClassifier(max_depth=16, min_samples_leaf=16, n_estimators = 65)\n",
    "scores = cross_val_score(model, X, y, scoring='roc_auc', cv=5)\n",
    "model.fit(X, y)\n",
    "predictionsRF = model.predict(X)\n",
    "print scores.mean()"
   ]
  },
  {
   "cell_type": "code",
   "execution_count": 185,
   "metadata": {
    "collapsed": false
   },
   "outputs": [
    {
     "data": {
      "text/html": [
       "<div>\n",
       "<table border=\"1\" class=\"dataframe\">\n",
       "  <thead>\n",
       "    <tr style=\"text-align: right;\">\n",
       "      <th></th>\n",
       "      <th>Features</th>\n",
       "      <th>Importance Score</th>\n",
       "    </tr>\n",
       "  </thead>\n",
       "  <tbody>\n",
       "    <tr>\n",
       "      <th>6</th>\n",
       "      <td>GDPPC_2012</td>\n",
       "      <td>0.213931</td>\n",
       "    </tr>\n",
       "    <tr>\n",
       "      <th>3</th>\n",
       "      <td>OM12</td>\n",
       "      <td>0.177221</td>\n",
       "    </tr>\n",
       "    <tr>\n",
       "      <th>7</th>\n",
       "      <td>CPI_2012_Score</td>\n",
       "      <td>0.147731</td>\n",
       "    </tr>\n",
       "    <tr>\n",
       "      <th>2</th>\n",
       "      <td>IPPL12</td>\n",
       "      <td>0.111292</td>\n",
       "    </tr>\n",
       "    <tr>\n",
       "      <th>5</th>\n",
       "      <td>subs</td>\n",
       "      <td>0.108544</td>\n",
       "    </tr>\n",
       "    <tr>\n",
       "      <th>1</th>\n",
       "      <td>IPasset12</td>\n",
       "      <td>0.104828</td>\n",
       "    </tr>\n",
       "    <tr>\n",
       "      <th>4</th>\n",
       "      <td>gearing12</td>\n",
       "      <td>0.096159</td>\n",
       "    </tr>\n",
       "    <tr>\n",
       "      <th>10</th>\n",
       "      <td>actyname_Services</td>\n",
       "      <td>0.016348</td>\n",
       "    </tr>\n",
       "    <tr>\n",
       "      <th>9</th>\n",
       "      <td>actyname_Manufacturing; Wholesale</td>\n",
       "      <td>0.013279</td>\n",
       "    </tr>\n",
       "    <tr>\n",
       "      <th>13</th>\n",
       "      <td>actyname_other</td>\n",
       "      <td>0.008312</td>\n",
       "    </tr>\n",
       "  </tbody>\n",
       "</table>\n",
       "</div>"
      ],
      "text/plain": [
       "                             Features  Importance Score\n",
       "6                          GDPPC_2012          0.213931\n",
       "3                                OM12          0.177221\n",
       "7                      CPI_2012_Score          0.147731\n",
       "2                              IPPL12          0.111292\n",
       "5                                subs          0.108544\n",
       "1                           IPasset12          0.104828\n",
       "4                           gearing12          0.096159\n",
       "10                  actyname_Services          0.016348\n",
       "9   actyname_Manufacturing; Wholesale          0.013279\n",
       "13                     actyname_other          0.008312"
      ]
     },
     "execution_count": 185,
     "metadata": {},
     "output_type": "execute_result"
    }
   ],
   "source": [
    "model.fit(X, y)\n",
    "\n",
    "# Get columns and their scores\n",
    "features = X.columns\n",
    "feature_importances = model.feature_importances_\n",
    "features_data_2012 = pd.DataFrame({'Features': features, 'Importance Score': feature_importances})\n",
    "features_data_2012.sort_values('Importance Score', inplace=True, ascending=False)\n",
    "\n",
    "features_data_2012.head(10)"
   ]
  },
  {
   "cell_type": "code",
   "execution_count": 186,
   "metadata": {
    "collapsed": false,
    "scrolled": true
   },
   "outputs": [
    {
     "data": {
      "text/html": [
       "<div>\n",
       "<table border=\"1\" class=\"dataframe\">\n",
       "  <thead>\n",
       "    <tr style=\"text-align: right;\">\n",
       "      <th>elasticity12</th>\n",
       "      <th>0</th>\n",
       "      <th>1</th>\n",
       "    </tr>\n",
       "    <tr>\n",
       "      <th>row_0</th>\n",
       "      <th></th>\n",
       "      <th></th>\n",
       "    </tr>\n",
       "  </thead>\n",
       "  <tbody>\n",
       "    <tr>\n",
       "      <th>0</th>\n",
       "      <td>1093</td>\n",
       "      <td>398</td>\n",
       "    </tr>\n",
       "    <tr>\n",
       "      <th>1</th>\n",
       "      <td>108</td>\n",
       "      <td>327</td>\n",
       "    </tr>\n",
       "  </tbody>\n",
       "</table>\n",
       "</div>"
      ],
      "text/plain": [
       "elasticity12     0    1\n",
       "row_0                  \n",
       "0             1093  398\n",
       "1              108  327"
      ]
     },
     "execution_count": 186,
     "metadata": {},
     "output_type": "execute_result"
    }
   ],
   "source": [
    "pd.crosstab(predictionsRF,data_2012['elasticity12'])"
   ]
  },
  {
   "cell_type": "code",
   "execution_count": 187,
   "metadata": {
    "collapsed": false
   },
   "outputs": [
    {
     "data": {
      "text/plain": [
       "array([[1093,  108],\n",
       "       [ 398,  327]])"
      ]
     },
     "execution_count": 187,
     "metadata": {},
     "output_type": "execute_result"
    }
   ],
   "source": [
    "from sklearn.metrics import confusion_matrix\n",
    "confusion_matrix(data_2012['elasticity12'],predictionsRF)"
   ]
  },
  {
   "cell_type": "code",
   "execution_count": 188,
   "metadata": {
    "collapsed": false
   },
   "outputs": [
    {
     "name": "stdout",
     "output_type": "stream",
     "text": [
      "Cross-validated AUC scores:  [ 0.57195593  0.5595546   0.56522989  0.55193966  0.59468391]\n",
      "Average AUC: 0.568672795345\n"
     ]
    }
   ],
   "source": [
    "train_cols2= ['elasticity12','OM12','gearing12','subs','IPasset12','GDPPC_2012','IPPL12','CPI_2012_Score']\n",
    "\n",
    "X = data_2012[train_cols2].copy()\n",
    "y = X['elasticity12']\n",
    "X.drop('elasticity12', axis=1, inplace=True)\n",
    "\n",
    "# Fit the model\n",
    "model = DecisionTreeClassifier()\n",
    "model.fit(X, y)\n",
    "\n",
    "scores = cross_val_score(DecisionTreeClassifier(), X, y, scoring='roc_auc', cv=5)\n",
    "\n",
    "print \"Cross-validated AUC scores: \", scores\n",
    "print \"Average AUC:\", scores.mean()\n",
    "\n"
   ]
  },
  {
   "cell_type": "code",
   "execution_count": 189,
   "metadata": {
    "collapsed": false
   },
   "outputs": [
    {
     "name": "stdout",
     "output_type": "stream",
     "text": [
      "0.681542757667\n"
     ]
    }
   ],
   "source": [
    "np.random.seed(1)\n",
    "model = RandomForestClassifier(max_depth=16, min_samples_leaf=16, n_estimators = 60)\n",
    "scores = cross_val_score(model, X, y, scoring='roc_auc', cv=5)\n",
    "model.fit(X, y)\n",
    "predictionsRF2 = model.predict(X)\n",
    "print scores.mean()"
   ]
  },
  {
   "cell_type": "code",
   "execution_count": 190,
   "metadata": {
    "collapsed": false
   },
   "outputs": [
    {
     "data": {
      "text/html": [
       "<div>\n",
       "<table border=\"1\" class=\"dataframe\">\n",
       "  <thead>\n",
       "    <tr style=\"text-align: right;\">\n",
       "      <th>elasticity12</th>\n",
       "      <th>0</th>\n",
       "      <th>1</th>\n",
       "    </tr>\n",
       "    <tr>\n",
       "      <th>row_0</th>\n",
       "      <th></th>\n",
       "      <th></th>\n",
       "    </tr>\n",
       "  </thead>\n",
       "  <tbody>\n",
       "    <tr>\n",
       "      <th>0</th>\n",
       "      <td>1095</td>\n",
       "      <td>365</td>\n",
       "    </tr>\n",
       "    <tr>\n",
       "      <th>1</th>\n",
       "      <td>106</td>\n",
       "      <td>360</td>\n",
       "    </tr>\n",
       "  </tbody>\n",
       "</table>\n",
       "</div>"
      ],
      "text/plain": [
       "elasticity12     0    1\n",
       "row_0                  \n",
       "0             1095  365\n",
       "1              106  360"
      ]
     },
     "execution_count": 190,
     "metadata": {},
     "output_type": "execute_result"
    }
   ],
   "source": [
    "pd.crosstab(predictionsRF2,data_2012['elasticity12'])"
   ]
  },
  {
   "cell_type": "code",
   "execution_count": 191,
   "metadata": {
    "collapsed": false
   },
   "outputs": [
    {
     "name": "stdout",
     "output_type": "stream",
     "text": [
      "Cross-validated AUC scores:  [ 0.60439262  0.55890805  0.61867816  0.57693966  0.58103448]\n",
      "Average AUC: 0.587990592359\n"
     ]
    }
   ],
   "source": [
    "train_cols3= ['elasticity12','OM12','IPasset12','GDPPC_2012','IPPL12','CPI_2012_Score', 'actyname_Services', 'actyname_Wholesale', 'actyname_other']\n",
    "\n",
    "X = data_2012[train_cols3].copy()\n",
    "y = X['elasticity12']\n",
    "X.drop('elasticity12', axis=1, inplace=True)\n",
    "\n",
    "# Fit the model\n",
    "model = DecisionTreeClassifier()\n",
    "model.fit(X, y)\n",
    "\n",
    "scores = cross_val_score(DecisionTreeClassifier(), X, y, scoring='roc_auc', cv=5)\n",
    "\n",
    "print \"Cross-validated AUC scores: \", scores\n",
    "print \"Average AUC:\", scores.mean()\n"
   ]
  },
  {
   "cell_type": "code",
   "execution_count": 192,
   "metadata": {
    "collapsed": false
   },
   "outputs": [
    {
     "name": "stdout",
     "output_type": "stream",
     "text": [
      "n trees: 60, CV AUC [ 0.70286164  0.67380747  0.71698276  0.68711207  0.70788793], Average AUC 0.697730373921\n",
      "n trees: 63, CV AUC [ 0.69969953  0.66702586  0.71433908  0.67505747  0.69182471], Average AUC 0.689589330853\n",
      "n trees: 66, CV AUC [ 0.69673773  0.66510057  0.71163793  0.67321839  0.6999569 ], Average AUC 0.689330304765\n",
      "n trees: 69, CV AUC [ 0.70744026  0.67047414  0.70978448  0.67622126  0.69899425], Average AUC 0.69258288024\n",
      "n trees: 72, CV AUC [ 0.71161826  0.66521552  0.72110632  0.66998563  0.71320402], Average AUC 0.696225950303\n",
      "n trees: 75, CV AUC [ 0.70480755  0.67053161  0.71666667  0.6821408   0.69896552], Average AUC 0.694622430486\n",
      "n trees: 78, CV AUC [ 0.7078552   0.66331897  0.70527299  0.66877874  0.69823276], Average AUC 0.688691729861\n",
      "n trees: 81, CV AUC [ 0.70015739  0.6645546   0.71354885  0.67905172  0.70590517], Average AUC 0.692643547002\n",
      "n trees: 84, CV AUC [ 0.70193161  0.65872126  0.71484195  0.67353448  0.70199713], Average AUC 0.690205286879\n",
      "n trees: 87, CV AUC [ 0.70559451  0.67360632  0.70890805  0.6762931   0.70005747], Average AUC 0.692891889636\n",
      "n trees: 90, CV AUC [ 0.71024467  0.66438218  0.71561782  0.67360632  0.70613506], Average AUC 0.693997209901\n",
      "n trees: 93, CV AUC [ 0.70301903  0.65711207  0.72142241  0.6862069   0.6999569 ], Average AUC 0.693543461153\n",
      "n trees: 96, CV AUC [ 0.71452282  0.66507184  0.71672414  0.68202586  0.70386494], Average AUC 0.696441920637\n",
      "n trees: 99, CV AUC [ 0.71718415  0.6650431   0.7125431   0.67395115  0.70435345], Average AUC 0.694614990223\n"
     ]
    }
   ],
   "source": [
    "np.random.seed(1)\n",
    "for n_trees in range(60,102,3):\n",
    "    model = RandomForestClassifier(max_depth=16, min_samples_leaf=16, n_estimators = n_trees)\n",
    "    scores = cross_val_score(model, X, y, scoring='roc_auc', cv=5)\n",
    "\n",
    "    print('n trees: {}, CV AUC {}, Average AUC {}'.format(n_trees, scores, scores.mean()))\n"
   ]
  },
  {
   "cell_type": "code",
   "execution_count": 193,
   "metadata": {
    "collapsed": false
   },
   "outputs": [
    {
     "name": "stdout",
     "output_type": "stream",
     "text": [
      "0.697730373921\n"
     ]
    }
   ],
   "source": [
    "np.random.seed(1)\n",
    "model = RandomForestClassifier(max_depth=16, min_samples_leaf=16, n_estimators = 60)\n",
    "scores = cross_val_score(model, X, y, scoring='roc_auc', cv=5)\n",
    "model.fit(X, y)\n",
    "predictionsRF3 = model.predict(X)\n",
    "print scores.mean()"
   ]
  },
  {
   "cell_type": "code",
   "execution_count": 194,
   "metadata": {
    "collapsed": false
   },
   "outputs": [
    {
     "data": {
      "text/html": [
       "<div>\n",
       "<table border=\"1\" class=\"dataframe\">\n",
       "  <thead>\n",
       "    <tr style=\"text-align: right;\">\n",
       "      <th>elasticity12</th>\n",
       "      <th>0</th>\n",
       "      <th>1</th>\n",
       "    </tr>\n",
       "    <tr>\n",
       "      <th>row_0</th>\n",
       "      <th></th>\n",
       "      <th></th>\n",
       "    </tr>\n",
       "  </thead>\n",
       "  <tbody>\n",
       "    <tr>\n",
       "      <th>0</th>\n",
       "      <td>1064</td>\n",
       "      <td>404</td>\n",
       "    </tr>\n",
       "    <tr>\n",
       "      <th>1</th>\n",
       "      <td>137</td>\n",
       "      <td>321</td>\n",
       "    </tr>\n",
       "  </tbody>\n",
       "</table>\n",
       "</div>"
      ],
      "text/plain": [
       "elasticity12     0    1\n",
       "row_0                  \n",
       "0             1064  404\n",
       "1              137  321"
      ]
     },
     "execution_count": 194,
     "metadata": {},
     "output_type": "execute_result"
    }
   ],
   "source": [
    "pd.crosstab(predictionsRF3,data_2012['elasticity12'])"
   ]
  },
  {
   "cell_type": "code",
   "execution_count": 195,
   "metadata": {
    "collapsed": false
   },
   "outputs": [
    {
     "data": {
      "text/html": [
       "<div>\n",
       "<table border=\"1\" class=\"dataframe\">\n",
       "  <thead>\n",
       "    <tr style=\"text-align: right;\">\n",
       "      <th></th>\n",
       "      <th>elasticity12</th>\n",
       "      <th>intercept</th>\n",
       "      <th>IPasset12</th>\n",
       "      <th>IPPL12</th>\n",
       "      <th>OM12</th>\n",
       "      <th>gearing12</th>\n",
       "      <th>subs</th>\n",
       "      <th>GDPPC_2012</th>\n",
       "      <th>CPI_2012_Score</th>\n",
       "      <th>actyname_Manufacturing; Services</th>\n",
       "      <th>actyname_Manufacturing; Wholesale</th>\n",
       "      <th>actyname_Services</th>\n",
       "      <th>actyname_Services; Manufacturing</th>\n",
       "      <th>actyname_Wholesale</th>\n",
       "      <th>actyname_other</th>\n",
       "    </tr>\n",
       "  </thead>\n",
       "  <tbody>\n",
       "    <tr>\n",
       "      <th>count</th>\n",
       "      <td>1926.000000</td>\n",
       "      <td>1926.0</td>\n",
       "      <td>1926.000000</td>\n",
       "      <td>1926.000000</td>\n",
       "      <td>1926.000000</td>\n",
       "      <td>1926.000000</td>\n",
       "      <td>1926.000000</td>\n",
       "      <td>1926.000000</td>\n",
       "      <td>1926.000000</td>\n",
       "      <td>1926.000000</td>\n",
       "      <td>1926.000000</td>\n",
       "      <td>1926.000000</td>\n",
       "      <td>1926.000000</td>\n",
       "      <td>1926.000000</td>\n",
       "      <td>1926.000000</td>\n",
       "    </tr>\n",
       "    <tr>\n",
       "      <th>mean</th>\n",
       "      <td>0.376428</td>\n",
       "      <td>1.0</td>\n",
       "      <td>16.232087</td>\n",
       "      <td>3.571651</td>\n",
       "      <td>11.488079</td>\n",
       "      <td>87.972285</td>\n",
       "      <td>71.828141</td>\n",
       "      <td>46151.194699</td>\n",
       "      <td>73.773105</td>\n",
       "      <td>0.038941</td>\n",
       "      <td>0.166667</td>\n",
       "      <td>0.342160</td>\n",
       "      <td>0.011423</td>\n",
       "      <td>0.018172</td>\n",
       "      <td>0.041018</td>\n",
       "    </tr>\n",
       "    <tr>\n",
       "      <th>std</th>\n",
       "      <td>0.484615</td>\n",
       "      <td>0.0</td>\n",
       "      <td>19.189977</td>\n",
       "      <td>5.611473</td>\n",
       "      <td>12.079024</td>\n",
       "      <td>93.312878</td>\n",
       "      <td>158.645497</td>\n",
       "      <td>13835.259452</td>\n",
       "      <td>9.905262</td>\n",
       "      <td>0.193504</td>\n",
       "      <td>0.372775</td>\n",
       "      <td>0.474556</td>\n",
       "      <td>0.106292</td>\n",
       "      <td>0.133609</td>\n",
       "      <td>0.198383</td>\n",
       "    </tr>\n",
       "    <tr>\n",
       "      <th>min</th>\n",
       "      <td>0.000000</td>\n",
       "      <td>1.0</td>\n",
       "      <td>0.000000</td>\n",
       "      <td>0.000000</td>\n",
       "      <td>0.000000</td>\n",
       "      <td>0.000000</td>\n",
       "      <td>11.000000</td>\n",
       "      <td>1454.650000</td>\n",
       "      <td>25.000000</td>\n",
       "      <td>0.000000</td>\n",
       "      <td>0.000000</td>\n",
       "      <td>0.000000</td>\n",
       "      <td>0.000000</td>\n",
       "      <td>0.000000</td>\n",
       "      <td>0.000000</td>\n",
       "    </tr>\n",
       "    <tr>\n",
       "      <th>25%</th>\n",
       "      <td>0.000000</td>\n",
       "      <td>1.0</td>\n",
       "      <td>1.000000</td>\n",
       "      <td>0.000000</td>\n",
       "      <td>4.325000</td>\n",
       "      <td>26.495000</td>\n",
       "      <td>16.000000</td>\n",
       "      <td>42793.080000</td>\n",
       "      <td>73.000000</td>\n",
       "      <td>0.000000</td>\n",
       "      <td>0.000000</td>\n",
       "      <td>0.000000</td>\n",
       "      <td>0.000000</td>\n",
       "      <td>0.000000</td>\n",
       "      <td>0.000000</td>\n",
       "    </tr>\n",
       "    <tr>\n",
       "      <th>50%</th>\n",
       "      <td>0.000000</td>\n",
       "      <td>1.0</td>\n",
       "      <td>8.000000</td>\n",
       "      <td>1.000000</td>\n",
       "      <td>8.050000</td>\n",
       "      <td>63.190000</td>\n",
       "      <td>29.000000</td>\n",
       "      <td>46972.610000</td>\n",
       "      <td>74.000000</td>\n",
       "      <td>0.000000</td>\n",
       "      <td>0.000000</td>\n",
       "      <td>0.000000</td>\n",
       "      <td>0.000000</td>\n",
       "      <td>0.000000</td>\n",
       "      <td>0.000000</td>\n",
       "    </tr>\n",
       "    <tr>\n",
       "      <th>75%</th>\n",
       "      <td>1.000000</td>\n",
       "      <td>1.0</td>\n",
       "      <td>26.000000</td>\n",
       "      <td>4.000000</td>\n",
       "      <td>14.160000</td>\n",
       "      <td>113.970000</td>\n",
       "      <td>66.000000</td>\n",
       "      <td>49601.410000</td>\n",
       "      <td>79.000000</td>\n",
       "      <td>0.000000</td>\n",
       "      <td>0.000000</td>\n",
       "      <td>1.000000</td>\n",
       "      <td>0.000000</td>\n",
       "      <td>0.000000</td>\n",
       "      <td>0.000000</td>\n",
       "    </tr>\n",
       "    <tr>\n",
       "      <th>max</th>\n",
       "      <td>1.000000</td>\n",
       "      <td>1.0</td>\n",
       "      <td>89.000000</td>\n",
       "      <td>53.000000</td>\n",
       "      <td>100.000000</td>\n",
       "      <td>813.190000</td>\n",
       "      <td>2670.000000</td>\n",
       "      <td>106958.460000</td>\n",
       "      <td>90.000000</td>\n",
       "      <td>1.000000</td>\n",
       "      <td>1.000000</td>\n",
       "      <td>1.000000</td>\n",
       "      <td>1.000000</td>\n",
       "      <td>1.000000</td>\n",
       "      <td>1.000000</td>\n",
       "    </tr>\n",
       "  </tbody>\n",
       "</table>\n",
       "</div>"
      ],
      "text/plain": [
       "       elasticity12  intercept    IPasset12       IPPL12         OM12  \\\n",
       "count   1926.000000     1926.0  1926.000000  1926.000000  1926.000000   \n",
       "mean       0.376428        1.0    16.232087     3.571651    11.488079   \n",
       "std        0.484615        0.0    19.189977     5.611473    12.079024   \n",
       "min        0.000000        1.0     0.000000     0.000000     0.000000   \n",
       "25%        0.000000        1.0     1.000000     0.000000     4.325000   \n",
       "50%        0.000000        1.0     8.000000     1.000000     8.050000   \n",
       "75%        1.000000        1.0    26.000000     4.000000    14.160000   \n",
       "max        1.000000        1.0    89.000000    53.000000   100.000000   \n",
       "\n",
       "         gearing12         subs     GDPPC_2012  CPI_2012_Score  \\\n",
       "count  1926.000000  1926.000000    1926.000000     1926.000000   \n",
       "mean     87.972285    71.828141   46151.194699       73.773105   \n",
       "std      93.312878   158.645497   13835.259452        9.905262   \n",
       "min       0.000000    11.000000    1454.650000       25.000000   \n",
       "25%      26.495000    16.000000   42793.080000       73.000000   \n",
       "50%      63.190000    29.000000   46972.610000       74.000000   \n",
       "75%     113.970000    66.000000   49601.410000       79.000000   \n",
       "max     813.190000  2670.000000  106958.460000       90.000000   \n",
       "\n",
       "       actyname_Manufacturing; Services  actyname_Manufacturing; Wholesale  \\\n",
       "count                       1926.000000                        1926.000000   \n",
       "mean                           0.038941                           0.166667   \n",
       "std                            0.193504                           0.372775   \n",
       "min                            0.000000                           0.000000   \n",
       "25%                            0.000000                           0.000000   \n",
       "50%                            0.000000                           0.000000   \n",
       "75%                            0.000000                           0.000000   \n",
       "max                            1.000000                           1.000000   \n",
       "\n",
       "       actyname_Services  actyname_Services; Manufacturing  \\\n",
       "count        1926.000000                       1926.000000   \n",
       "mean            0.342160                          0.011423   \n",
       "std             0.474556                          0.106292   \n",
       "min             0.000000                          0.000000   \n",
       "25%             0.000000                          0.000000   \n",
       "50%             0.000000                          0.000000   \n",
       "75%             1.000000                          0.000000   \n",
       "max             1.000000                          1.000000   \n",
       "\n",
       "       actyname_Wholesale  actyname_other  \n",
       "count         1926.000000     1926.000000  \n",
       "mean             0.018172        0.041018  \n",
       "std              0.133609        0.198383  \n",
       "min              0.000000        0.000000  \n",
       "25%              0.000000        0.000000  \n",
       "50%              0.000000        0.000000  \n",
       "75%              0.000000        0.000000  \n",
       "max              1.000000        1.000000  "
      ]
     },
     "execution_count": 195,
     "metadata": {},
     "output_type": "execute_result"
    }
   ],
   "source": [
    "data_2012.describe()"
   ]
  },
  {
   "cell_type": "code",
   "execution_count": null,
   "metadata": {
    "collapsed": true
   },
   "outputs": [],
   "source": []
  }
 ],
 "metadata": {
  "kernelspec": {
   "display_name": "Python 2",
   "language": "python",
   "name": "python2"
  },
  "language_info": {
   "codemirror_mode": {
    "name": "ipython",
    "version": 2
   },
   "file_extension": ".py",
   "mimetype": "text/x-python",
   "name": "python",
   "nbconvert_exporter": "python",
   "pygments_lexer": "ipython2",
   "version": "2.7.11"
  }
 },
 "nbformat": 4,
 "nbformat_minor": 0
}
